{
 "cells": [
  {
   "cell_type": "code",
   "execution_count": 1,
   "id": "22cf1a2c-5c69-48ae-a537-76f4ed71fd6d",
   "metadata": {},
   "outputs": [],
   "source": [
    "import os\n",
    "import json\n",
    "from openai import OpenAI\n",
    "from pydantic import BaseModel, Field\n",
    "from IPython.display import HTML, display\n",
    "import pandas as pd"
   ]
  },
  {
   "cell_type": "code",
   "execution_count": null,
   "id": "15526668-3989-4766-b023-74d2b1d2767e",
   "metadata": {},
   "outputs": [],
   "source": [
    "key =  # ADD OPEN AI KEY HERE\n",
    "client = OpenAI(api_key=key)"
   ]
  },
  {
   "cell_type": "markdown",
   "id": "485fc0b4-14a4-461b-b102-21d1f012aeb0",
   "metadata": {},
   "source": [
    "## Prompts"
   ]
  },
  {
   "cell_type": "code",
   "execution_count": 3,
   "id": "ff0c94eb-6838-44e3-823f-2672151819dc",
   "metadata": {},
   "outputs": [
    {
     "data": {
      "text/html": [
       "\n",
       "# Introduction and Role Setting:\n",
       "You are a systematic reviewer who is an expert in risk of bias assessment of papers in environmental policies. You are particularly good at learning evaluation criteria, and closely following them to assess the risk of bias of climate and energy studies. \n",
       "You can fully understand and follow the evaluation criteria and evaluate the studies I have provided to you. Make sure all your judgments are based on the facts reported in the article and not on any extrapolation or speculation of your own.\n",
       "## Guidelines for Evaluation:\n",
       "### Important:\n",
       "- If there is too little information to support the judgment, do not speculate positively.\n",
       "- Reply with ONLY one of \"**Yes**\" or \"**No**\" and provide an explanation.\n",
       "\n",
       "\n",
       "# Output Format\n",
       "\n",
       "Please output the result STRICTLY in the format below:\n",
       "\n",
       "{\n",
       "  \"Explanation\": str,\n",
       "  \"Reply\": str\n",
       "}\n",
       "\n",
       "where Explanation is the detailed reasoning that supports the Reply, based on evidence from the document, and Reply is the overall judgement (respond only with one of ['**Yes**', '**No**']).\n"
      ],
      "text/plain": [
       "<IPython.core.display.HTML object>"
      ]
     },
     "metadata": {},
     "output_type": "display_data"
    }
   ],
   "source": [
    "import importlib\n",
    "import prompts\n",
    "from prompts import *\n",
    "intro_and_output = \"\\n\".join([intro_prompt, output_format])\n",
    "display(HTML(intro_and_output))"
   ]
  },
  {
   "cell_type": "markdown",
   "id": "294f4d4d-88d4-4512-9305-f471d6a6bb5b",
   "metadata": {},
   "source": [
    "# Functions"
   ]
  },
  {
   "cell_type": "code",
   "execution_count": 4,
   "id": "23db6f6b-ca27-411f-99bb-c1f8b6f013fc",
   "metadata": {
    "ExecuteTime": {
     "end_time": "2025-10-09T21:41:54.322953Z",
     "start_time": "2025-10-09T21:41:54.317577Z"
    }
   },
   "outputs": [],
   "source": [
    "folder = \"files\"\n",
    "plain_text_files = [\n",
    "        f for f in sorted(os.listdir(folder))\n",
    "        if f.lower().endswith((\".txt\", \".md\"))\n",
    "]"
   ]
  },
  {
   "cell_type": "code",
   "execution_count": 5,
   "id": "7fc2ae51b3ef041c",
   "metadata": {
    "ExecuteTime": {
     "end_time": "2025-10-09T21:41:55.986085Z",
     "start_time": "2025-10-09T21:41:55.976546Z"
    }
   },
   "outputs": [],
   "source": [
    "def responses_call(document, intro_prompt, criteria_prompt): \n",
    "        response = client.responses.create(\n",
    "        model='gpt-4o',\n",
    "        temperature=0.1,\n",
    "        instructions=intro_prompt,\n",
    "        input=[\n",
    "            {\n",
    "                \"role\": \"user\",\n",
    "                \"content\": [\n",
    "                    {\n",
    "                        \"type\": \"input_text\",\n",
    "                        \"text\": f\"{criteria_prompt}\\n\"\n",
    "                    },\n",
    "                    {\n",
    "                        \"type\": \"input_text\",\n",
    "                        \"text\": f\"\\nHere is the paper:\\n{document}\"\n",
    "                    }\n",
    "                ]\n",
    "            },\n",
    "        ]\n",
    "    )\n",
    "        response_text = response.output_text\n",
    "        return response_text   "
   ]
  },
  {
   "cell_type": "code",
   "execution_count": 6,
   "id": "c5e71686",
   "metadata": {},
   "outputs": [],
   "source": [
    "def extract_responses(intro_prompt, criteria_prompt):\n",
    "    responses = []\n",
    "    for i, file_name in enumerate(plain_text_files):\n",
    "        with open(os.path.join(folder, file_name), \"r\", encoding=\"utf-8\") as f:\n",
    "            document = f.read()\n",
    "        response_text = responses_call(document, intro_prompt=intro_prompt, criteria_prompt=criteria_prompt)\n",
    "        resp_dict = {\n",
    "            'file_name':  file_name,\n",
    "            'response_text': response_text\n",
    "        }\n",
    "        responses.append(resp_dict)\n",
    "    return responses"
   ]
  },
  {
   "cell_type": "code",
   "execution_count": 7,
   "id": "1aba0cb3",
   "metadata": {},
   "outputs": [],
   "source": [
    "def add_results_to_dataframe(responses, criteria_name):\n",
    "    \"\"\"\n",
    "    Add results to test_results dataframe and include human answers from airs_answers.csv.\n",
    "    \"\"\"\n",
    "    # Extract filenames and results from responses\n",
    "    filenames = []\n",
    "    results = []\n",
    "    ids = []\n",
    "\n",
    "    for i, resp in enumerate(responses, start=1):\n",
    "        file_name = resp['file_name']\n",
    "        response_data = json.loads(resp['response_text'])\n",
    "        result = response_data.get('Reply', 'N/A')\n",
    "\n",
    "        ids.append(i)\n",
    "        filenames.append(file_name)\n",
    "        results.append(result)\n",
    "\n",
    "    global test_results\n",
    "    try:\n",
    "        test_results\n",
    "    except NameError:\n",
    "        # Create new dataframe if it doesn't exist\n",
    "        test_results = pd.DataFrame({\n",
    "            'id': ids,\n",
    "            'names': filenames\n",
    "        })\n",
    "\n",
    "    test_results[criteria_name] = test_results['id'].map(\n",
    "            dict(zip(ids, results))\n",
    "        )\n",
    "\n",
    "    # Load human answers from airs_answers.csv\n",
    "    human_answers = pd.read_csv('airs_answers.csv')\n",
    "\n",
    "    # Add human answer column with _human suffix, mapping by id\n",
    "    human_column_name = f'{criteria_name}_human'\n",
    "    test_results[human_column_name] = test_results['id'].map(\n",
    "        dict(zip(human_answers['id'], human_answers[criteria_name]))\n",
    "    )\n",
    "\n",
    "    # Print only relevant columns\n",
    "    relevant_columns = ['names', criteria_name, human_column_name]\n",
    "    display(test_results[relevant_columns])\n",
    "\n",
    "    return test_results"
   ]
  },
  {
   "cell_type": "code",
   "execution_count": 8,
   "id": "stzxllyqxm",
   "metadata": {},
   "outputs": [],
   "source": [
    "def display_responses(responses):\n",
    "    \"\"\"\n",
    "    Display responses with filename, explanation, and result\n",
    "    \"\"\"\n",
    "    for i, resp in enumerate(responses, 1):\n",
    "        file_name = resp['file_name']\n",
    "        response_data = json.loads(resp['response_text'])\n",
    "        explanation = response_data.get('Explanation', 'N/A')\n",
    "        result = response_data.get('Reply', 'N/A')\n",
    "        \n",
    "        # Display each part\n",
    "        display(HTML(f\"<h3>Response {i}</h3>\"))\n",
    "        display(HTML(f\"<strong>File Name:</strong> {file_name}\"))\n",
    "        display(HTML(f\"<strong>Explanation:</strong> {explanation}\"))\n",
    "        display(HTML(f\"<strong>Result:</strong> {result}\"))\n",
    "        display(HTML(\"<hr>\"))\n"
   ]
  },
  {
   "cell_type": "markdown",
   "id": "1fce4288",
   "metadata": {},
   "source": [
    "# Criteria 1"
   ]
  },
  {
   "cell_type": "markdown",
   "id": "a3987f05",
   "metadata": {},
   "source": [
    "## 1.2"
   ]
  },
  {
   "cell_type": "markdown",
   "id": "586c1f25",
   "metadata": {},
   "source": [
    "### v1"
   ]
  },
  {
   "cell_type": "code",
   "execution_count": 9,
   "id": "77c85131",
   "metadata": {},
   "outputs": [
    {
     "data": {
      "text/html": [
       "\n",
       "# Risk of Bias Assessment Criteria\n",
       "### 1.2) Confounder All: \n",
       "Did the authors control for all the potential confounders?\n",
       "Consider the following:\n",
       "- If any potential confounder was unmeasured, unadjusted, or found irrelevant but plausibly related to the outcome, respond **No**.\n",
       "- If all potential confounders were measured, respond **yes**.\n",
       "- Respond **Yes** if the study used randomization and/or statistical adjustment for the main known confounders (e.g., demographics, household characteristics, baseline outcomes, weather, etc.).\n",
       "- Respond **Yes** if minor pretreatment imbalances exist but were adjusted for, or are expected due to chance in randomized designs.\n",
       "- Respond **Yes** if authors acknowledged potential confounders and showed steps to account for them.\n",
       "###\n"
      ],
      "text/plain": [
       "<IPython.core.display.HTML object>"
      ]
     },
     "metadata": {},
     "output_type": "display_data"
    },
    {
     "data": {
      "text/html": [
       "<div>\n",
       "<style scoped>\n",
       "    .dataframe tbody tr th:only-of-type {\n",
       "        vertical-align: middle;\n",
       "    }\n",
       "\n",
       "    .dataframe tbody tr th {\n",
       "        vertical-align: top;\n",
       "    }\n",
       "\n",
       "    .dataframe thead th {\n",
       "        text-align: right;\n",
       "    }\n",
       "</style>\n",
       "<table border=\"1\" class=\"dataframe\">\n",
       "  <thead>\n",
       "    <tr style=\"text-align: right;\">\n",
       "      <th></th>\n",
       "      <th>names</th>\n",
       "      <th>criteria_1_2</th>\n",
       "      <th>criteria_1_2_human</th>\n",
       "    </tr>\n",
       "  </thead>\n",
       "  <tbody>\n",
       "    <tr>\n",
       "      <th>0</th>\n",
       "      <td>Allcott, H (2011).md</td>\n",
       "      <td>**Yes**</td>\n",
       "      <td>no</td>\n",
       "    </tr>\n",
       "    <tr>\n",
       "      <th>1</th>\n",
       "      <td>Andor, Gerster, Peters, Schmidt, 2020.md</td>\n",
       "      <td>Yes</td>\n",
       "      <td>no</td>\n",
       "    </tr>\n",
       "    <tr>\n",
       "      <th>2</th>\n",
       "      <td>Asensio, OI; Delmas, MA (2016).md</td>\n",
       "      <td>Yes</td>\n",
       "      <td>yes</td>\n",
       "    </tr>\n",
       "    <tr>\n",
       "      <th>3</th>\n",
       "      <td>Ayres, Raseman, Shih, 2012.md</td>\n",
       "      <td>Yes</td>\n",
       "      <td>no</td>\n",
       "    </tr>\n",
       "    <tr>\n",
       "      <th>4</th>\n",
       "      <td>Bager, S; Mundaca, L (2017).md</td>\n",
       "      <td>No</td>\n",
       "      <td>no</td>\n",
       "    </tr>\n",
       "    <tr>\n",
       "      <th>5</th>\n",
       "      <td>Becker, LJ; Rabinowitz, VC; Seligman, C.md</td>\n",
       "      <td>No</td>\n",
       "      <td>no</td>\n",
       "    </tr>\n",
       "    <tr>\n",
       "      <th>6</th>\n",
       "      <td>Carroll, J; Lyons, S; Denny, E (2014).md</td>\n",
       "      <td>Yes</td>\n",
       "      <td>no</td>\n",
       "    </tr>\n",
       "    <tr>\n",
       "      <th>7</th>\n",
       "      <td>Houde, S; Todd, A; Sudarshan, A; Flora, JA; Ar...</td>\n",
       "      <td>**Yes**</td>\n",
       "      <td>no</td>\n",
       "    </tr>\n",
       "    <tr>\n",
       "      <th>8</th>\n",
       "      <td>Matsukawa, I. (2018).md</td>\n",
       "      <td>**Yes**</td>\n",
       "      <td>no</td>\n",
       "    </tr>\n",
       "    <tr>\n",
       "      <th>9</th>\n",
       "      <td>Nguyen, TTK; Shimada, K; Ochi, Y; Matsumoto, T...</td>\n",
       "      <td>Yes</td>\n",
       "      <td>no</td>\n",
       "    </tr>\n",
       "    <tr>\n",
       "      <th>10</th>\n",
       "      <td>Schleich, J (2013).md</td>\n",
       "      <td>No</td>\n",
       "      <td>yes</td>\n",
       "    </tr>\n",
       "    <tr>\n",
       "      <th>11</th>\n",
       "      <td>Tiefenbeck, V (2013).md</td>\n",
       "      <td>No</td>\n",
       "      <td>yes</td>\n",
       "    </tr>\n",
       "  </tbody>\n",
       "</table>\n",
       "</div>"
      ],
      "text/plain": [
       "                                                names criteria_1_2  \\\n",
       "0                                Allcott, H (2011).md      **Yes**   \n",
       "1            Andor, Gerster, Peters, Schmidt, 2020.md          Yes   \n",
       "2                   Asensio, OI; Delmas, MA (2016).md          Yes   \n",
       "3                       Ayres, Raseman, Shih, 2012.md          Yes   \n",
       "4                      Bager, S; Mundaca, L (2017).md           No   \n",
       "5          Becker, LJ; Rabinowitz, VC; Seligman, C.md           No   \n",
       "6            Carroll, J; Lyons, S; Denny, E (2014).md          Yes   \n",
       "7   Houde, S; Todd, A; Sudarshan, A; Flora, JA; Ar...      **Yes**   \n",
       "8                             Matsukawa, I. (2018).md      **Yes**   \n",
       "9   Nguyen, TTK; Shimada, K; Ochi, Y; Matsumoto, T...          Yes   \n",
       "10                              Schleich, J (2013).md           No   \n",
       "11                            Tiefenbeck, V (2013).md           No   \n",
       "\n",
       "   criteria_1_2_human  \n",
       "0                  no  \n",
       "1                  no  \n",
       "2                 yes  \n",
       "3                  no  \n",
       "4                  no  \n",
       "5                  no  \n",
       "6                  no  \n",
       "7                  no  \n",
       "8                  no  \n",
       "9                  no  \n",
       "10                yes  \n",
       "11                yes  "
      ]
     },
     "metadata": {},
     "output_type": "display_data"
    }
   ],
   "source": [
    "display(HTML(criteria_prompt12))\n",
    "responses12 = extract_responses(\n",
    "    intro_prompt = intro_and_output, \n",
    "    criteria_prompt=criteria_prompt12\n",
    "    )\n",
    "test_results = add_results_to_dataframe(responses12, 'criteria_1_2')"
   ]
  },
  {
   "cell_type": "code",
   "execution_count": 10,
   "id": "d8d69ba7",
   "metadata": {},
   "outputs": [
    {
     "data": {
      "text/html": [
       "<h3>Response 1</h3>"
      ],
      "text/plain": [
       "<IPython.core.display.HTML object>"
      ]
     },
     "metadata": {},
     "output_type": "display_data"
    },
    {
     "data": {
      "text/html": [
       "<strong>File Name:</strong> Allcott, H (2011).md"
      ],
      "text/plain": [
       "<IPython.core.display.HTML object>"
      ]
     },
     "metadata": {},
     "output_type": "display_data"
    },
    {
     "data": {
      "text/html": [
       "<strong>Explanation:</strong> The study uses randomized field experiments to evaluate the impact of OPOWER's Home Energy Reports on energy consumption. Randomization is a robust method to control for confounders, as it ensures that both observed and unobserved confounders are equally distributed between treatment and control groups. The study also uses statistical adjustments, such as household fixed effects and weather controls, to account for potential confounders like baseline energy usage and weather variations. The authors acknowledge and address potential confounders, providing evidence that they have taken steps to control for them. Therefore, the study meets the criteria for controlling all potential confounders."
      ],
      "text/plain": [
       "<IPython.core.display.HTML object>"
      ]
     },
     "metadata": {},
     "output_type": "display_data"
    },
    {
     "data": {
      "text/html": [
       "<strong>Result:</strong> **Yes**"
      ],
      "text/plain": [
       "<IPython.core.display.HTML object>"
      ]
     },
     "metadata": {},
     "output_type": "display_data"
    },
    {
     "data": {
      "text/html": [
       "<hr>"
      ],
      "text/plain": [
       "<IPython.core.display.HTML object>"
      ]
     },
     "metadata": {},
     "output_type": "display_data"
    },
    {
     "data": {
      "text/html": [
       "<h3>Response 2</h3>"
      ],
      "text/plain": [
       "<IPython.core.display.HTML object>"
      ]
     },
     "metadata": {},
     "output_type": "display_data"
    },
    {
     "data": {
      "text/html": [
       "<strong>File Name:</strong> Andor, Gerster, Peters, Schmidt, 2020.md"
      ],
      "text/plain": [
       "<IPython.core.display.HTML object>"
      ]
     },
     "metadata": {},
     "output_type": "display_data"
    },
    {
     "data": {
      "text/html": [
       "<strong>Explanation:</strong> The study conducted a randomized controlled trial (RCT) among 11,630 households in Germany to assess the effectiveness of home energy reports (HER) on electricity consumption. The randomization was stratified by baseline electricity consumption and billing month, ensuring balance between treatment and control groups. The study acknowledged potential confounders such as baseline consumption levels and adjusted for them in the analysis. The authors also conducted heterogeneity analysis to explore the effects across different consumption levels. However, the study did not explicitly mention controlling for other potential confounders like demographics or weather conditions. Despite this, the use of randomization and stratification by baseline consumption suggests that the main known confounders were considered. Therefore, based on the information provided, the study appears to have controlled for the main potential confounders relevant to the outcome of interest."
      ],
      "text/plain": [
       "<IPython.core.display.HTML object>"
      ]
     },
     "metadata": {},
     "output_type": "display_data"
    },
    {
     "data": {
      "text/html": [
       "<strong>Result:</strong> Yes"
      ],
      "text/plain": [
       "<IPython.core.display.HTML object>"
      ]
     },
     "metadata": {},
     "output_type": "display_data"
    },
    {
     "data": {
      "text/html": [
       "<hr>"
      ],
      "text/plain": [
       "<IPython.core.display.HTML object>"
      ]
     },
     "metadata": {},
     "output_type": "display_data"
    },
    {
     "data": {
      "text/html": [
       "<h3>Response 3</h3>"
      ],
      "text/plain": [
       "<IPython.core.display.HTML object>"
      ]
     },
     "metadata": {},
     "output_type": "display_data"
    },
    {
     "data": {
      "text/html": [
       "<strong>File Name:</strong> Asensio, OI; Delmas, MA (2016).md"
      ],
      "text/plain": [
       "<IPython.core.display.HTML object>"
      ]
     },
     "metadata": {},
     "output_type": "display_data"
    },
    {
     "data": {
      "text/html": [
       "<strong>Explanation:</strong> The study conducted a randomized controlled trial with 118 households to test the effects of message framing on energy conservation behavior. The authors used advanced metering technologies to provide real-time feedback on electricity consumption, with two treatment groups receiving different types of messages: one focused on health impacts and the other on cost savings. The study controlled for potential confounders by using randomization, ensuring balance between treatment and control groups, and adjusting for household demographics, weather, and seasonality. The authors also acknowledged potential confounders and took steps to account for them, such as using a proxy for environmental ideology and standardizing appliances across households. Therefore, the study appears to have controlled for all potential confounders effectively."
      ],
      "text/plain": [
       "<IPython.core.display.HTML object>"
      ]
     },
     "metadata": {},
     "output_type": "display_data"
    },
    {
     "data": {
      "text/html": [
       "<strong>Result:</strong> Yes"
      ],
      "text/plain": [
       "<IPython.core.display.HTML object>"
      ]
     },
     "metadata": {},
     "output_type": "display_data"
    },
    {
     "data": {
      "text/html": [
       "<hr>"
      ],
      "text/plain": [
       "<IPython.core.display.HTML object>"
      ]
     },
     "metadata": {},
     "output_type": "display_data"
    },
    {
     "data": {
      "text/html": [
       "<h3>Response 4</h3>"
      ],
      "text/plain": [
       "<IPython.core.display.HTML object>"
      ]
     },
     "metadata": {},
     "output_type": "display_data"
    },
    {
     "data": {
      "text/html": [
       "<strong>File Name:</strong> Ayres, Raseman, Shih, 2012.md"
      ],
      "text/plain": [
       "<IPython.core.display.HTML object>"
      ]
     },
     "metadata": {},
     "output_type": "display_data"
    },
    {
     "data": {
      "text/html": [
       "<strong>Explanation:</strong> The study used randomization in both the SMUD and PSE experiments, which helps control for confounders. The authors also controlled for various factors such as house characteristics, household demographics, and weather conditions (cooling and heating degree days). They acknowledged pretreatment imbalances and adjusted for them using statistical methods. The use of household fixed effects and controls for monthly variations further supports the control of potential confounders. Therefore, the study appears to have adequately controlled for potential confounders."
      ],
      "text/plain": [
       "<IPython.core.display.HTML object>"
      ]
     },
     "metadata": {},
     "output_type": "display_data"
    },
    {
     "data": {
      "text/html": [
       "<strong>Result:</strong> Yes"
      ],
      "text/plain": [
       "<IPython.core.display.HTML object>"
      ]
     },
     "metadata": {},
     "output_type": "display_data"
    },
    {
     "data": {
      "text/html": [
       "<hr>"
      ],
      "text/plain": [
       "<IPython.core.display.HTML object>"
      ]
     },
     "metadata": {},
     "output_type": "display_data"
    },
    {
     "data": {
      "text/html": [
       "<h3>Response 5</h3>"
      ],
      "text/plain": [
       "<IPython.core.display.HTML object>"
      ]
     },
     "metadata": {},
     "output_type": "display_data"
    },
    {
     "data": {
      "text/html": [
       "<strong>File Name:</strong> Bager, S; Mundaca, L (2017).md"
      ],
      "text/plain": [
       "<IPython.core.display.HTML object>"
      ]
     },
     "metadata": {},
     "output_type": "display_data"
    },
    {
     "data": {
      "text/html": [
       "<strong>Explanation:</strong> The study used a 'recruit and deny' randomised strategy to assign households to reference and intervention groups, which suggests an attempt to control for confounders through randomization. However, the paper does not provide detailed information on whether all potential confounders, such as socio-economic and demographic variables, were measured or adjusted for. The authors acknowledge that socio-economic data was not obtained due to privacy considerations, which indicates that not all potential confounders were controlled. Additionally, the small sample size and lack of detailed socio-economic data further limit the ability to control for all potential confounders."
      ],
      "text/plain": [
       "<IPython.core.display.HTML object>"
      ]
     },
     "metadata": {},
     "output_type": "display_data"
    },
    {
     "data": {
      "text/html": [
       "<strong>Result:</strong> No"
      ],
      "text/plain": [
       "<IPython.core.display.HTML object>"
      ]
     },
     "metadata": {},
     "output_type": "display_data"
    },
    {
     "data": {
      "text/html": [
       "<hr>"
      ],
      "text/plain": [
       "<IPython.core.display.HTML object>"
      ]
     },
     "metadata": {},
     "output_type": "display_data"
    },
    {
     "data": {
      "text/html": [
       "<h3>Response 6</h3>"
      ],
      "text/plain": [
       "<IPython.core.display.HTML object>"
      ]
     },
     "metadata": {},
     "output_type": "display_data"
    },
    {
     "data": {
      "text/html": [
       "<strong>File Name:</strong> Becker, LJ; Rabinowitz, VC; Seligman, C.md"
      ],
      "text/plain": [
       "<IPython.core.display.HTML object>"
      ]
     },
     "metadata": {},
     "output_type": "display_data"
    },
    {
     "data": {
      "text/html": [
       "<strong>Explanation:</strong> The study did not use randomization due to the inability to convince utility companies to allow random assignment of customers to payment plans. Instead, a nonequivalent control group design was used, which inherently carries a risk of confounding due to self-selection into the plans. The authors attempted to match control groups by selecting neighbors or nearby households, but this does not fully control for all potential confounders. The study acknowledges the potential for confounding due to self-selection and does not provide evidence of statistical adjustments for known confounders such as demographics or household characteristics. Therefore, the study did not control for all potential confounders."
      ],
      "text/plain": [
       "<IPython.core.display.HTML object>"
      ]
     },
     "metadata": {},
     "output_type": "display_data"
    },
    {
     "data": {
      "text/html": [
       "<strong>Result:</strong> No"
      ],
      "text/plain": [
       "<IPython.core.display.HTML object>"
      ]
     },
     "metadata": {},
     "output_type": "display_data"
    },
    {
     "data": {
      "text/html": [
       "<hr>"
      ],
      "text/plain": [
       "<IPython.core.display.HTML object>"
      ]
     },
     "metadata": {},
     "output_type": "display_data"
    },
    {
     "data": {
      "text/html": [
       "<h3>Response 7</h3>"
      ],
      "text/plain": [
       "<IPython.core.display.HTML object>"
      ]
     },
     "metadata": {},
     "output_type": "display_data"
    },
    {
     "data": {
      "text/html": [
       "<strong>File Name:</strong> Carroll, J; Lyons, S; Denny, E (2014).md"
      ],
      "text/plain": [
       "<IPython.core.display.HTML object>"
      ]
     },
     "metadata": {},
     "output_type": "display_data"
    },
    {
     "data": {
      "text/html": [
       "<strong>Explanation:</strong> The study used a randomized controlled trial design, which inherently controls for confounders through randomization. Additionally, the study collected extensive information on household characteristics, demographics, and attitudes towards energy conservation, which are potential confounders. The authors also used statistical methods like difference-in-difference (DID) models to adjust for these factors. Therefore, the study appears to have adequately controlled for potential confounders."
      ],
      "text/plain": [
       "<IPython.core.display.HTML object>"
      ]
     },
     "metadata": {},
     "output_type": "display_data"
    },
    {
     "data": {
      "text/html": [
       "<strong>Result:</strong> Yes"
      ],
      "text/plain": [
       "<IPython.core.display.HTML object>"
      ]
     },
     "metadata": {},
     "output_type": "display_data"
    },
    {
     "data": {
      "text/html": [
       "<hr>"
      ],
      "text/plain": [
       "<IPython.core.display.HTML object>"
      ]
     },
     "metadata": {},
     "output_type": "display_data"
    },
    {
     "data": {
      "text/html": [
       "<h3>Response 8</h3>"
      ],
      "text/plain": [
       "<IPython.core.display.HTML object>"
      ]
     },
     "metadata": {},
     "output_type": "display_data"
    },
    {
     "data": {
      "text/html": [
       "<strong>File Name:</strong> Houde, S; Todd, A; Sudarshan, A; Flora, JA; Armel, KC (2013).md"
      ],
      "text/plain": [
       "<IPython.core.display.HTML object>"
      ]
     },
     "metadata": {},
     "output_type": "display_data"
    },
    {
     "data": {
      "text/html": [
       "<strong>Explanation:</strong> The study used a randomized controlled trial, which is a strong method for controlling confounders. The authors also included statistical adjustments for weather and household fixed effects, which are common confounders in energy consumption studies. They acknowledged potential confounders and attempted to account for them through their design and analysis. However, the study did not measure or adjust for all possible confounders, such as detailed household characteristics or psychological variables, which they noted did not explain heterogeneity in treatment effects. Despite this, the use of randomization and the adjustments made are sufficient to respond 'Yes' according to the criteria provided."
      ],
      "text/plain": [
       "<IPython.core.display.HTML object>"
      ]
     },
     "metadata": {},
     "output_type": "display_data"
    },
    {
     "data": {
      "text/html": [
       "<strong>Result:</strong> **Yes**"
      ],
      "text/plain": [
       "<IPython.core.display.HTML object>"
      ]
     },
     "metadata": {},
     "output_type": "display_data"
    },
    {
     "data": {
      "text/html": [
       "<hr>"
      ],
      "text/plain": [
       "<IPython.core.display.HTML object>"
      ]
     },
     "metadata": {},
     "output_type": "display_data"
    },
    {
     "data": {
      "text/html": [
       "<h3>Response 9</h3>"
      ],
      "text/plain": [
       "<IPython.core.display.HTML object>"
      ]
     },
     "metadata": {},
     "output_type": "display_data"
    },
    {
     "data": {
      "text/html": [
       "<strong>File Name:</strong> Matsukawa, I. (2018).md"
      ],
      "text/plain": [
       "<IPython.core.display.HTML object>"
      ]
     },
     "metadata": {},
     "output_type": "display_data"
    },
    {
     "data": {
      "text/html": [
       "<strong>Explanation:</strong> The study employed a randomized field experiment, which inherently controls for confounders through randomization. The authors conducted statistical tests to confirm the randomization between treatment and control groups, as shown in Tables 1 and 2. These tests indicated no significant differences in pre-experiment electricity consumption, supporting the assumption that randomization was successful. Additionally, the study used statistical adjustments, such as fixed-effects models, to account for potential confounders related to household characteristics and time-specific effects. The authors also acknowledged potential confounders and took steps to address them, such as clustering standard errors at the household level to correct for serial correlation."
      ],
      "text/plain": [
       "<IPython.core.display.HTML object>"
      ]
     },
     "metadata": {},
     "output_type": "display_data"
    },
    {
     "data": {
      "text/html": [
       "<strong>Result:</strong> **Yes**"
      ],
      "text/plain": [
       "<IPython.core.display.HTML object>"
      ]
     },
     "metadata": {},
     "output_type": "display_data"
    },
    {
     "data": {
      "text/html": [
       "<hr>"
      ],
      "text/plain": [
       "<IPython.core.display.HTML object>"
      ]
     },
     "metadata": {},
     "output_type": "display_data"
    },
    {
     "data": {
      "text/html": [
       "<h3>Response 10</h3>"
      ],
      "text/plain": [
       "<IPython.core.display.HTML object>"
      ]
     },
     "metadata": {},
     "output_type": "display_data"
    },
    {
     "data": {
      "text/html": [
       "<strong>File Name:</strong> Nguyen, TTK; Shimada, K; Ochi, Y; Matsumoto, T; Matsugi, H; Awata, T (2016).md"
      ],
      "text/plain": [
       "<IPython.core.display.HTML object>"
      ]
     },
     "metadata": {},
     "output_type": "display_data"
    },
    {
     "data": {
      "text/html": [
       "<strong>Explanation:</strong> The study employed randomization by dividing 50 households into control and treatment groups, which is a strong method for controlling confounders. The authors used statistical adjustments for known confounders such as weather conditions, household characteristics, and lifestyle factors in their regression models. They also acknowledged potential confounders and took steps to account for them, such as using random effects models and the difference-in-differences method. Therefore, the study appears to have controlled for all potential confounders effectively."
      ],
      "text/plain": [
       "<IPython.core.display.HTML object>"
      ]
     },
     "metadata": {},
     "output_type": "display_data"
    },
    {
     "data": {
      "text/html": [
       "<strong>Result:</strong> Yes"
      ],
      "text/plain": [
       "<IPython.core.display.HTML object>"
      ]
     },
     "metadata": {},
     "output_type": "display_data"
    },
    {
     "data": {
      "text/html": [
       "<hr>"
      ],
      "text/plain": [
       "<IPython.core.display.HTML object>"
      ]
     },
     "metadata": {},
     "output_type": "display_data"
    },
    {
     "data": {
      "text/html": [
       "<h3>Response 11</h3>"
      ],
      "text/plain": [
       "<IPython.core.display.HTML object>"
      ]
     },
     "metadata": {},
     "output_type": "display_data"
    },
    {
     "data": {
      "text/html": [
       "<strong>File Name:</strong> Schleich, J (2013).md"
      ],
      "text/plain": [
       "<IPython.core.display.HTML object>"
      ]
     },
     "metadata": {},
     "output_type": "display_data"
    },
    {
     "data": {
      "text/html": [
       "<strong>Explanation:</strong> The study involved a field trial with random assignment of households into pilot and control groups, which helps control for confounders. The authors used statistical models to control for socio-economic factors and appliance stock, which are potential confounders. They also employed a treatment model to address non-random choice of feedback type, indicating an effort to control for confounding variables. However, the study did not measure or adjust for all possible confounders, such as psychological factors or detailed household behavior, which could influence electricity consumption. The authors acknowledged some limitations but did not fully account for all potential confounders."
      ],
      "text/plain": [
       "<IPython.core.display.HTML object>"
      ]
     },
     "metadata": {},
     "output_type": "display_data"
    },
    {
     "data": {
      "text/html": [
       "<strong>Result:</strong> No"
      ],
      "text/plain": [
       "<IPython.core.display.HTML object>"
      ]
     },
     "metadata": {},
     "output_type": "display_data"
    },
    {
     "data": {
      "text/html": [
       "<hr>"
      ],
      "text/plain": [
       "<IPython.core.display.HTML object>"
      ]
     },
     "metadata": {},
     "output_type": "display_data"
    },
    {
     "data": {
      "text/html": [
       "<h3>Response 12</h3>"
      ],
      "text/plain": [
       "<IPython.core.display.HTML object>"
      ]
     },
     "metadata": {},
     "output_type": "display_data"
    },
    {
     "data": {
      "text/html": [
       "<strong>File Name:</strong> Tiefenbeck, V (2013).md"
      ],
      "text/plain": [
       "<IPython.core.display.HTML object>"
      ]
     },
     "metadata": {},
     "output_type": "display_data"
    },
    {
     "data": {
      "text/html": [
       "<strong>Explanation:</strong> The study controlled for several potential confounders by using a quasi-experimental design, random assignment within one building, and statistical adjustments for observed variables such as the number of occupants and absence days. The study also ruled out income effects as an alternative explanation since water was not paid for by tenants. However, the study did not explicitly measure or adjust for all possible confounders, such as individual behavioral differences or psychological factors that might influence both water and electricity consumption. While the study acknowledged potential confounders and took steps to account for them, it did not measure all potential confounders directly."
      ],
      "text/plain": [
       "<IPython.core.display.HTML object>"
      ]
     },
     "metadata": {},
     "output_type": "display_data"
    },
    {
     "data": {
      "text/html": [
       "<strong>Result:</strong> No"
      ],
      "text/plain": [
       "<IPython.core.display.HTML object>"
      ]
     },
     "metadata": {},
     "output_type": "display_data"
    },
    {
     "data": {
      "text/html": [
       "<hr>"
      ],
      "text/plain": [
       "<IPython.core.display.HTML object>"
      ]
     },
     "metadata": {},
     "output_type": "display_data"
    }
   ],
   "source": [
    "display_responses(responses12)"
   ]
  },
  {
   "cell_type": "markdown",
   "id": "fce17dbd",
   "metadata": {},
   "source": [
    "### V2"
   ]
  },
  {
   "cell_type": "code",
   "execution_count": 11,
   "id": "d9745562",
   "metadata": {},
   "outputs": [
    {
     "data": {
      "text/html": [
       "\n",
       "# Risk of Bias Assessment Criteria:\n",
       "Did the authors control for all the potential confounders?\n"
      ],
      "text/plain": [
       "<IPython.core.display.HTML object>"
      ]
     },
     "metadata": {},
     "output_type": "display_data"
    },
    {
     "data": {
      "text/html": [
       "<div>\n",
       "<style scoped>\n",
       "    .dataframe tbody tr th:only-of-type {\n",
       "        vertical-align: middle;\n",
       "    }\n",
       "\n",
       "    .dataframe tbody tr th {\n",
       "        vertical-align: top;\n",
       "    }\n",
       "\n",
       "    .dataframe thead th {\n",
       "        text-align: right;\n",
       "    }\n",
       "</style>\n",
       "<table border=\"1\" class=\"dataframe\">\n",
       "  <thead>\n",
       "    <tr style=\"text-align: right;\">\n",
       "      <th></th>\n",
       "      <th>names</th>\n",
       "      <th>criteria_1_2</th>\n",
       "      <th>criteria_1_2_human</th>\n",
       "    </tr>\n",
       "  </thead>\n",
       "  <tbody>\n",
       "    <tr>\n",
       "      <th>0</th>\n",
       "      <td>Allcott, H (2011).md</td>\n",
       "      <td>No</td>\n",
       "      <td>no</td>\n",
       "    </tr>\n",
       "    <tr>\n",
       "      <th>1</th>\n",
       "      <td>Andor, Gerster, Peters, Schmidt, 2020.md</td>\n",
       "      <td>No</td>\n",
       "      <td>no</td>\n",
       "    </tr>\n",
       "    <tr>\n",
       "      <th>2</th>\n",
       "      <td>Asensio, OI; Delmas, MA (2016).md</td>\n",
       "      <td>**Yes**</td>\n",
       "      <td>yes</td>\n",
       "    </tr>\n",
       "    <tr>\n",
       "      <th>3</th>\n",
       "      <td>Ayres, Raseman, Shih, 2012.md</td>\n",
       "      <td>**Yes**</td>\n",
       "      <td>no</td>\n",
       "    </tr>\n",
       "    <tr>\n",
       "      <th>4</th>\n",
       "      <td>Bager, S; Mundaca, L (2017).md</td>\n",
       "      <td>No</td>\n",
       "      <td>no</td>\n",
       "    </tr>\n",
       "    <tr>\n",
       "      <th>5</th>\n",
       "      <td>Becker, LJ; Rabinowitz, VC; Seligman, C.md</td>\n",
       "      <td>No</td>\n",
       "      <td>no</td>\n",
       "    </tr>\n",
       "    <tr>\n",
       "      <th>6</th>\n",
       "      <td>Carroll, J; Lyons, S; Denny, E (2014).md</td>\n",
       "      <td>**No**</td>\n",
       "      <td>no</td>\n",
       "    </tr>\n",
       "    <tr>\n",
       "      <th>7</th>\n",
       "      <td>Houde, S; Todd, A; Sudarshan, A; Flora, JA; Ar...</td>\n",
       "      <td>No</td>\n",
       "      <td>no</td>\n",
       "    </tr>\n",
       "    <tr>\n",
       "      <th>8</th>\n",
       "      <td>Matsukawa, I. (2018).md</td>\n",
       "      <td>No</td>\n",
       "      <td>no</td>\n",
       "    </tr>\n",
       "    <tr>\n",
       "      <th>9</th>\n",
       "      <td>Nguyen, TTK; Shimada, K; Ochi, Y; Matsumoto, T...</td>\n",
       "      <td>No</td>\n",
       "      <td>no</td>\n",
       "    </tr>\n",
       "    <tr>\n",
       "      <th>10</th>\n",
       "      <td>Schleich, J (2013).md</td>\n",
       "      <td>No</td>\n",
       "      <td>yes</td>\n",
       "    </tr>\n",
       "    <tr>\n",
       "      <th>11</th>\n",
       "      <td>Tiefenbeck, V (2013).md</td>\n",
       "      <td>No</td>\n",
       "      <td>yes</td>\n",
       "    </tr>\n",
       "  </tbody>\n",
       "</table>\n",
       "</div>"
      ],
      "text/plain": [
       "                                                names criteria_1_2  \\\n",
       "0                                Allcott, H (2011).md           No   \n",
       "1            Andor, Gerster, Peters, Schmidt, 2020.md           No   \n",
       "2                   Asensio, OI; Delmas, MA (2016).md      **Yes**   \n",
       "3                       Ayres, Raseman, Shih, 2012.md      **Yes**   \n",
       "4                      Bager, S; Mundaca, L (2017).md           No   \n",
       "5          Becker, LJ; Rabinowitz, VC; Seligman, C.md           No   \n",
       "6            Carroll, J; Lyons, S; Denny, E (2014).md       **No**   \n",
       "7   Houde, S; Todd, A; Sudarshan, A; Flora, JA; Ar...           No   \n",
       "8                             Matsukawa, I. (2018).md           No   \n",
       "9   Nguyen, TTK; Shimada, K; Ochi, Y; Matsumoto, T...           No   \n",
       "10                              Schleich, J (2013).md           No   \n",
       "11                            Tiefenbeck, V (2013).md           No   \n",
       "\n",
       "   criteria_1_2_human  \n",
       "0                  no  \n",
       "1                  no  \n",
       "2                 yes  \n",
       "3                  no  \n",
       "4                  no  \n",
       "5                  no  \n",
       "6                  no  \n",
       "7                  no  \n",
       "8                  no  \n",
       "9                  no  \n",
       "10                yes  \n",
       "11                yes  "
      ]
     },
     "metadata": {},
     "output_type": "display_data"
    }
   ],
   "source": [
    "display(HTML(criteria_prompt12_v2))\n",
    "test_results = test_results.drop(columns=['criteria_1_2', 'criteria_1_2_human'])\n",
    "responses12 = extract_responses(\n",
    "    intro_prompt = intro_and_output, \n",
    "    criteria_prompt=criteria_prompt12_v2\n",
    "    )\n",
    "test_results = add_results_to_dataframe(responses12, 'criteria_1_2')"
   ]
  },
  {
   "cell_type": "code",
   "execution_count": 12,
   "id": "f2f2a400",
   "metadata": {},
   "outputs": [
    {
     "data": {
      "text/html": [
       "<h3>Response 1</h3>"
      ],
      "text/plain": [
       "<IPython.core.display.HTML object>"
      ]
     },
     "metadata": {},
     "output_type": "display_data"
    },
    {
     "data": {
      "text/html": [
       "<strong>File Name:</strong> Allcott, H (2011).md"
      ],
      "text/plain": [
       "<IPython.core.display.HTML object>"
      ]
     },
     "metadata": {},
     "output_type": "display_data"
    },
    {
     "data": {
      "text/html": [
       "<strong>Explanation:</strong> The paper describes a large-scale randomized field experiment conducted by OPOWER, which involved sending Home Energy Reports to households. These reports included social comparisons and energy conservation tips. The study aimed to evaluate the impact of these reports on energy consumption. The authors used a randomized control trial design, which is a robust method for controlling confounders. However, the paper does not explicitly mention controlling for all potential confounders beyond the randomization process. While randomization helps balance known and unknown confounders across treatment and control groups, the paper does not provide detailed information on other potential confounders such as socioeconomic factors, household characteristics, or external influences that might affect energy consumption. Therefore, without explicit mention or analysis of these factors, it is unclear if all potential confounders were controlled for."
      ],
      "text/plain": [
       "<IPython.core.display.HTML object>"
      ]
     },
     "metadata": {},
     "output_type": "display_data"
    },
    {
     "data": {
      "text/html": [
       "<strong>Result:</strong> No"
      ],
      "text/plain": [
       "<IPython.core.display.HTML object>"
      ]
     },
     "metadata": {},
     "output_type": "display_data"
    },
    {
     "data": {
      "text/html": [
       "<hr>"
      ],
      "text/plain": [
       "<IPython.core.display.HTML object>"
      ]
     },
     "metadata": {},
     "output_type": "display_data"
    },
    {
     "data": {
      "text/html": [
       "<h3>Response 2</h3>"
      ],
      "text/plain": [
       "<IPython.core.display.HTML object>"
      ]
     },
     "metadata": {},
     "output_type": "display_data"
    },
    {
     "data": {
      "text/html": [
       "<strong>File Name:</strong> Andor, Gerster, Peters, Schmidt, 2020.md"
      ],
      "text/plain": [
       "<IPython.core.display.HTML object>"
      ]
     },
     "metadata": {},
     "output_type": "display_data"
    },
    {
     "data": {
      "text/html": [
       "<strong>Explanation:</strong> The paper provides a detailed analysis of the effectiveness of social comparison-based home energy reports (HER) in Germany compared to the US. It mentions that the study was conducted using a randomized controlled trial (RCT) among 11,630 households, with stratified randomization based on baseline electricity consumption and billing month. The authors acknowledge the differences in baseline electricity consumption levels between Germany and the US, which affect the absolute electricity savings. They also explore heterogeneity in treatment effects across different consumption levels and discuss the potential for targeting high-consumption households. However, the paper does not explicitly detail how all potential confounders were controlled for in the analysis. While the study design includes randomization and stratification, the absence of a comprehensive discussion on controlling for all potential confounders suggests that the authors may not have fully controlled for them."
      ],
      "text/plain": [
       "<IPython.core.display.HTML object>"
      ]
     },
     "metadata": {},
     "output_type": "display_data"
    },
    {
     "data": {
      "text/html": [
       "<strong>Result:</strong> No"
      ],
      "text/plain": [
       "<IPython.core.display.HTML object>"
      ]
     },
     "metadata": {},
     "output_type": "display_data"
    },
    {
     "data": {
      "text/html": [
       "<hr>"
      ],
      "text/plain": [
       "<IPython.core.display.HTML object>"
      ]
     },
     "metadata": {},
     "output_type": "display_data"
    },
    {
     "data": {
      "text/html": [
       "<h3>Response 3</h3>"
      ],
      "text/plain": [
       "<IPython.core.display.HTML object>"
      ]
     },
     "metadata": {},
     "output_type": "display_data"
    },
    {
     "data": {
      "text/html": [
       "<strong>File Name:</strong> Asensio, OI; Delmas, MA (2016).md"
      ],
      "text/plain": [
       "<IPython.core.display.HTML object>"
      ]
     },
     "metadata": {},
     "output_type": "display_data"
    },
    {
     "data": {
      "text/html": [
       "<strong>Explanation:</strong> The authors conducted a randomized controlled trial with 118 households to test the impact of message framing on energy conservation. They used two types of framing: health-based and cost savings. The study controlled for various potential confounders, including household demographics, weather, and seasonality. Randomization ensured that treatment assignment was independent of other variables, and the baseline characteristics were balanced across groups. The study also used advanced metering technology to provide real-time data, which helped in accurately measuring the outcomes. Therefore, the authors effectively controlled for potential confounders in their analysis."
      ],
      "text/plain": [
       "<IPython.core.display.HTML object>"
      ]
     },
     "metadata": {},
     "output_type": "display_data"
    },
    {
     "data": {
      "text/html": [
       "<strong>Result:</strong> **Yes**"
      ],
      "text/plain": [
       "<IPython.core.display.HTML object>"
      ]
     },
     "metadata": {},
     "output_type": "display_data"
    },
    {
     "data": {
      "text/html": [
       "<hr>"
      ],
      "text/plain": [
       "<IPython.core.display.HTML object>"
      ]
     },
     "metadata": {},
     "output_type": "display_data"
    },
    {
     "data": {
      "text/html": [
       "<h3>Response 4</h3>"
      ],
      "text/plain": [
       "<IPython.core.display.HTML object>"
      ]
     },
     "metadata": {},
     "output_type": "display_data"
    },
    {
     "data": {
      "text/html": [
       "<strong>File Name:</strong> Ayres, Raseman, Shih, 2012.md"
      ],
      "text/plain": [
       "<IPython.core.display.HTML object>"
      ]
     },
     "metadata": {},
     "output_type": "display_data"
    },
    {
     "data": {
      "text/html": [
       "<strong>Explanation:</strong> The authors conducted two large-scale, random-assignment field experiments to assess the impact of peer comparison feedback on energy usage. They controlled for various potential confounders by using randomization at the household level in the PSE experiment and at the census batch level in the SMUD experiment. They also included controls for house characteristics, household demographics, and weather-related variables (cooling and heating degree days) in their analyses. The use of randomization and these controls suggests that the authors made efforts to account for potential confounders in their study design and analysis."
      ],
      "text/plain": [
       "<IPython.core.display.HTML object>"
      ]
     },
     "metadata": {},
     "output_type": "display_data"
    },
    {
     "data": {
      "text/html": [
       "<strong>Result:</strong> **Yes**"
      ],
      "text/plain": [
       "<IPython.core.display.HTML object>"
      ]
     },
     "metadata": {},
     "output_type": "display_data"
    },
    {
     "data": {
      "text/html": [
       "<hr>"
      ],
      "text/plain": [
       "<IPython.core.display.HTML object>"
      ]
     },
     "metadata": {},
     "output_type": "display_data"
    },
    {
     "data": {
      "text/html": [
       "<h3>Response 5</h3>"
      ],
      "text/plain": [
       "<IPython.core.display.HTML object>"
      ]
     },
     "metadata": {},
     "output_type": "display_data"
    },
    {
     "data": {
      "text/html": [
       "<strong>File Name:</strong> Bager, S; Mundaca, L (2017).md"
      ],
      "text/plain": [
       "<IPython.core.display.HTML object>"
      ]
     },
     "metadata": {},
     "output_type": "display_data"
    },
    {
     "data": {
      "text/html": [
       "<strong>Explanation:</strong> The paper describes a pilot study that investigates the impact of loss-framed, salient information on electricity consumption using smart meters. The study involved a small sample size and used a 'recruit and deny' randomised strategy to assign households to intervention and reference groups. The authors mention that the characteristics of the buildings were similar, and the households were located in the same neighborhood, which suggests some level of control for confounding variables related to housing and location. However, the paper does not provide detailed information on controlling for other potential confounders such as socio-economic status, household size, or baseline energy consumption behaviors. The lack of socio-economic data due to privacy concerns is explicitly mentioned, indicating that not all potential confounders were controlled for. Therefore, based on the information provided, it appears that the authors did not control for all potential confounders in the study."
      ],
      "text/plain": [
       "<IPython.core.display.HTML object>"
      ]
     },
     "metadata": {},
     "output_type": "display_data"
    },
    {
     "data": {
      "text/html": [
       "<strong>Result:</strong> No"
      ],
      "text/plain": [
       "<IPython.core.display.HTML object>"
      ]
     },
     "metadata": {},
     "output_type": "display_data"
    },
    {
     "data": {
      "text/html": [
       "<hr>"
      ],
      "text/plain": [
       "<IPython.core.display.HTML object>"
      ]
     },
     "metadata": {},
     "output_type": "display_data"
    },
    {
     "data": {
      "text/html": [
       "<h3>Response 6</h3>"
      ],
      "text/plain": [
       "<IPython.core.display.HTML object>"
      ]
     },
     "metadata": {},
     "output_type": "display_data"
    },
    {
     "data": {
      "text/html": [
       "<strong>File Name:</strong> Becker, LJ; Rabinowitz, VC; Seligman, C.md"
      ],
      "text/plain": [
       "<IPython.core.display.HTML object>"
      ]
     },
     "metadata": {},
     "output_type": "display_data"
    },
    {
     "data": {
      "text/html": [
       "<strong>Explanation:</strong> The study used a nonequivalent control group design with pretest and posttest to evaluate the impact of average payment plans on energy consumption. The authors attempted to control for confounders by selecting control group members who were neighbors or in the same neighborhood as the treatment group. However, the study acknowledges the limitation of not being able to randomly assign participants to groups, which could lead to self-selection bias. The authors also mention that the treatment group tended to be larger energy users, which could be a confounder not fully controlled for. Therefore, while some efforts were made to control for confounders, the lack of randomization and potential self-selection bias indicate that not all potential confounders were controlled."
      ],
      "text/plain": [
       "<IPython.core.display.HTML object>"
      ]
     },
     "metadata": {},
     "output_type": "display_data"
    },
    {
     "data": {
      "text/html": [
       "<strong>Result:</strong> No"
      ],
      "text/plain": [
       "<IPython.core.display.HTML object>"
      ]
     },
     "metadata": {},
     "output_type": "display_data"
    },
    {
     "data": {
      "text/html": [
       "<hr>"
      ],
      "text/plain": [
       "<IPython.core.display.HTML object>"
      ]
     },
     "metadata": {},
     "output_type": "display_data"
    },
    {
     "data": {
      "text/html": [
       "<h3>Response 7</h3>"
      ],
      "text/plain": [
       "<IPython.core.display.HTML object>"
      ]
     },
     "metadata": {},
     "output_type": "display_data"
    },
    {
     "data": {
      "text/html": [
       "<strong>File Name:</strong> Carroll, J; Lyons, S; Denny, E (2014).md"
      ],
      "text/plain": [
       "<IPython.core.display.HTML object>"
      ]
     },
     "metadata": {},
     "output_type": "display_data"
    },
    {
     "data": {
      "text/html": [
       "<strong>Explanation:</strong> The paper describes a randomized controlled trial to assess the impact of smart metering and time-of-use tariffs on household electricity demand. The authors collected extensive data on household characteristics, attitudes, and self-reported information about energy-saving behaviors. However, the paper does not provide detailed information on whether all potential confounders were controlled. While the study uses a stratified random sample and considers some demographic variables, it does not explicitly state that all potential confounders were accounted for in the analysis. The lack of explicit mention of controlling for all potential confounders suggests that the authors may not have fully addressed this aspect."
      ],
      "text/plain": [
       "<IPython.core.display.HTML object>"
      ]
     },
     "metadata": {},
     "output_type": "display_data"
    },
    {
     "data": {
      "text/html": [
       "<strong>Result:</strong> **No**"
      ],
      "text/plain": [
       "<IPython.core.display.HTML object>"
      ]
     },
     "metadata": {},
     "output_type": "display_data"
    },
    {
     "data": {
      "text/html": [
       "<hr>"
      ],
      "text/plain": [
       "<IPython.core.display.HTML object>"
      ]
     },
     "metadata": {},
     "output_type": "display_data"
    },
    {
     "data": {
      "text/html": [
       "<h3>Response 8</h3>"
      ],
      "text/plain": [
       "<IPython.core.display.HTML object>"
      ]
     },
     "metadata": {},
     "output_type": "display_data"
    },
    {
     "data": {
      "text/html": [
       "<strong>File Name:</strong> Houde, S; Todd, A; Sudarshan, A; Flora, JA; Armel, KC (2013).md"
      ],
      "text/plain": [
       "<IPython.core.display.HTML object>"
      ]
     },
     "metadata": {},
     "output_type": "display_data"
    },
    {
     "data": {
      "text/html": [
       "<strong>Explanation:</strong> The study used a randomized controlled trial to estimate the impact of real-time feedback technology on electricity consumption. The authors examined various potential confounders such as demographics, housing characteristics, and psychological variables. They reported no statistically significant differences between treatment and control groups in these variables, except for income. The study also controlled for weather conditions and used household fixed effects in their analysis. However, the authors acknowledged that they did not have access to pre-experiment electricity billing data, which could have provided a more robust control for household-specific effects. Additionally, they found no convincing evidence that household characteristics explained heterogeneity in treatment effects. Therefore, while the study attempted to control for potential confounders, the lack of pre-experiment data and the inability to explain treatment response variability suggest that not all potential confounders were fully controlled."
      ],
      "text/plain": [
       "<IPython.core.display.HTML object>"
      ]
     },
     "metadata": {},
     "output_type": "display_data"
    },
    {
     "data": {
      "text/html": [
       "<strong>Result:</strong> No"
      ],
      "text/plain": [
       "<IPython.core.display.HTML object>"
      ]
     },
     "metadata": {},
     "output_type": "display_data"
    },
    {
     "data": {
      "text/html": [
       "<hr>"
      ],
      "text/plain": [
       "<IPython.core.display.HTML object>"
      ]
     },
     "metadata": {},
     "output_type": "display_data"
    },
    {
     "data": {
      "text/html": [
       "<h3>Response 9</h3>"
      ],
      "text/plain": [
       "<IPython.core.display.HTML object>"
      ]
     },
     "metadata": {},
     "output_type": "display_data"
    },
    {
     "data": {
      "text/html": [
       "<strong>File Name:</strong> Matsukawa, I. (2018).md"
      ],
      "text/plain": [
       "<IPython.core.display.HTML object>"
      ]
     },
     "metadata": {},
     "output_type": "display_data"
    },
    {
     "data": {
      "text/html": [
       "<strong>Explanation:</strong> The paper describes a randomized field experiment to assess the impact of in-home displays (IHDs) on electricity consumption. The study uses a simultaneous equation model to analyze the data, considering variables such as hourly IHD usage and electricity consumption. However, the paper does not explicitly mention controlling for all potential confounders. While the study includes some control variables like hourly and date dummies, and uses fixed effects to account for unobserved heterogeneity, it does not provide a comprehensive list or discussion of all potential confounders that could affect electricity consumption, such as socioeconomic factors, household characteristics, or external environmental influences. The assumption of comparability between treatment and control groups is based on randomization, but the paper acknowledges potential selection bias and site selection bias, indicating that not all confounders may have been controlled for. Therefore, without explicit evidence of controlling for all potential confounders, the risk of bias remains."
      ],
      "text/plain": [
       "<IPython.core.display.HTML object>"
      ]
     },
     "metadata": {},
     "output_type": "display_data"
    },
    {
     "data": {
      "text/html": [
       "<strong>Result:</strong> No"
      ],
      "text/plain": [
       "<IPython.core.display.HTML object>"
      ]
     },
     "metadata": {},
     "output_type": "display_data"
    },
    {
     "data": {
      "text/html": [
       "<hr>"
      ],
      "text/plain": [
       "<IPython.core.display.HTML object>"
      ]
     },
     "metadata": {},
     "output_type": "display_data"
    },
    {
     "data": {
      "text/html": [
       "<h3>Response 10</h3>"
      ],
      "text/plain": [
       "<IPython.core.display.HTML object>"
      ]
     },
     "metadata": {},
     "output_type": "display_data"
    },
    {
     "data": {
      "text/html": [
       "<strong>File Name:</strong> Nguyen, TTK; Shimada, K; Ochi, Y; Matsumoto, T; Matsugi, H; Awata, T (2016).md"
      ],
      "text/plain": [
       "<IPython.core.display.HTML object>"
      ]
     },
     "metadata": {},
     "output_type": "display_data"
    },
    {
     "data": {
      "text/html": [
       "<strong>Explanation:</strong> The study uses a randomized controlled trial design with a control and treatment group to assess the impact of dynamic pricing on electricity consumption. The authors account for several potential confounders, including weather conditions (temperature, wind speed), household characteristics (number of members, appliances), and lifestyle factors (hourly effects). They employ a difference-in-differences method to isolate the treatment effect from other variables. However, the paper does not explicitly mention controlling for all possible confounders, such as socio-economic status or other external influences that might affect energy consumption. The focus is primarily on observable variables related to energy use and weather, which may not cover all potential confounders comprehensively."
      ],
      "text/plain": [
       "<IPython.core.display.HTML object>"
      ]
     },
     "metadata": {},
     "output_type": "display_data"
    },
    {
     "data": {
      "text/html": [
       "<strong>Result:</strong> No"
      ],
      "text/plain": [
       "<IPython.core.display.HTML object>"
      ]
     },
     "metadata": {},
     "output_type": "display_data"
    },
    {
     "data": {
      "text/html": [
       "<hr>"
      ],
      "text/plain": [
       "<IPython.core.display.HTML object>"
      ]
     },
     "metadata": {},
     "output_type": "display_data"
    },
    {
     "data": {
      "text/html": [
       "<h3>Response 11</h3>"
      ],
      "text/plain": [
       "<IPython.core.display.HTML object>"
      ]
     },
     "metadata": {},
     "output_type": "display_data"
    },
    {
     "data": {
      "text/html": [
       "<strong>File Name:</strong> Schleich, J (2013).md"
      ],
      "text/plain": [
       "<IPython.core.display.HTML object>"
      ]
     },
     "metadata": {},
     "output_type": "display_data"
    },
    {
     "data": {
      "text/html": [
       "<strong>Explanation:</strong> The paper describes a field trial where households were randomly assigned to a pilot group receiving feedback on electricity consumption and a control group. The authors controlled for various socio-economic factors and household appliance stock in their regression models. They used cross-sectional data and acknowledged the limitation of not having panel data to control for time-constant unobserved heterogeneity. The models included variables such as income, education, household size, and appliance usage, which are potential confounders. However, the paper does not explicitly mention controlling for all possible confounders, such as psychological factors or detailed behavioral aspects, which could influence electricity consumption. The authors did attempt to address potential endogeneity in feedback type choice using a treatment model, but the extent of control over all potential confounders is not fully clear."
      ],
      "text/plain": [
       "<IPython.core.display.HTML object>"
      ]
     },
     "metadata": {},
     "output_type": "display_data"
    },
    {
     "data": {
      "text/html": [
       "<strong>Result:</strong> No"
      ],
      "text/plain": [
       "<IPython.core.display.HTML object>"
      ]
     },
     "metadata": {},
     "output_type": "display_data"
    },
    {
     "data": {
      "text/html": [
       "<hr>"
      ],
      "text/plain": [
       "<IPython.core.display.HTML object>"
      ]
     },
     "metadata": {},
     "output_type": "display_data"
    },
    {
     "data": {
      "text/html": [
       "<h3>Response 12</h3>"
      ],
      "text/plain": [
       "<IPython.core.display.HTML object>"
      ]
     },
     "metadata": {},
     "output_type": "display_data"
    },
    {
     "data": {
      "text/html": [
       "<strong>File Name:</strong> Tiefenbeck, V (2013).md"
      ],
      "text/plain": [
       "<IPython.core.display.HTML object>"
      ]
     },
     "metadata": {},
     "output_type": "display_data"
    },
    {
     "data": {
      "text/html": [
       "<strong>Explanation:</strong> The study controlled for several potential confounders, including differences in heating/cooling systems, type of water faucets, and income effects by selecting a housing complex with similar apartment units and ensuring that tenants did not pay for water. The study also controlled for the number of occupants and absence days. However, the paper does not mention controlling for other potential confounders such as individual behavioral differences or external factors like weather conditions beyond temperature. Therefore, while some confounders were addressed, not all potential confounders were controlled."
      ],
      "text/plain": [
       "<IPython.core.display.HTML object>"
      ]
     },
     "metadata": {},
     "output_type": "display_data"
    },
    {
     "data": {
      "text/html": [
       "<strong>Result:</strong> No"
      ],
      "text/plain": [
       "<IPython.core.display.HTML object>"
      ]
     },
     "metadata": {},
     "output_type": "display_data"
    },
    {
     "data": {
      "text/html": [
       "<hr>"
      ],
      "text/plain": [
       "<IPython.core.display.HTML object>"
      ]
     },
     "metadata": {},
     "output_type": "display_data"
    }
   ],
   "source": [
    "display_responses(responses12)"
   ]
  },
  {
   "cell_type": "markdown",
   "id": "3d0e9f5f",
   "metadata": {},
   "source": [
    "### V3"
   ]
  },
  {
   "cell_type": "code",
   "execution_count": 13,
   "id": "27f229a0",
   "metadata": {},
   "outputs": [
    {
     "data": {
      "text/html": [
       "\n",
       "# Risk of Bias Assessment Criteria:\n",
       "Did the authors control for all the potential confounders?\n",
       "## Guidance:\n",
       "Identify whether the authors controlled for all potential confounders that may affect both the intervention/exposure and the outcome. Use causal reasoning where possible. List any confounders explicitly mentioned or implied, describe how (if at all) they were controlled for (e.g., stratification, statistical adjustment, randomization), and provide a final judgment on whether control for confounding was sufficient according to causal inference principles.\n"
      ],
      "text/plain": [
       "<IPython.core.display.HTML object>"
      ]
     },
     "metadata": {},
     "output_type": "display_data"
    },
    {
     "data": {
      "text/html": [
       "<div>\n",
       "<style scoped>\n",
       "    .dataframe tbody tr th:only-of-type {\n",
       "        vertical-align: middle;\n",
       "    }\n",
       "\n",
       "    .dataframe tbody tr th {\n",
       "        vertical-align: top;\n",
       "    }\n",
       "\n",
       "    .dataframe thead th {\n",
       "        text-align: right;\n",
       "    }\n",
       "</style>\n",
       "<table border=\"1\" class=\"dataframe\">\n",
       "  <thead>\n",
       "    <tr style=\"text-align: right;\">\n",
       "      <th></th>\n",
       "      <th>names</th>\n",
       "      <th>criteria_1_2</th>\n",
       "      <th>criteria_1_2_human</th>\n",
       "    </tr>\n",
       "  </thead>\n",
       "  <tbody>\n",
       "    <tr>\n",
       "      <th>0</th>\n",
       "      <td>Allcott, H (2011).md</td>\n",
       "      <td>No</td>\n",
       "      <td>no</td>\n",
       "    </tr>\n",
       "    <tr>\n",
       "      <th>1</th>\n",
       "      <td>Andor, Gerster, Peters, Schmidt, 2020.md</td>\n",
       "      <td>No</td>\n",
       "      <td>no</td>\n",
       "    </tr>\n",
       "    <tr>\n",
       "      <th>2</th>\n",
       "      <td>Asensio, OI; Delmas, MA (2016).md</td>\n",
       "      <td>Yes</td>\n",
       "      <td>yes</td>\n",
       "    </tr>\n",
       "    <tr>\n",
       "      <th>3</th>\n",
       "      <td>Ayres, Raseman, Shih, 2012.md</td>\n",
       "      <td>Yes</td>\n",
       "      <td>no</td>\n",
       "    </tr>\n",
       "    <tr>\n",
       "      <th>4</th>\n",
       "      <td>Bager, S; Mundaca, L (2017).md</td>\n",
       "      <td>No</td>\n",
       "      <td>no</td>\n",
       "    </tr>\n",
       "    <tr>\n",
       "      <th>5</th>\n",
       "      <td>Becker, LJ; Rabinowitz, VC; Seligman, C.md</td>\n",
       "      <td>No</td>\n",
       "      <td>no</td>\n",
       "    </tr>\n",
       "    <tr>\n",
       "      <th>6</th>\n",
       "      <td>Carroll, J; Lyons, S; Denny, E (2014).md</td>\n",
       "      <td>No</td>\n",
       "      <td>no</td>\n",
       "    </tr>\n",
       "    <tr>\n",
       "      <th>7</th>\n",
       "      <td>Houde, S; Todd, A; Sudarshan, A; Flora, JA; Ar...</td>\n",
       "      <td>No</td>\n",
       "      <td>no</td>\n",
       "    </tr>\n",
       "    <tr>\n",
       "      <th>8</th>\n",
       "      <td>Matsukawa, I. (2018).md</td>\n",
       "      <td>No</td>\n",
       "      <td>no</td>\n",
       "    </tr>\n",
       "    <tr>\n",
       "      <th>9</th>\n",
       "      <td>Nguyen, TTK; Shimada, K; Ochi, Y; Matsumoto, T...</td>\n",
       "      <td>No</td>\n",
       "      <td>no</td>\n",
       "    </tr>\n",
       "    <tr>\n",
       "      <th>10</th>\n",
       "      <td>Schleich, J (2013).md</td>\n",
       "      <td>No</td>\n",
       "      <td>yes</td>\n",
       "    </tr>\n",
       "    <tr>\n",
       "      <th>11</th>\n",
       "      <td>Tiefenbeck, V (2013).md</td>\n",
       "      <td>No</td>\n",
       "      <td>yes</td>\n",
       "    </tr>\n",
       "  </tbody>\n",
       "</table>\n",
       "</div>"
      ],
      "text/plain": [
       "                                                names criteria_1_2 criteria_1_2_human\n",
       "0                                Allcott, H (2011).md           No                 no\n",
       "1            Andor, Gerster, Peters, Schmidt, 2020.md           No                 no\n",
       "2                   Asensio, OI; Delmas, MA (2016).md          Yes                yes\n",
       "3                       Ayres, Raseman, Shih, 2012.md          Yes                 no\n",
       "4                      Bager, S; Mundaca, L (2017).md           No                 no\n",
       "5          Becker, LJ; Rabinowitz, VC; Seligman, C.md           No                 no\n",
       "6            Carroll, J; Lyons, S; Denny, E (2014).md           No                 no\n",
       "7   Houde, S; Todd, A; Sudarshan, A; Flora, JA; Ar...           No                 no\n",
       "8                             Matsukawa, I. (2018).md           No                 no\n",
       "9   Nguyen, TTK; Shimada, K; Ochi, Y; Matsumoto, T...           No                 no\n",
       "10                              Schleich, J (2013).md           No                yes\n",
       "11                            Tiefenbeck, V (2013).md           No                yes"
      ]
     },
     "metadata": {},
     "output_type": "display_data"
    }
   ],
   "source": [
    "display(HTML(criteria_prompt12_v3))\n",
    "# test_results = test_results.drop(columns=['criteria_1_2', 'criteria_1_2_human'])\n",
    "responses12 = extract_responses(\n",
    "    intro_prompt = intro_and_output, \n",
    "    criteria_prompt=criteria_prompt12_v3\n",
    "    )\n",
    "test_results = add_results_to_dataframe(responses12, 'criteria_1_2')"
   ]
  },
  {
   "cell_type": "code",
   "execution_count": 14,
   "id": "0a691826",
   "metadata": {},
   "outputs": [
    {
     "data": {
      "text/html": [
       "<h3>Response 1</h3>"
      ],
      "text/plain": [
       "<IPython.core.display.HTML object>"
      ]
     },
     "metadata": {},
     "output_type": "display_data"
    },
    {
     "data": {
      "text/html": [
       "<strong>File Name:</strong> Allcott, H (2011).md"
      ],
      "text/plain": [
       "<IPython.core.display.HTML object>"
      ]
     },
     "metadata": {},
     "output_type": "display_data"
    },
    {
     "data": {
      "text/html": [
       "<strong>Explanation:</strong> The paper describes a randomized field experiment conducted by OPOWER to evaluate the impact of Home Energy Reports on energy consumption. The study uses a large sample size and employs a randomized control trial design, which inherently controls for many potential confounders by design. However, the paper does not explicitly mention controlling for all potential confounders that could affect both the intervention and the outcome. While the study uses household fixed effects and controls for weather variations, it does not provide a comprehensive list or discussion of all possible confounders, such as socioeconomic factors or other behavioral interventions that might influence energy consumption. Therefore, based on the information provided, it is not clear if all potential confounders were controlled for."
      ],
      "text/plain": [
       "<IPython.core.display.HTML object>"
      ]
     },
     "metadata": {},
     "output_type": "display_data"
    },
    {
     "data": {
      "text/html": [
       "<strong>Result:</strong> No"
      ],
      "text/plain": [
       "<IPython.core.display.HTML object>"
      ]
     },
     "metadata": {},
     "output_type": "display_data"
    },
    {
     "data": {
      "text/html": [
       "<hr>"
      ],
      "text/plain": [
       "<IPython.core.display.HTML object>"
      ]
     },
     "metadata": {},
     "output_type": "display_data"
    },
    {
     "data": {
      "text/html": [
       "<h3>Response 2</h3>"
      ],
      "text/plain": [
       "<IPython.core.display.HTML object>"
      ]
     },
     "metadata": {},
     "output_type": "display_data"
    },
    {
     "data": {
      "text/html": [
       "<strong>File Name:</strong> Andor, Gerster, Peters, Schmidt, 2020.md"
      ],
      "text/plain": [
       "<IPython.core.display.HTML object>"
      ]
     },
     "metadata": {},
     "output_type": "display_data"
    },
    {
     "data": {
      "text/html": [
       "<strong>Explanation:</strong> The authors conducted a randomized controlled trial (RCT) to assess the effectiveness of social comparison-based home energy reports (HER) in Germany. They stratified randomization by baseline electricity consumption and billing month, ensuring balance between treatment and control groups. However, the paper does not provide detailed information on controlling for other potential confounders that might affect both the intervention and the outcome, such as socio-economic factors, household characteristics, or other behavioral interventions. The focus was primarily on baseline electricity consumption, and while the study design is robust in terms of randomization, it lacks comprehensive control for all potential confounders that could influence the results. Therefore, based on the information provided, it cannot be concluded that all potential confounders were controlled for."
      ],
      "text/plain": [
       "<IPython.core.display.HTML object>"
      ]
     },
     "metadata": {},
     "output_type": "display_data"
    },
    {
     "data": {
      "text/html": [
       "<strong>Result:</strong> No"
      ],
      "text/plain": [
       "<IPython.core.display.HTML object>"
      ]
     },
     "metadata": {},
     "output_type": "display_data"
    },
    {
     "data": {
      "text/html": [
       "<hr>"
      ],
      "text/plain": [
       "<IPython.core.display.HTML object>"
      ]
     },
     "metadata": {},
     "output_type": "display_data"
    },
    {
     "data": {
      "text/html": [
       "<h3>Response 3</h3>"
      ],
      "text/plain": [
       "<IPython.core.display.HTML object>"
      ]
     },
     "metadata": {},
     "output_type": "display_data"
    },
    {
     "data": {
      "text/html": [
       "<strong>File Name:</strong> Asensio, OI; Delmas, MA (2016).md"
      ],
      "text/plain": [
       "<IPython.core.display.HTML object>"
      ]
     },
     "metadata": {},
     "output_type": "display_data"
    },
    {
     "data": {
      "text/html": [
       "<strong>Explanation:</strong> The study conducted a randomized controlled trial to assess the impact of message framing on energy conservation behavior. The authors controlled for several potential confounders, including household demographics (e.g., number of adults and children, apartment size), weather conditions (heating and cooling degree hours), and baseline electricity consumption. Randomization was used to assign households to treatment and control groups, which helps mitigate selection bias. The study also included statistical adjustments for seasonality and autocorrelation. However, while the authors controlled for many observable confounders, the paper does not explicitly mention controlling for all potential unobservable confounders that might affect both the intervention and the outcome. Given the detailed controls and randomization, the control for confounding appears to be sufficient according to causal inference principles."
      ],
      "text/plain": [
       "<IPython.core.display.HTML object>"
      ]
     },
     "metadata": {},
     "output_type": "display_data"
    },
    {
     "data": {
      "text/html": [
       "<strong>Result:</strong> Yes"
      ],
      "text/plain": [
       "<IPython.core.display.HTML object>"
      ]
     },
     "metadata": {},
     "output_type": "display_data"
    },
    {
     "data": {
      "text/html": [
       "<hr>"
      ],
      "text/plain": [
       "<IPython.core.display.HTML object>"
      ]
     },
     "metadata": {},
     "output_type": "display_data"
    },
    {
     "data": {
      "text/html": [
       "<h3>Response 4</h3>"
      ],
      "text/plain": [
       "<IPython.core.display.HTML object>"
      ]
     },
     "metadata": {},
     "output_type": "display_data"
    },
    {
     "data": {
      "text/html": [
       "<strong>File Name:</strong> Ayres, Raseman, Shih, 2012.md"
      ],
      "text/plain": [
       "<IPython.core.display.HTML object>"
      ]
     },
     "metadata": {},
     "output_type": "display_data"
    },
    {
     "data": {
      "text/html": [
       "<strong>Explanation:</strong> The authors conducted two large-scale, random-assignment field experiments, which inherently control for confounders through randomization. In the SMUD experiment, they controlled for house characteristics, household demographics, and weather-related variables like cooling and heating degree days. In the PSE experiment, randomization was at the household level, and the analysis included controls for house and household demographics. The use of randomization and statistical controls suggests that the authors adequately controlled for potential confounders."
      ],
      "text/plain": [
       "<IPython.core.display.HTML object>"
      ]
     },
     "metadata": {},
     "output_type": "display_data"
    },
    {
     "data": {
      "text/html": [
       "<strong>Result:</strong> Yes"
      ],
      "text/plain": [
       "<IPython.core.display.HTML object>"
      ]
     },
     "metadata": {},
     "output_type": "display_data"
    },
    {
     "data": {
      "text/html": [
       "<hr>"
      ],
      "text/plain": [
       "<IPython.core.display.HTML object>"
      ]
     },
     "metadata": {},
     "output_type": "display_data"
    },
    {
     "data": {
      "text/html": [
       "<h3>Response 5</h3>"
      ],
      "text/plain": [
       "<IPython.core.display.HTML object>"
      ]
     },
     "metadata": {},
     "output_type": "display_data"
    },
    {
     "data": {
      "text/html": [
       "<strong>File Name:</strong> Bager, S; Mundaca, L (2017).md"
      ],
      "text/plain": [
       "<IPython.core.display.HTML object>"
      ]
     },
     "metadata": {},
     "output_type": "display_data"
    },
    {
     "data": {
      "text/html": [
       "<strong>Explanation:</strong> The authors conducted a pilot study using a 'recruit and deny' randomised strategy to assign households to reference and intervention groups. They controlled for some potential confounders by ensuring the homogeneity of the sample in terms of building characteristics, location, and socio-economic assumptions. However, the study did not collect socio-economic data of participating households due to privacy concerns, which could be a significant confounder affecting both the intervention and the outcome. The small sample size and lack of detailed socio-economic data limit the ability to control for all potential confounders effectively. Therefore, while some efforts were made to control for confounders, it was not comprehensive enough to account for all potential confounding variables."
      ],
      "text/plain": [
       "<IPython.core.display.HTML object>"
      ]
     },
     "metadata": {},
     "output_type": "display_data"
    },
    {
     "data": {
      "text/html": [
       "<strong>Result:</strong> No"
      ],
      "text/plain": [
       "<IPython.core.display.HTML object>"
      ]
     },
     "metadata": {},
     "output_type": "display_data"
    },
    {
     "data": {
      "text/html": [
       "<hr>"
      ],
      "text/plain": [
       "<IPython.core.display.HTML object>"
      ]
     },
     "metadata": {},
     "output_type": "display_data"
    },
    {
     "data": {
      "text/html": [
       "<h3>Response 6</h3>"
      ],
      "text/plain": [
       "<IPython.core.display.HTML object>"
      ]
     },
     "metadata": {},
     "output_type": "display_data"
    },
    {
     "data": {
      "text/html": [
       "<strong>File Name:</strong> Becker, LJ; Rabinowitz, VC; Seligman, C.md"
      ],
      "text/plain": [
       "<IPython.core.display.HTML object>"
      ]
     },
     "metadata": {},
     "output_type": "display_data"
    },
    {
     "data": {
      "text/html": [
       "<strong>Explanation:</strong> The study used a nonequivalent control group design with pretest and posttest to evaluate the impact of average payment plans on energy consumption. The authors attempted to control for confounders by selecting control group members who were neighbors or in the same neighborhood as the treatment group. However, the study acknowledges the limitation of not being able to randomly assign participants to the treatment and control groups, which could lead to self-selection bias. The authors did not explicitly mention controlling for other potential confounders such as household size, income, or specific energy usage patterns, which could affect both the intervention and the outcome. Therefore, while some effort was made to match the groups, the control for confounding was not comprehensive."
      ],
      "text/plain": [
       "<IPython.core.display.HTML object>"
      ]
     },
     "metadata": {},
     "output_type": "display_data"
    },
    {
     "data": {
      "text/html": [
       "<strong>Result:</strong> No"
      ],
      "text/plain": [
       "<IPython.core.display.HTML object>"
      ]
     },
     "metadata": {},
     "output_type": "display_data"
    },
    {
     "data": {
      "text/html": [
       "<hr>"
      ],
      "text/plain": [
       "<IPython.core.display.HTML object>"
      ]
     },
     "metadata": {},
     "output_type": "display_data"
    },
    {
     "data": {
      "text/html": [
       "<h3>Response 7</h3>"
      ],
      "text/plain": [
       "<IPython.core.display.HTML object>"
      ]
     },
     "metadata": {},
     "output_type": "display_data"
    },
    {
     "data": {
      "text/html": [
       "<strong>File Name:</strong> Carroll, J; Lyons, S; Denny, E (2014).md"
      ],
      "text/plain": [
       "<IPython.core.display.HTML object>"
      ]
     },
     "metadata": {},
     "output_type": "display_data"
    },
    {
     "data": {
      "text/html": [
       "<strong>Explanation:</strong> The study utilized a randomized controlled trial to assess the impact of smart metering on household electricity demand. The authors collected extensive data on household characteristics and attitudes, and employed statistical methods such as multinomial logit models and difference-in-difference approaches to analyze the data. However, the paper does not explicitly mention controlling for all potential confounders that could affect both the intervention (smart metering) and the outcome (electricity demand reduction). While the study design and statistical adjustments are robust, the lack of explicit mention of controlling for all potential confounders means we cannot definitively conclude that all were accounted for."
      ],
      "text/plain": [
       "<IPython.core.display.HTML object>"
      ]
     },
     "metadata": {},
     "output_type": "display_data"
    },
    {
     "data": {
      "text/html": [
       "<strong>Result:</strong> No"
      ],
      "text/plain": [
       "<IPython.core.display.HTML object>"
      ]
     },
     "metadata": {},
     "output_type": "display_data"
    },
    {
     "data": {
      "text/html": [
       "<hr>"
      ],
      "text/plain": [
       "<IPython.core.display.HTML object>"
      ]
     },
     "metadata": {},
     "output_type": "display_data"
    },
    {
     "data": {
      "text/html": [
       "<h3>Response 8</h3>"
      ],
      "text/plain": [
       "<IPython.core.display.HTML object>"
      ]
     },
     "metadata": {},
     "output_type": "display_data"
    },
    {
     "data": {
      "text/html": [
       "<strong>File Name:</strong> Houde, S; Todd, A; Sudarshan, A; Flora, JA; Armel, KC (2013).md"
      ],
      "text/plain": [
       "<IPython.core.display.HTML object>"
      ]
     },
     "metadata": {},
     "output_type": "display_data"
    },
    {
     "data": {
      "text/html": [
       "<strong>Explanation:</strong> The study used a randomized controlled trial to assess the impact of real-time feedback on electricity consumption. The authors mention controlling for weather (temperature and precipitation) and include household fixed effects and day fixed effects in their analysis. However, they do not explicitly mention controlling for all potential confounders such as socioeconomic status, baseline energy consumption habits, or other demographic variables that could affect both the intervention and the outcome. The authors acknowledge that household characteristics may contribute to heterogeneity in treatment effects but find no convincing evidence that these characteristics explain variation in treatment response. The lack of detailed control for all potential confounders suggests that the control for confounding was not fully sufficient according to causal inference principles."
      ],
      "text/plain": [
       "<IPython.core.display.HTML object>"
      ]
     },
     "metadata": {},
     "output_type": "display_data"
    },
    {
     "data": {
      "text/html": [
       "<strong>Result:</strong> No"
      ],
      "text/plain": [
       "<IPython.core.display.HTML object>"
      ]
     },
     "metadata": {},
     "output_type": "display_data"
    },
    {
     "data": {
      "text/html": [
       "<hr>"
      ],
      "text/plain": [
       "<IPython.core.display.HTML object>"
      ]
     },
     "metadata": {},
     "output_type": "display_data"
    },
    {
     "data": {
      "text/html": [
       "<h3>Response 9</h3>"
      ],
      "text/plain": [
       "<IPython.core.display.HTML object>"
      ]
     },
     "metadata": {},
     "output_type": "display_data"
    },
    {
     "data": {
      "text/html": [
       "<strong>File Name:</strong> Matsukawa, I. (2018).md"
      ],
      "text/plain": [
       "<IPython.core.display.HTML object>"
      ]
     },
     "metadata": {},
     "output_type": "display_data"
    },
    {
     "data": {
      "text/html": [
       "<strong>Explanation:</strong> The study involved a randomized field experiment with households assigned to treatment and control groups. The treatment group received in-home displays (IHDs) to monitor electricity consumption. The authors conducted statistical tests to ensure randomization and comparability between groups, such as regression analysis and probit models, which showed no significant differences in pre-experiment electricity consumption. However, the paper does not explicitly mention controlling for other potential confounders like socioeconomic status, household size, or appliance ownership, which could affect electricity usage. The focus was primarily on the presence and usage of IHDs and pecuniary incentives, without detailed adjustment for these other factors. Therefore, while randomization helps mitigate some confounding, the lack of explicit control for all potential confounders suggests that not all were adequately addressed."
      ],
      "text/plain": [
       "<IPython.core.display.HTML object>"
      ]
     },
     "metadata": {},
     "output_type": "display_data"
    },
    {
     "data": {
      "text/html": [
       "<strong>Result:</strong> No"
      ],
      "text/plain": [
       "<IPython.core.display.HTML object>"
      ]
     },
     "metadata": {},
     "output_type": "display_data"
    },
    {
     "data": {
      "text/html": [
       "<hr>"
      ],
      "text/plain": [
       "<IPython.core.display.HTML object>"
      ]
     },
     "metadata": {},
     "output_type": "display_data"
    },
    {
     "data": {
      "text/html": [
       "<h3>Response 10</h3>"
      ],
      "text/plain": [
       "<IPython.core.display.HTML object>"
      ]
     },
     "metadata": {},
     "output_type": "display_data"
    },
    {
     "data": {
      "text/html": [
       "<strong>File Name:</strong> Nguyen, TTK; Shimada, K; Ochi, Y; Matsumoto, T; Matsugi, H; Awata, T (2016).md"
      ],
      "text/plain": [
       "<IPython.core.display.HTML object>"
      ]
     },
     "metadata": {},
     "output_type": "display_data"
    },
    {
     "data": {
      "text/html": [
       "<strong>Explanation:</strong> The study employed a randomized controlled trial design, dividing participants into treatment and control groups. The authors controlled for several potential confounders, including weather factors (temperature, wind speed), lifestyle factors (hourly effects), and household attributes (number of household members, appliances). They used statistical methods like difference-in-differences and random effects models to adjust for these variables. However, the paper does not mention controlling for other potential confounders such as socioeconomic status or other external factors that might influence energy consumption. While the study design is robust in many aspects, the lack of explicit mention of controlling for all potential confounders suggests that not all were accounted for."
      ],
      "text/plain": [
       "<IPython.core.display.HTML object>"
      ]
     },
     "metadata": {},
     "output_type": "display_data"
    },
    {
     "data": {
      "text/html": [
       "<strong>Result:</strong> No"
      ],
      "text/plain": [
       "<IPython.core.display.HTML object>"
      ]
     },
     "metadata": {},
     "output_type": "display_data"
    },
    {
     "data": {
      "text/html": [
       "<hr>"
      ],
      "text/plain": [
       "<IPython.core.display.HTML object>"
      ]
     },
     "metadata": {},
     "output_type": "display_data"
    },
    {
     "data": {
      "text/html": [
       "<h3>Response 11</h3>"
      ],
      "text/plain": [
       "<IPython.core.display.HTML object>"
      ]
     },
     "metadata": {},
     "output_type": "display_data"
    },
    {
     "data": {
      "text/html": [
       "<strong>File Name:</strong> Schleich, J (2013).md"
      ],
      "text/plain": [
       "<IPython.core.display.HTML object>"
      ]
     },
     "metadata": {},
     "output_type": "display_data"
    },
    {
     "data": {
      "text/html": [
       "<strong>Explanation:</strong> The study involved a field trial with random assignment of households to pilot and control groups, which helps control for confounders. The authors controlled for various socio-economic factors and household characteristics, such as income, education, age, and appliance stock, in their regression models. They also addressed potential endogeneity bias in feedback type choice using a treatment model. However, the study did not control for unobserved confounders that might affect both feedback reception and electricity consumption, such as environmental attitudes or prior energy-saving behaviors. The authors acknowledged the limitation of not being able to disentangle feedback effects from information on electricity-saving measures. Overall, while the study controlled for many observed confounders, it did not fully account for all potential confounders according to causal inference principles."
      ],
      "text/plain": [
       "<IPython.core.display.HTML object>"
      ]
     },
     "metadata": {},
     "output_type": "display_data"
    },
    {
     "data": {
      "text/html": [
       "<strong>Result:</strong> No"
      ],
      "text/plain": [
       "<IPython.core.display.HTML object>"
      ]
     },
     "metadata": {},
     "output_type": "display_data"
    },
    {
     "data": {
      "text/html": [
       "<hr>"
      ],
      "text/plain": [
       "<IPython.core.display.HTML object>"
      ]
     },
     "metadata": {},
     "output_type": "display_data"
    },
    {
     "data": {
      "text/html": [
       "<h3>Response 12</h3>"
      ],
      "text/plain": [
       "<IPython.core.display.HTML object>"
      ]
     },
     "metadata": {},
     "output_type": "display_data"
    },
    {
     "data": {
      "text/html": [
       "<strong>File Name:</strong> Tiefenbeck, V (2013).md"
      ],
      "text/plain": [
       "<IPython.core.display.HTML object>"
      ]
     },
     "metadata": {},
     "output_type": "display_data"
    },
    {
     "data": {
      "text/html": [
       "<strong>Explanation:</strong> The study controlled for several potential confounders, such as differences in heating/cooling systems, type of water faucets, and major appliances by selecting a housing complex with similar apartment units. Income effects were ruled out since tenants did not pay for water. The study also controlled for the number of occupants and absence days. However, the paper does not mention controlling for other potential confounders like socio-economic status, education level, or environmental attitudes, which could influence both the intervention and the outcome. Without explicit mention or control of these factors, it is unclear if all potential confounders were adequately addressed."
      ],
      "text/plain": [
       "<IPython.core.display.HTML object>"
      ]
     },
     "metadata": {},
     "output_type": "display_data"
    },
    {
     "data": {
      "text/html": [
       "<strong>Result:</strong> No"
      ],
      "text/plain": [
       "<IPython.core.display.HTML object>"
      ]
     },
     "metadata": {},
     "output_type": "display_data"
    },
    {
     "data": {
      "text/html": [
       "<hr>"
      ],
      "text/plain": [
       "<IPython.core.display.HTML object>"
      ]
     },
     "metadata": {},
     "output_type": "display_data"
    }
   ],
   "source": [
    "display_responses(responses12)"
   ]
  },
  {
   "cell_type": "markdown",
   "id": "03ffed6b",
   "metadata": {},
   "source": [
    "## 1.3"
   ]
  },
  {
   "cell_type": "markdown",
   "id": "f4073d2a",
   "metadata": {},
   "source": [
    "### V1"
   ]
  },
  {
   "cell_type": "code",
   "execution_count": 16,
   "id": "3fce85e6",
   "metadata": {},
   "outputs": [
    {
     "data": {
      "text/html": [
       "\n",
       "# Risk of Bias Assessment Criteria\n",
       "### 1.3) Confounder Justified Omission:\n",
       "Is there any justifiable reason for not controlling for all the potential confounders (so that omission of some of the potential confounders is unlikely to influence the assessment of the effectiveness or impact)?\n",
       "\n",
       "Consider the following:\n",
       "- Step 1: Were any plausible confounders (e.g., demographics, building characteristics, behavioral traits) omitted or not discussed in the analysis? Do not assume RCT or fixed effects alone means all confounders were handled. If yes, continue to Step 2.\n",
       "- Step 2: Did the authors clearly justify the omission? Acceptable reasons include: RCT, DiD, or fixed effects used **and explained**, **or** clearly stated use of randomization (RCT) that reasonably implies balance between groups, even if not accompanied by a detailed discussion of confounder handling, Fixed effects at a sufficiently granular level (e.g., household, individual, firm), Balance shown between groups, Homogeneous samples, Practical or methodological constraints common in the field (e.g., voluntary participation, lack of a control group, lack of data on non-participants, gradual phase-in designs, limited data, privacy or data protection restrictions, small sample sizes due to technology adoption limits or intrusive measurement methods, recognized limitations of certain designs such as DiD’s inability to fully control for all confounders), Concern for overadjustment, Norms in the field , An **instrumental variable** used appropriately (i.e., not associated with the confounder(s), associated with the intervention/exposure, and does not directly influence the outcome — enabling valid estimation)\n",
       "- **Step 3:** Was the justification valid and reasonable? If plausible confounders were omitted **and** at least one acceptable reason from Step 2 is present, you must select **Yes** — even if the authors do not explicitly frame it as a justification or provide additional discussion.\n",
       "- Recognized methodological limitations (e.g., DiD’s inability to fully control for all confounders) and practical constraints common in the field (e.g., voluntary participation, lack of control group, privacy restrictions, small sample sizes from intrusive technology) are sufficient for a **yes** when they are unavoidable and align with accepted norms in the literature.\n",
       "- Constraints (small N, privacy, feasibility) should only be reported as contextual limitations, not as justification, unless the authors clearly argue why due to the limits, confounders were not controlled for.\n"
      ],
      "text/plain": [
       "<IPython.core.display.HTML object>"
      ]
     },
     "metadata": {},
     "output_type": "display_data"
    },
    {
     "data": {
      "text/html": [
       "<div>\n",
       "<style scoped>\n",
       "    .dataframe tbody tr th:only-of-type {\n",
       "        vertical-align: middle;\n",
       "    }\n",
       "\n",
       "    .dataframe tbody tr th {\n",
       "        vertical-align: top;\n",
       "    }\n",
       "\n",
       "    .dataframe thead th {\n",
       "        text-align: right;\n",
       "    }\n",
       "</style>\n",
       "<table border=\"1\" class=\"dataframe\">\n",
       "  <thead>\n",
       "    <tr style=\"text-align: right;\">\n",
       "      <th></th>\n",
       "      <th>names</th>\n",
       "      <th>criteria_1_3</th>\n",
       "      <th>criteria_1_3_human</th>\n",
       "    </tr>\n",
       "  </thead>\n",
       "  <tbody>\n",
       "    <tr>\n",
       "      <th>0</th>\n",
       "      <td>Allcott, H (2011).md</td>\n",
       "      <td>**Yes**</td>\n",
       "      <td>yes</td>\n",
       "    </tr>\n",
       "    <tr>\n",
       "      <th>1</th>\n",
       "      <td>Andor, Gerster, Peters, Schmidt, 2020.md</td>\n",
       "      <td>No</td>\n",
       "      <td>no</td>\n",
       "    </tr>\n",
       "    <tr>\n",
       "      <th>2</th>\n",
       "      <td>Asensio, OI; Delmas, MA (2016).md</td>\n",
       "      <td>**Yes**</td>\n",
       "      <td>no</td>\n",
       "    </tr>\n",
       "    <tr>\n",
       "      <th>3</th>\n",
       "      <td>Ayres, Raseman, Shih, 2012.md</td>\n",
       "      <td>Yes</td>\n",
       "      <td>no</td>\n",
       "    </tr>\n",
       "    <tr>\n",
       "      <th>4</th>\n",
       "      <td>Bager, S; Mundaca, L (2017).md</td>\n",
       "      <td>No</td>\n",
       "      <td>no</td>\n",
       "    </tr>\n",
       "    <tr>\n",
       "      <th>5</th>\n",
       "      <td>Becker, LJ; Rabinowitz, VC; Seligman, C.md</td>\n",
       "      <td>No</td>\n",
       "      <td>yes</td>\n",
       "    </tr>\n",
       "    <tr>\n",
       "      <th>6</th>\n",
       "      <td>Carroll, J; Lyons, S; Denny, E (2014).md</td>\n",
       "      <td>**Yes**</td>\n",
       "      <td>yes</td>\n",
       "    </tr>\n",
       "    <tr>\n",
       "      <th>7</th>\n",
       "      <td>Houde, S; Todd, A; Sudarshan, A; Flora, JA; Ar...</td>\n",
       "      <td>Yes</td>\n",
       "      <td>no</td>\n",
       "    </tr>\n",
       "    <tr>\n",
       "      <th>8</th>\n",
       "      <td>Matsukawa, I. (2018).md</td>\n",
       "      <td>**Yes**</td>\n",
       "      <td>yes</td>\n",
       "    </tr>\n",
       "    <tr>\n",
       "      <th>9</th>\n",
       "      <td>Nguyen, TTK; Shimada, K; Ochi, Y; Matsumoto, T...</td>\n",
       "      <td>**Yes**</td>\n",
       "      <td>yes</td>\n",
       "    </tr>\n",
       "    <tr>\n",
       "      <th>10</th>\n",
       "      <td>Schleich, J (2013).md</td>\n",
       "      <td>No</td>\n",
       "      <td>yes</td>\n",
       "    </tr>\n",
       "    <tr>\n",
       "      <th>11</th>\n",
       "      <td>Tiefenbeck, V (2013).md</td>\n",
       "      <td>No</td>\n",
       "      <td>yes</td>\n",
       "    </tr>\n",
       "  </tbody>\n",
       "</table>\n",
       "</div>"
      ],
      "text/plain": [
       "                                                names criteria_1_3 criteria_1_3_human\n",
       "0                                Allcott, H (2011).md      **Yes**                yes\n",
       "1            Andor, Gerster, Peters, Schmidt, 2020.md           No                 no\n",
       "2                   Asensio, OI; Delmas, MA (2016).md      **Yes**                 no\n",
       "3                       Ayres, Raseman, Shih, 2012.md          Yes                 no\n",
       "4                      Bager, S; Mundaca, L (2017).md           No                 no\n",
       "5          Becker, LJ; Rabinowitz, VC; Seligman, C.md           No                yes\n",
       "6            Carroll, J; Lyons, S; Denny, E (2014).md      **Yes**                yes\n",
       "7   Houde, S; Todd, A; Sudarshan, A; Flora, JA; Ar...          Yes                 no\n",
       "8                             Matsukawa, I. (2018).md      **Yes**                yes\n",
       "9   Nguyen, TTK; Shimada, K; Ochi, Y; Matsumoto, T...      **Yes**                yes\n",
       "10                              Schleich, J (2013).md           No                yes\n",
       "11                            Tiefenbeck, V (2013).md           No                yes"
      ]
     },
     "metadata": {},
     "output_type": "display_data"
    }
   ],
   "source": [
    "display(HTML(criteria_prompt13))\n",
    "responses13 = extract_responses(\n",
    "    intro_prompt = intro_and_output, \n",
    "    criteria_prompt=criteria_prompt13\n",
    "    )\n",
    "test_results = add_results_to_dataframe(responses13, 'criteria_1_3')"
   ]
  },
  {
   "cell_type": "code",
   "execution_count": 17,
   "id": "19ee5b06",
   "metadata": {},
   "outputs": [
    {
     "data": {
      "text/html": [
       "<h3>Response 1</h3>"
      ],
      "text/plain": [
       "<IPython.core.display.HTML object>"
      ]
     },
     "metadata": {},
     "output_type": "display_data"
    },
    {
     "data": {
      "text/html": [
       "<strong>File Name:</strong> Allcott, H (2011).md"
      ],
      "text/plain": [
       "<IPython.core.display.HTML object>"
      ]
     },
     "metadata": {},
     "output_type": "display_data"
    },
    {
     "data": {
      "text/html": [
       "<strong>Explanation:</strong> The study uses randomized natural field experiments involving 600,000 treatment and control households across the United States. The use of randomization in such a large sample size reasonably implies balance between groups, even if not accompanied by a detailed discussion of confounder handling. The paper does not explicitly discuss the omission of specific confounders, but the use of randomization and the scale of the study provide a justifiable reason for not controlling for all potential confounders. This aligns with the criteria for a 'Yes' response, as the justification is valid and reasonable given the context and methodology."
      ],
      "text/plain": [
       "<IPython.core.display.HTML object>"
      ]
     },
     "metadata": {},
     "output_type": "display_data"
    },
    {
     "data": {
      "text/html": [
       "<strong>Result:</strong> **Yes**"
      ],
      "text/plain": [
       "<IPython.core.display.HTML object>"
      ]
     },
     "metadata": {},
     "output_type": "display_data"
    },
    {
     "data": {
      "text/html": [
       "<hr>"
      ],
      "text/plain": [
       "<IPython.core.display.HTML object>"
      ]
     },
     "metadata": {},
     "output_type": "display_data"
    },
    {
     "data": {
      "text/html": [
       "<h3>Response 2</h3>"
      ],
      "text/plain": [
       "<IPython.core.display.HTML object>"
      ]
     },
     "metadata": {},
     "output_type": "display_data"
    },
    {
     "data": {
      "text/html": [
       "<strong>File Name:</strong> Andor, Gerster, Peters, Schmidt, 2020.md"
      ],
      "text/plain": [
       "<IPython.core.display.HTML object>"
      ]
     },
     "metadata": {},
     "output_type": "display_data"
    },
    {
     "data": {
      "text/html": [
       "<strong>Explanation:</strong> The study uses a randomized controlled trial (RCT) to assess the effectiveness of home energy reports (HER) in Germany. The authors acknowledge that the annual metering in Germany, which prevents quarterly updates, might reduce the effectiveness of the intervention compared to the US. They also discuss the lower baseline electricity consumption in Germany as a factor for the smaller effect sizes. However, the paper does not explicitly justify the omission of other potential confounders such as demographics or behavioral traits. The focus is on the structural differences in electricity consumption and metering, but there is no detailed discussion or justification for not controlling other plausible confounders. Therefore, the omission of these confounders is not clearly justified in the paper."
      ],
      "text/plain": [
       "<IPython.core.display.HTML object>"
      ]
     },
     "metadata": {},
     "output_type": "display_data"
    },
    {
     "data": {
      "text/html": [
       "<strong>Result:</strong> No"
      ],
      "text/plain": [
       "<IPython.core.display.HTML object>"
      ]
     },
     "metadata": {},
     "output_type": "display_data"
    },
    {
     "data": {
      "text/html": [
       "<hr>"
      ],
      "text/plain": [
       "<IPython.core.display.HTML object>"
      ]
     },
     "metadata": {},
     "output_type": "display_data"
    },
    {
     "data": {
      "text/html": [
       "<h3>Response 3</h3>"
      ],
      "text/plain": [
       "<IPython.core.display.HTML object>"
      ]
     },
     "metadata": {},
     "output_type": "display_data"
    },
    {
     "data": {
      "text/html": [
       "<strong>File Name:</strong> Asensio, OI; Delmas, MA (2016).md"
      ],
      "text/plain": [
       "<IPython.core.display.HTML object>"
      ]
     },
     "metadata": {},
     "output_type": "display_data"
    },
    {
     "data": {
      "text/html": [
       "<strong>Explanation:</strong> The study conducted a randomized controlled trial (RCT) to assess the impact of message framing on energy conservation behavior. The use of RCT implies randomization, which reasonably suggests balance between groups. The authors also conducted tests to ensure there were no significant differences in baseline characteristics between participating and non-participating households, as well as between treatment and control groups. This indicates that potential confounders were likely balanced across groups due to randomization. Additionally, the study included household demographic controls and weather controls in the econometric model, further addressing potential confounders. Therefore, the omission of other potential confounders is justified by the use of RCT and the balance shown between groups."
      ],
      "text/plain": [
       "<IPython.core.display.HTML object>"
      ]
     },
     "metadata": {},
     "output_type": "display_data"
    },
    {
     "data": {
      "text/html": [
       "<strong>Result:</strong> **Yes**"
      ],
      "text/plain": [
       "<IPython.core.display.HTML object>"
      ]
     },
     "metadata": {},
     "output_type": "display_data"
    },
    {
     "data": {
      "text/html": [
       "<hr>"
      ],
      "text/plain": [
       "<IPython.core.display.HTML object>"
      ]
     },
     "metadata": {},
     "output_type": "display_data"
    },
    {
     "data": {
      "text/html": [
       "<h3>Response 4</h3>"
      ],
      "text/plain": [
       "<IPython.core.display.HTML object>"
      ]
     },
     "metadata": {},
     "output_type": "display_data"
    },
    {
     "data": {
      "text/html": [
       "<strong>File Name:</strong> Ayres, Raseman, Shih, 2012.md"
      ],
      "text/plain": [
       "<IPython.core.display.HTML object>"
      ]
     },
     "metadata": {},
     "output_type": "display_data"
    },
    {
     "data": {
      "text/html": [
       "<strong>Explanation:</strong> The study involves two large-scale, random-assignment field experiments conducted by utility companies. The randomization process was used to assign households to treatment and control groups, which implies that potential confounders were likely balanced between these groups. The authors used household-level randomization in the PSE study and batch-level randomization in the SMUD study, which are both explained in the context of the study. The use of randomization reasonably implies balance between groups, even if not accompanied by a detailed discussion of confounder handling. Therefore, the omission of some potential confounders is unlikely to influence the assessment of the effectiveness or impact."
      ],
      "text/plain": [
       "<IPython.core.display.HTML object>"
      ]
     },
     "metadata": {},
     "output_type": "display_data"
    },
    {
     "data": {
      "text/html": [
       "<strong>Result:</strong> Yes"
      ],
      "text/plain": [
       "<IPython.core.display.HTML object>"
      ]
     },
     "metadata": {},
     "output_type": "display_data"
    },
    {
     "data": {
      "text/html": [
       "<hr>"
      ],
      "text/plain": [
       "<IPython.core.display.HTML object>"
      ]
     },
     "metadata": {},
     "output_type": "display_data"
    },
    {
     "data": {
      "text/html": [
       "<h3>Response 5</h3>"
      ],
      "text/plain": [
       "<IPython.core.display.HTML object>"
      ]
     },
     "metadata": {},
     "output_type": "display_data"
    },
    {
     "data": {
      "text/html": [
       "<strong>File Name:</strong> Bager, S; Mundaca, L (2017).md"
      ],
      "text/plain": [
       "<IPython.core.display.HTML object>"
      ]
     },
     "metadata": {},
     "output_type": "display_data"
    },
    {
     "data": {
      "text/html": [
       "<strong>Explanation:</strong> The study does not provide a clear justification for the omission of potential confounders. While the study uses a 'recruit and deny' randomised strategy and a Difference in Differences (DiD) approach, it does not explicitly explain how these methods address all potential confounders. The homogeneity of the sample is mentioned, but there is no detailed discussion on why certain confounders were omitted or how the methods used sufficiently control for them. The study acknowledges limitations such as small sample size and privacy concerns but does not argue these as reasons for not controlling confounders."
      ],
      "text/plain": [
       "<IPython.core.display.HTML object>"
      ]
     },
     "metadata": {},
     "output_type": "display_data"
    },
    {
     "data": {
      "text/html": [
       "<strong>Result:</strong> No"
      ],
      "text/plain": [
       "<IPython.core.display.HTML object>"
      ]
     },
     "metadata": {},
     "output_type": "display_data"
    },
    {
     "data": {
      "text/html": [
       "<hr>"
      ],
      "text/plain": [
       "<IPython.core.display.HTML object>"
      ]
     },
     "metadata": {},
     "output_type": "display_data"
    },
    {
     "data": {
      "text/html": [
       "<h3>Response 6</h3>"
      ],
      "text/plain": [
       "<IPython.core.display.HTML object>"
      ]
     },
     "metadata": {},
     "output_type": "display_data"
    },
    {
     "data": {
      "text/html": [
       "<strong>File Name:</strong> Becker, LJ; Rabinowitz, VC; Seligman, C.md"
      ],
      "text/plain": [
       "<IPython.core.display.HTML object>"
      ]
     },
     "metadata": {},
     "output_type": "display_data"
    },
    {
     "data": {
      "text/html": [
       "<strong>Explanation:</strong> The study uses a nonequivalent control group design with pretest and posttest, which inherently has limitations in controlling for all confounders due to the lack of randomization. The authors acknowledge the inability to randomly assign participants to the average payment plan and control groups, which could lead to self-selection bias. They attempted to mitigate this by selecting control group members who were neighbors or in the same neighborhood, aiming for similarity between groups. However, they did not provide a detailed justification for the omission of specific confounders such as household size, income, or specific energy usage behaviors, which could influence energy consumption. The authors mention practical constraints, such as the utility companies' refusal to allow random assignment, but do not explicitly justify the omission of confounders in a way that aligns with the criteria for a 'Yes' judgment. Therefore, the omission of potential confounders is not clearly justified."
      ],
      "text/plain": [
       "<IPython.core.display.HTML object>"
      ]
     },
     "metadata": {},
     "output_type": "display_data"
    },
    {
     "data": {
      "text/html": [
       "<strong>Result:</strong> No"
      ],
      "text/plain": [
       "<IPython.core.display.HTML object>"
      ]
     },
     "metadata": {},
     "output_type": "display_data"
    },
    {
     "data": {
      "text/html": [
       "<hr>"
      ],
      "text/plain": [
       "<IPython.core.display.HTML object>"
      ]
     },
     "metadata": {},
     "output_type": "display_data"
    },
    {
     "data": {
      "text/html": [
       "<h3>Response 7</h3>"
      ],
      "text/plain": [
       "<IPython.core.display.HTML object>"
      ]
     },
     "metadata": {},
     "output_type": "display_data"
    },
    {
     "data": {
      "text/html": [
       "<strong>File Name:</strong> Carroll, J; Lyons, S; Denny, E (2014).md"
      ],
      "text/plain": [
       "<IPython.core.display.HTML object>"
      ]
     },
     "metadata": {},
     "output_type": "display_data"
    },
    {
     "data": {
      "text/html": [
       "<strong>Explanation:</strong> The study uses a randomized controlled trial (RCT) to assess the impact of smart metering on household electricity demand. The use of RCTs generally implies that randomization balances both observed and unobserved confounders across treatment and control groups. The paper does not explicitly discuss the omission of specific confounders, but the use of RCT is a recognized method that reasonably implies balance between groups. Therefore, the omission of confounders is unlikely to influence the assessment of the effectiveness or impact, as the randomization process should account for them."
      ],
      "text/plain": [
       "<IPython.core.display.HTML object>"
      ]
     },
     "metadata": {},
     "output_type": "display_data"
    },
    {
     "data": {
      "text/html": [
       "<strong>Result:</strong> **Yes**"
      ],
      "text/plain": [
       "<IPython.core.display.HTML object>"
      ]
     },
     "metadata": {},
     "output_type": "display_data"
    },
    {
     "data": {
      "text/html": [
       "<hr>"
      ],
      "text/plain": [
       "<IPython.core.display.HTML object>"
      ]
     },
     "metadata": {},
     "output_type": "display_data"
    },
    {
     "data": {
      "text/html": [
       "<h3>Response 8</h3>"
      ],
      "text/plain": [
       "<IPython.core.display.HTML object>"
      ]
     },
     "metadata": {},
     "output_type": "display_data"
    },
    {
     "data": {
      "text/html": [
       "<strong>File Name:</strong> Houde, S; Todd, A; Sudarshan, A; Flora, JA; Armel, KC (2013).md"
      ],
      "text/plain": [
       "<IPython.core.display.HTML object>"
      ]
     },
     "metadata": {},
     "output_type": "display_data"
    },
    {
     "data": {
      "text/html": [
       "<strong>Explanation:</strong> The study uses a randomized controlled trial (RCT) to assess the impact of real-time feedback on electricity consumption. The authors mention that they examined demographics, housing characteristics, and psychological variables but found no convincing evidence that these characteristics explained heterogeneity in treatment effects. The use of RCT implies randomization, which reasonably implies balance between groups, even if not accompanied by a detailed discussion of confounder handling. The study also acknowledges practical constraints such as voluntary participation and the specific sample characteristics (e.g., employees from a large IT company), which are common in the field. These factors align with accepted norms and provide a justifiable reason for not controlling for all potential confounders."
      ],
      "text/plain": [
       "<IPython.core.display.HTML object>"
      ]
     },
     "metadata": {},
     "output_type": "display_data"
    },
    {
     "data": {
      "text/html": [
       "<strong>Result:</strong> Yes"
      ],
      "text/plain": [
       "<IPython.core.display.HTML object>"
      ]
     },
     "metadata": {},
     "output_type": "display_data"
    },
    {
     "data": {
      "text/html": [
       "<hr>"
      ],
      "text/plain": [
       "<IPython.core.display.HTML object>"
      ]
     },
     "metadata": {},
     "output_type": "display_data"
    },
    {
     "data": {
      "text/html": [
       "<h3>Response 9</h3>"
      ],
      "text/plain": [
       "<IPython.core.display.HTML object>"
      ]
     },
     "metadata": {},
     "output_type": "display_data"
    },
    {
     "data": {
      "text/html": [
       "<strong>File Name:</strong> Matsukawa, I. (2018).md"
      ],
      "text/plain": [
       "<IPython.core.display.HTML object>"
      ]
     },
     "metadata": {},
     "output_type": "display_data"
    },
    {
     "data": {
      "text/html": [
       "<strong>Explanation:</strong> The study uses a randomized field experiment to assess the impact of in-home displays (IHDs) on electricity consumption. The randomization process is detailed, with statistical tests confirming no significant differences between treatment and control groups in pre-experiment electricity consumption. The study acknowledges potential selection bias due to differences in participation rates and household characteristics but provides statistical evidence supporting randomization. The use of fixed effects models helps control for unobserved heterogeneity. While the study does not explicitly discuss every potential confounder, the use of randomization and fixed effects provides a justifiable reason for not controlling for all potential confounders, aligning with accepted norms in the literature."
      ],
      "text/plain": [
       "<IPython.core.display.HTML object>"
      ]
     },
     "metadata": {},
     "output_type": "display_data"
    },
    {
     "data": {
      "text/html": [
       "<strong>Result:</strong> **Yes**"
      ],
      "text/plain": [
       "<IPython.core.display.HTML object>"
      ]
     },
     "metadata": {},
     "output_type": "display_data"
    },
    {
     "data": {
      "text/html": [
       "<hr>"
      ],
      "text/plain": [
       "<IPython.core.display.HTML object>"
      ]
     },
     "metadata": {},
     "output_type": "display_data"
    },
    {
     "data": {
      "text/html": [
       "<h3>Response 10</h3>"
      ],
      "text/plain": [
       "<IPython.core.display.HTML object>"
      ]
     },
     "metadata": {},
     "output_type": "display_data"
    },
    {
     "data": {
      "text/html": [
       "<strong>File Name:</strong> Nguyen, TTK; Shimada, K; Ochi, Y; Matsumoto, T; Matsugi, H; Awata, T (2016).md"
      ],
      "text/plain": [
       "<IPython.core.display.HTML object>"
      ]
     },
     "metadata": {},
     "output_type": "display_data"
    },
    {
     "data": {
      "text/html": [
       "<strong>Explanation:</strong> The study uses a randomized controlled trial (RCT) design, which is a strong justification for not controlling all potential confounders. The authors randomly assigned 50 households into control and treatment groups, which implies balance between groups. The use of randomization is a recognized method to handle confounders, and the study also employs the difference-in-differences (DiD) method, which is explained in the context of the study. These methods are acceptable reasons for the omission of some confounders, as they align with norms in the field and are explained in the study."
      ],
      "text/plain": [
       "<IPython.core.display.HTML object>"
      ]
     },
     "metadata": {},
     "output_type": "display_data"
    },
    {
     "data": {
      "text/html": [
       "<strong>Result:</strong> **Yes**"
      ],
      "text/plain": [
       "<IPython.core.display.HTML object>"
      ]
     },
     "metadata": {},
     "output_type": "display_data"
    },
    {
     "data": {
      "text/html": [
       "<hr>"
      ],
      "text/plain": [
       "<IPython.core.display.HTML object>"
      ]
     },
     "metadata": {},
     "output_type": "display_data"
    },
    {
     "data": {
      "text/html": [
       "<h3>Response 11</h3>"
      ],
      "text/plain": [
       "<IPython.core.display.HTML object>"
      ]
     },
     "metadata": {},
     "output_type": "display_data"
    },
    {
     "data": {
      "text/html": [
       "<strong>File Name:</strong> Schleich, J (2013).md"
      ],
      "text/plain": [
       "<IPython.core.display.HTML object>"
      ]
     },
     "metadata": {},
     "output_type": "display_data"
    },
    {
     "data": {
      "text/html": [
       "<strong>Explanation:</strong> The paper describes a field trial in Austria to assess the effects of feedback on residential electricity demand. The study involved a pilot group and a control group, with random assignment to the pilot group. The authors controlled for a wide range of socio-economic factors and household appliance stock in their econometric analysis. However, the paper does not explicitly discuss or justify the omission of any potential confounders. The use of random assignment to the pilot group is mentioned, but there is no detailed explanation of how all potential confounders were handled or justified omissions. Therefore, based on the provided criteria, the justification for not controlling all potential confounders is not clearly articulated."
      ],
      "text/plain": [
       "<IPython.core.display.HTML object>"
      ]
     },
     "metadata": {},
     "output_type": "display_data"
    },
    {
     "data": {
      "text/html": [
       "<strong>Result:</strong> No"
      ],
      "text/plain": [
       "<IPython.core.display.HTML object>"
      ]
     },
     "metadata": {},
     "output_type": "display_data"
    },
    {
     "data": {
      "text/html": [
       "<hr>"
      ],
      "text/plain": [
       "<IPython.core.display.HTML object>"
      ]
     },
     "metadata": {},
     "output_type": "display_data"
    },
    {
     "data": {
      "text/html": [
       "<h3>Response 12</h3>"
      ],
      "text/plain": [
       "<IPython.core.display.HTML object>"
      ]
     },
     "metadata": {},
     "output_type": "display_data"
    },
    {
     "data": {
      "text/html": [
       "<strong>File Name:</strong> Tiefenbeck, V (2013).md"
      ],
      "text/plain": [
       "<IPython.core.display.HTML object>"
      ]
     },
     "metadata": {},
     "output_type": "display_data"
    },
    {
     "data": {
      "text/html": [
       "<strong>Explanation:</strong> The study investigates the impact of a water conservation campaign on electricity consumption, identifying a moral licensing effect where participants increased electricity use despite reducing water consumption. The authors controlled for several potential confounders, such as differences in heating/cooling systems and appliance types, by selecting a housing complex with similar units. They also ruled out income effects since water was not billed to tenants. The study used a quasi-experimental design with random assignment within one building and controlled for observed variables like the number of occupants and absence days. However, the paper does not explicitly discuss or justify the omission of other potential confounders like behavioral traits or detailed demographic differences. While the study design and controls are robust, the lack of explicit justification for omitting other confounders means the omission could potentially influence the assessment of the campaign's impact."
      ],
      "text/plain": [
       "<IPython.core.display.HTML object>"
      ]
     },
     "metadata": {},
     "output_type": "display_data"
    },
    {
     "data": {
      "text/html": [
       "<strong>Result:</strong> No"
      ],
      "text/plain": [
       "<IPython.core.display.HTML object>"
      ]
     },
     "metadata": {},
     "output_type": "display_data"
    },
    {
     "data": {
      "text/html": [
       "<hr>"
      ],
      "text/plain": [
       "<IPython.core.display.HTML object>"
      ]
     },
     "metadata": {},
     "output_type": "display_data"
    }
   ],
   "source": [
    "display_responses(responses13)"
   ]
  },
  {
   "cell_type": "markdown",
   "id": "1d715929",
   "metadata": {},
   "source": [
    "### V2"
   ]
  },
  {
   "cell_type": "code",
   "execution_count": 18,
   "id": "19448a91",
   "metadata": {},
   "outputs": [
    {
     "data": {
      "text/html": [
       "\n",
       "# Risk of Bias Assessment Criteria\n",
       "Confounder Justified Omission: Is there any justifiable reason for not controlling for all the potential confounders (so that omission of some of the potential confounders is unlikely to influence the assessment of the effectiveness or impact)?\n",
       "Consider the following:\n",
       "Answer **Yes** when there is evidence that omission of some of the potential confounders does not affect the assessment of effectiveness or impact. This may be the case if adjusting all potential confounders will lead to overadjustment, or an ‘instrumental variable’ is used for estimating the effectiveness or impact, etc. Instrumental variable is a variable that (1) is not associated with the confounder(s), (2) is associated with the intervention/exposure but (3) does not directly influence the outcome. If used appropriately, it enables valid estimation. \n"
      ],
      "text/plain": [
       "<IPython.core.display.HTML object>"
      ]
     },
     "metadata": {},
     "output_type": "display_data"
    },
    {
     "data": {
      "text/html": [
       "<div>\n",
       "<style scoped>\n",
       "    .dataframe tbody tr th:only-of-type {\n",
       "        vertical-align: middle;\n",
       "    }\n",
       "\n",
       "    .dataframe tbody tr th {\n",
       "        vertical-align: top;\n",
       "    }\n",
       "\n",
       "    .dataframe thead th {\n",
       "        text-align: right;\n",
       "    }\n",
       "</style>\n",
       "<table border=\"1\" class=\"dataframe\">\n",
       "  <thead>\n",
       "    <tr style=\"text-align: right;\">\n",
       "      <th></th>\n",
       "      <th>names</th>\n",
       "      <th>criteria_1_3</th>\n",
       "      <th>criteria_1_3_human</th>\n",
       "    </tr>\n",
       "  </thead>\n",
       "  <tbody>\n",
       "    <tr>\n",
       "      <th>0</th>\n",
       "      <td>Allcott, H (2011).md</td>\n",
       "      <td>**No**</td>\n",
       "      <td>yes</td>\n",
       "    </tr>\n",
       "    <tr>\n",
       "      <th>1</th>\n",
       "      <td>Andor, Gerster, Peters, Schmidt, 2020.md</td>\n",
       "      <td>No</td>\n",
       "      <td>no</td>\n",
       "    </tr>\n",
       "    <tr>\n",
       "      <th>2</th>\n",
       "      <td>Asensio, OI; Delmas, MA (2016).md</td>\n",
       "      <td>No</td>\n",
       "      <td>no</td>\n",
       "    </tr>\n",
       "    <tr>\n",
       "      <th>3</th>\n",
       "      <td>Ayres, Raseman, Shih, 2012.md</td>\n",
       "      <td>Yes</td>\n",
       "      <td>no</td>\n",
       "    </tr>\n",
       "    <tr>\n",
       "      <th>4</th>\n",
       "      <td>Bager, S; Mundaca, L (2017).md</td>\n",
       "      <td>No</td>\n",
       "      <td>no</td>\n",
       "    </tr>\n",
       "    <tr>\n",
       "      <th>5</th>\n",
       "      <td>Becker, LJ; Rabinowitz, VC; Seligman, C.md</td>\n",
       "      <td>No</td>\n",
       "      <td>yes</td>\n",
       "    </tr>\n",
       "    <tr>\n",
       "      <th>6</th>\n",
       "      <td>Carroll, J; Lyons, S; Denny, E (2014).md</td>\n",
       "      <td>**No**</td>\n",
       "      <td>yes</td>\n",
       "    </tr>\n",
       "    <tr>\n",
       "      <th>7</th>\n",
       "      <td>Houde, S; Todd, A; Sudarshan, A; Flora, JA; Ar...</td>\n",
       "      <td>No</td>\n",
       "      <td>no</td>\n",
       "    </tr>\n",
       "    <tr>\n",
       "      <th>8</th>\n",
       "      <td>Matsukawa, I. (2018).md</td>\n",
       "      <td>No</td>\n",
       "      <td>yes</td>\n",
       "    </tr>\n",
       "    <tr>\n",
       "      <th>9</th>\n",
       "      <td>Nguyen, TTK; Shimada, K; Ochi, Y; Matsumoto, T...</td>\n",
       "      <td>No</td>\n",
       "      <td>yes</td>\n",
       "    </tr>\n",
       "    <tr>\n",
       "      <th>10</th>\n",
       "      <td>Schleich, J (2013).md</td>\n",
       "      <td>**Yes**</td>\n",
       "      <td>yes</td>\n",
       "    </tr>\n",
       "    <tr>\n",
       "      <th>11</th>\n",
       "      <td>Tiefenbeck, V (2013).md</td>\n",
       "      <td>**Yes**</td>\n",
       "      <td>yes</td>\n",
       "    </tr>\n",
       "  </tbody>\n",
       "</table>\n",
       "</div>"
      ],
      "text/plain": [
       "                                                names criteria_1_3 criteria_1_3_human\n",
       "0                                Allcott, H (2011).md       **No**                yes\n",
       "1            Andor, Gerster, Peters, Schmidt, 2020.md           No                 no\n",
       "2                   Asensio, OI; Delmas, MA (2016).md           No                 no\n",
       "3                       Ayres, Raseman, Shih, 2012.md          Yes                 no\n",
       "4                      Bager, S; Mundaca, L (2017).md           No                 no\n",
       "5          Becker, LJ; Rabinowitz, VC; Seligman, C.md           No                yes\n",
       "6            Carroll, J; Lyons, S; Denny, E (2014).md       **No**                yes\n",
       "7   Houde, S; Todd, A; Sudarshan, A; Flora, JA; Ar...           No                 no\n",
       "8                             Matsukawa, I. (2018).md           No                yes\n",
       "9   Nguyen, TTK; Shimada, K; Ochi, Y; Matsumoto, T...           No                yes\n",
       "10                              Schleich, J (2013).md      **Yes**                yes\n",
       "11                            Tiefenbeck, V (2013).md      **Yes**                yes"
      ]
     },
     "metadata": {},
     "output_type": "display_data"
    }
   ],
   "source": [
    "display(HTML(criteria_prompt13_v2))\n",
    "test_results = test_results.drop(columns=['criteria_1_3', 'criteria_1_3_human'])\n",
    "responses13 = extract_responses(\n",
    "    intro_prompt = intro_and_output, \n",
    "    criteria_prompt=criteria_prompt13_v2\n",
    "    )\n",
    "test_results = add_results_to_dataframe(responses13, 'criteria_1_3')"
   ]
  },
  {
   "cell_type": "code",
   "execution_count": 19,
   "id": "63b30f4b",
   "metadata": {},
   "outputs": [
    {
     "data": {
      "text/html": [
       "<h3>Response 1</h3>"
      ],
      "text/plain": [
       "<IPython.core.display.HTML object>"
      ]
     },
     "metadata": {},
     "output_type": "display_data"
    },
    {
     "data": {
      "text/html": [
       "<strong>File Name:</strong> Allcott, H (2011).md"
      ],
      "text/plain": [
       "<IPython.core.display.HTML object>"
      ]
     },
     "metadata": {},
     "output_type": "display_data"
    },
    {
     "data": {
      "text/html": [
       "<strong>Explanation:</strong> The paper does not provide explicit evidence that the omission of potential confounders does not affect the assessment of effectiveness or impact. While it uses a randomized field experiment design, which helps control for confounders, the paper does not discuss the use of instrumental variables or provide a justification for not controlling all potential confounders. The focus is on the treatment effects and cost-effectiveness of the OPOWER program, but it lacks a detailed discussion on confounder omission justification."
      ],
      "text/plain": [
       "<IPython.core.display.HTML object>"
      ]
     },
     "metadata": {},
     "output_type": "display_data"
    },
    {
     "data": {
      "text/html": [
       "<strong>Result:</strong> **No**"
      ],
      "text/plain": [
       "<IPython.core.display.HTML object>"
      ]
     },
     "metadata": {},
     "output_type": "display_data"
    },
    {
     "data": {
      "text/html": [
       "<hr>"
      ],
      "text/plain": [
       "<IPython.core.display.HTML object>"
      ]
     },
     "metadata": {},
     "output_type": "display_data"
    },
    {
     "data": {
      "text/html": [
       "<h3>Response 2</h3>"
      ],
      "text/plain": [
       "<IPython.core.display.HTML object>"
      ]
     },
     "metadata": {},
     "output_type": "display_data"
    },
    {
     "data": {
      "text/html": [
       "<strong>File Name:</strong> Andor, Gerster, Peters, Schmidt, 2020.md"
      ],
      "text/plain": [
       "<IPython.core.display.HTML object>"
      ]
     },
     "metadata": {},
     "output_type": "display_data"
    },
    {
     "data": {
      "text/html": [
       "<strong>Explanation:</strong> The paper does not provide a justifiable reason for omitting potential confounders in the analysis of the effectiveness of HER interventions. The study acknowledges differences in electricity consumption and carbon intensity between the US and other countries, which could act as confounders. However, it does not explicitly address why certain confounders were not controlled for or provide evidence that their omission does not affect the assessment. The study focuses on comparing effect sizes across different contexts but does not use an instrumental variable or other methods to justify the omission of confounders. Therefore, based on the information provided, the omission of potential confounders is not justified."
      ],
      "text/plain": [
       "<IPython.core.display.HTML object>"
      ]
     },
     "metadata": {},
     "output_type": "display_data"
    },
    {
     "data": {
      "text/html": [
       "<strong>Result:</strong> No"
      ],
      "text/plain": [
       "<IPython.core.display.HTML object>"
      ]
     },
     "metadata": {},
     "output_type": "display_data"
    },
    {
     "data": {
      "text/html": [
       "<hr>"
      ],
      "text/plain": [
       "<IPython.core.display.HTML object>"
      ]
     },
     "metadata": {},
     "output_type": "display_data"
    },
    {
     "data": {
      "text/html": [
       "<h3>Response 3</h3>"
      ],
      "text/plain": [
       "<IPython.core.display.HTML object>"
      ]
     },
     "metadata": {},
     "output_type": "display_data"
    },
    {
     "data": {
      "text/html": [
       "<strong>File Name:</strong> Asensio, OI; Delmas, MA (2016).md"
      ],
      "text/plain": [
       "<IPython.core.display.HTML object>"
      ]
     },
     "metadata": {},
     "output_type": "display_data"
    },
    {
     "data": {
      "text/html": [
       "<strong>Explanation:</strong> The study conducted a randomized controlled trial to assess the impact of message framing on energy conservation behavior. It used advanced metering technologies to provide real-time feedback to households. The study controlled for various factors such as household demographics, weather, and seasonality. However, it did not explicitly mention the use of instrumental variables or provide a justifiable reason for omitting potential confounders. The study focused on the effects of different message frames (health vs. cost savings) but did not address whether all potential confounders were considered or justified their omission. Therefore, without explicit evidence or justification for not controlling all potential confounders, the omission cannot be deemed justifiable."
      ],
      "text/plain": [
       "<IPython.core.display.HTML object>"
      ]
     },
     "metadata": {},
     "output_type": "display_data"
    },
    {
     "data": {
      "text/html": [
       "<strong>Result:</strong> No"
      ],
      "text/plain": [
       "<IPython.core.display.HTML object>"
      ]
     },
     "metadata": {},
     "output_type": "display_data"
    },
    {
     "data": {
      "text/html": [
       "<hr>"
      ],
      "text/plain": [
       "<IPython.core.display.HTML object>"
      ]
     },
     "metadata": {},
     "output_type": "display_data"
    },
    {
     "data": {
      "text/html": [
       "<h3>Response 4</h3>"
      ],
      "text/plain": [
       "<IPython.core.display.HTML object>"
      ]
     },
     "metadata": {},
     "output_type": "display_data"
    },
    {
     "data": {
      "text/html": [
       "<strong>File Name:</strong> Ayres, Raseman, Shih, 2012.md"
      ],
      "text/plain": [
       "<IPython.core.display.HTML object>"
      ]
     },
     "metadata": {},
     "output_type": "display_data"
    },
    {
     "data": {
      "text/html": [
       "<strong>Explanation:</strong> The paper describes two large-scale, random-assignment field experiments conducted by utility companies in partnership with Opower. The experiments involved providing feedback to customers on their energy usage compared to their peers. The study controlled for various factors such as house characteristics, household demographics, and weather conditions. The randomization process and the use of control groups help mitigate the risk of confounding variables. The paper does not explicitly mention the omission of potential confounders affecting the assessment of effectiveness. The use of randomization and control groups suggests that the omission of some potential confounders is unlikely to influence the assessment of the effectiveness of the intervention."
      ],
      "text/plain": [
       "<IPython.core.display.HTML object>"
      ]
     },
     "metadata": {},
     "output_type": "display_data"
    },
    {
     "data": {
      "text/html": [
       "<strong>Result:</strong> Yes"
      ],
      "text/plain": [
       "<IPython.core.display.HTML object>"
      ]
     },
     "metadata": {},
     "output_type": "display_data"
    },
    {
     "data": {
      "text/html": [
       "<hr>"
      ],
      "text/plain": [
       "<IPython.core.display.HTML object>"
      ]
     },
     "metadata": {},
     "output_type": "display_data"
    },
    {
     "data": {
      "text/html": [
       "<h3>Response 5</h3>"
      ],
      "text/plain": [
       "<IPython.core.display.HTML object>"
      ]
     },
     "metadata": {},
     "output_type": "display_data"
    },
    {
     "data": {
      "text/html": [
       "<strong>File Name:</strong> Bager, S; Mundaca, L (2017).md"
      ],
      "text/plain": [
       "<IPython.core.display.HTML object>"
      ]
     },
     "metadata": {},
     "output_type": "display_data"
    },
    {
     "data": {
      "text/html": [
       "<strong>Explanation:</strong> The study does not provide a justifiable reason for not controlling all potential confounders. While the study uses a 'recruit and deny' randomised strategy and a Difference in Differences (DID) approach to address between-group effects, it does not mention the use of an instrumental variable or any specific method to justify the omission of potential confounders. The study acknowledges the limitations of small sample size and the lack of socio-economic data, which suggests that confounders might not have been fully controlled. Therefore, the omission of potential confounders could influence the assessment of the intervention's effectiveness."
      ],
      "text/plain": [
       "<IPython.core.display.HTML object>"
      ]
     },
     "metadata": {},
     "output_type": "display_data"
    },
    {
     "data": {
      "text/html": [
       "<strong>Result:</strong> No"
      ],
      "text/plain": [
       "<IPython.core.display.HTML object>"
      ]
     },
     "metadata": {},
     "output_type": "display_data"
    },
    {
     "data": {
      "text/html": [
       "<hr>"
      ],
      "text/plain": [
       "<IPython.core.display.HTML object>"
      ]
     },
     "metadata": {},
     "output_type": "display_data"
    },
    {
     "data": {
      "text/html": [
       "<h3>Response 6</h3>"
      ],
      "text/plain": [
       "<IPython.core.display.HTML object>"
      ]
     },
     "metadata": {},
     "output_type": "display_data"
    },
    {
     "data": {
      "text/html": [
       "<strong>File Name:</strong> Becker, LJ; Rabinowitz, VC; Seligman, C.md"
      ],
      "text/plain": [
       "<IPython.core.display.HTML object>"
      ]
     },
     "metadata": {},
     "output_type": "display_data"
    },
    {
     "data": {
      "text/html": [
       "<strong>Explanation:</strong> The study does not provide a justifiable reason for not controlling all potential confounders. The authors acknowledge the inability to randomly assign participants to treatment and control groups, which could lead to confounding due to self-selection bias. They attempted to match control groups by selecting neighbors or nearby households, but this does not fully address potential confounders such as household size, presence of air conditioning, or other factors influencing energy consumption. The study does not mention using an instrumental variable or any other method to justify the omission of controlling for all potential confounders."
      ],
      "text/plain": [
       "<IPython.core.display.HTML object>"
      ]
     },
     "metadata": {},
     "output_type": "display_data"
    },
    {
     "data": {
      "text/html": [
       "<strong>Result:</strong> No"
      ],
      "text/plain": [
       "<IPython.core.display.HTML object>"
      ]
     },
     "metadata": {},
     "output_type": "display_data"
    },
    {
     "data": {
      "text/html": [
       "<hr>"
      ],
      "text/plain": [
       "<IPython.core.display.HTML object>"
      ]
     },
     "metadata": {},
     "output_type": "display_data"
    },
    {
     "data": {
      "text/html": [
       "<h3>Response 7</h3>"
      ],
      "text/plain": [
       "<IPython.core.display.HTML object>"
      ]
     },
     "metadata": {},
     "output_type": "display_data"
    },
    {
     "data": {
      "text/html": [
       "<strong>File Name:</strong> Carroll, J; Lyons, S; Denny, E (2014).md"
      ],
      "text/plain": [
       "<IPython.core.display.HTML object>"
      ]
     },
     "metadata": {},
     "output_type": "display_data"
    },
    {
     "data": {
      "text/html": [
       "<strong>Explanation:</strong> The study uses a randomized controlled trial to assess the impact of smart metering on household electricity demand. It explores the role of feedback and time-of-use tariffs in reducing demand. The paper acknowledges the presence of potential confounders, such as household characteristics and appliance usage, but does not provide a detailed justification for omitting specific confounders. The analysis focuses on self-reported information changes and their correlation with demand reductions, but it does not explicitly address whether the omission of certain confounders could bias the results. The use of a randomized controlled trial design helps mitigate some bias, but the lack of explicit justification for confounder omission means the risk of bias cannot be ruled out."
      ],
      "text/plain": [
       "<IPython.core.display.HTML object>"
      ]
     },
     "metadata": {},
     "output_type": "display_data"
    },
    {
     "data": {
      "text/html": [
       "<strong>Result:</strong> **No**"
      ],
      "text/plain": [
       "<IPython.core.display.HTML object>"
      ]
     },
     "metadata": {},
     "output_type": "display_data"
    },
    {
     "data": {
      "text/html": [
       "<hr>"
      ],
      "text/plain": [
       "<IPython.core.display.HTML object>"
      ]
     },
     "metadata": {},
     "output_type": "display_data"
    },
    {
     "data": {
      "text/html": [
       "<h3>Response 8</h3>"
      ],
      "text/plain": [
       "<IPython.core.display.HTML object>"
      ]
     },
     "metadata": {},
     "output_type": "display_data"
    },
    {
     "data": {
      "text/html": [
       "<strong>File Name:</strong> Houde, S; Todd, A; Sudarshan, A; Flora, JA; Armel, KC (2013).md"
      ],
      "text/plain": [
       "<IPython.core.display.HTML object>"
      ]
     },
     "metadata": {},
     "output_type": "display_data"
    },
    {
     "data": {
      "text/html": [
       "<strong>Explanation:</strong> The study uses a randomized controlled trial to assess the impact of real-time feedback technology on electricity consumption. The authors mention that they examined demographics, housing characteristics, and psychological variables but found no convincing evidence that these household characteristics explained heterogeneity in treatment effects. However, the paper does not provide a detailed justification for omitting specific potential confounders or discuss the use of an instrumental variable to address confounding. The analysis focuses on treatment effects and persistence over time but lacks explicit reasoning for not controlling all potential confounders. Therefore, without clear justification or evidence that omission does not affect the assessment, the criteria for justified omission are not met."
      ],
      "text/plain": [
       "<IPython.core.display.HTML object>"
      ]
     },
     "metadata": {},
     "output_type": "display_data"
    },
    {
     "data": {
      "text/html": [
       "<strong>Result:</strong> No"
      ],
      "text/plain": [
       "<IPython.core.display.HTML object>"
      ]
     },
     "metadata": {},
     "output_type": "display_data"
    },
    {
     "data": {
      "text/html": [
       "<hr>"
      ],
      "text/plain": [
       "<IPython.core.display.HTML object>"
      ]
     },
     "metadata": {},
     "output_type": "display_data"
    },
    {
     "data": {
      "text/html": [
       "<h3>Response 9</h3>"
      ],
      "text/plain": [
       "<IPython.core.display.HTML object>"
      ]
     },
     "metadata": {},
     "output_type": "display_data"
    },
    {
     "data": {
      "text/html": [
       "<strong>File Name:</strong> Matsukawa, I. (2018).md"
      ],
      "text/plain": [
       "<IPython.core.display.HTML object>"
      ]
     },
     "metadata": {},
     "output_type": "display_data"
    },
    {
     "data": {
      "text/html": [
       "<strong>Explanation:</strong> The study does not provide a justifiable reason for omitting potential confounders in the analysis. While the study uses a simultaneous equation model to account for the relationship between IHD usage and electricity consumption, it does not explicitly address whether all potential confounders were considered or why some might have been omitted. The use of an instrumental variable or overadjustment concerns are not mentioned. The focus is on the effects of IHD usage and pecuniary incentives, but the justification for not controlling all potential confounders is not provided."
      ],
      "text/plain": [
       "<IPython.core.display.HTML object>"
      ]
     },
     "metadata": {},
     "output_type": "display_data"
    },
    {
     "data": {
      "text/html": [
       "<strong>Result:</strong> No"
      ],
      "text/plain": [
       "<IPython.core.display.HTML object>"
      ]
     },
     "metadata": {},
     "output_type": "display_data"
    },
    {
     "data": {
      "text/html": [
       "<hr>"
      ],
      "text/plain": [
       "<IPython.core.display.HTML object>"
      ]
     },
     "metadata": {},
     "output_type": "display_data"
    },
    {
     "data": {
      "text/html": [
       "<h3>Response 10</h3>"
      ],
      "text/plain": [
       "<IPython.core.display.HTML object>"
      ]
     },
     "metadata": {},
     "output_type": "display_data"
    },
    {
     "data": {
      "text/html": [
       "<strong>File Name:</strong> Nguyen, TTK; Shimada, K; Ochi, Y; Matsumoto, T; Matsugi, H; Awata, T (2016).md"
      ],
      "text/plain": [
       "<IPython.core.display.HTML object>"
      ]
     },
     "metadata": {},
     "output_type": "display_data"
    },
    {
     "data": {
      "text/html": [
       "<strong>Explanation:</strong> The study uses a randomized controlled trial design with a control group and a treatment group to assess the impact of dynamic pricing on electricity consumption. The authors control for various factors such as weather conditions, household attributes, and lifestyle factors. However, the paper does not provide a specific justification for omitting any potential confounders. The study does not mention the use of instrumental variables or discuss overadjustment concerns. Therefore, there is no clear evidence that the omission of potential confounders does not affect the assessment of effectiveness."
      ],
      "text/plain": [
       "<IPython.core.display.HTML object>"
      ]
     },
     "metadata": {},
     "output_type": "display_data"
    },
    {
     "data": {
      "text/html": [
       "<strong>Result:</strong> No"
      ],
      "text/plain": [
       "<IPython.core.display.HTML object>"
      ]
     },
     "metadata": {},
     "output_type": "display_data"
    },
    {
     "data": {
      "text/html": [
       "<hr>"
      ],
      "text/plain": [
       "<IPython.core.display.HTML object>"
      ]
     },
     "metadata": {},
     "output_type": "display_data"
    },
    {
     "data": {
      "text/html": [
       "<h3>Response 11</h3>"
      ],
      "text/plain": [
       "<IPython.core.display.HTML object>"
      ]
     },
     "metadata": {},
     "output_type": "display_data"
    },
    {
     "data": {
      "text/html": [
       "<strong>File Name:</strong> Schleich, J (2013).md"
      ],
      "text/plain": [
       "<IPython.core.display.HTML object>"
      ]
     },
     "metadata": {},
     "output_type": "display_data"
    },
    {
     "data": {
      "text/html": [
       "<strong>Explanation:</strong> The paper provides a detailed analysis of the effects of feedback on residential electricity demand. It includes a comprehensive set of explanatory variables such as socio-economic factors and household appliance stock, which are used to control for potential confounders in the econometric models. The study employs both OLS and quantile regression models to assess the impact of feedback, and it addresses potential endogeneity issues by using a treatment model with appropriate instruments. The choice of feedback type (web-based vs. postal) is also analyzed, and the study finds no significant difference in effectiveness between the two types. The paper provides a justifiable reason for not controlling for all potential confounders, as it uses a robust statistical approach to estimate the effects of feedback while accounting for observed heterogeneity and potential biases. Therefore, the omission of some potential confounders is unlikely to influence the assessment of the effectiveness or impact."
      ],
      "text/plain": [
       "<IPython.core.display.HTML object>"
      ]
     },
     "metadata": {},
     "output_type": "display_data"
    },
    {
     "data": {
      "text/html": [
       "<strong>Result:</strong> **Yes**"
      ],
      "text/plain": [
       "<IPython.core.display.HTML object>"
      ]
     },
     "metadata": {},
     "output_type": "display_data"
    },
    {
     "data": {
      "text/html": [
       "<hr>"
      ],
      "text/plain": [
       "<IPython.core.display.HTML object>"
      ]
     },
     "metadata": {},
     "output_type": "display_data"
    },
    {
     "data": {
      "text/html": [
       "<h3>Response 12</h3>"
      ],
      "text/plain": [
       "<IPython.core.display.HTML object>"
      ]
     },
     "metadata": {},
     "output_type": "display_data"
    },
    {
     "data": {
      "text/html": [
       "<strong>File Name:</strong> Tiefenbeck, V (2013).md"
      ],
      "text/plain": [
       "<IPython.core.display.HTML object>"
      ]
     },
     "metadata": {},
     "output_type": "display_data"
    },
    {
     "data": {
      "text/html": [
       "<strong>Explanation:</strong> The study provides a detailed analysis of the effects of a water conservation campaign on electricity consumption, focusing on the concept of moral licensing. It controls for various factors such as the number of occupants and absence days, and rules out income effects since water usage is not billed to tenants. The study uses a quasi-experimental design and provides evidence that the increase in electricity consumption is not due to omitted confounders. The methodology and data analysis are thorough, and the study explicitly addresses potential confounders, ensuring that their omission does not bias the results."
      ],
      "text/plain": [
       "<IPython.core.display.HTML object>"
      ]
     },
     "metadata": {},
     "output_type": "display_data"
    },
    {
     "data": {
      "text/html": [
       "<strong>Result:</strong> **Yes**"
      ],
      "text/plain": [
       "<IPython.core.display.HTML object>"
      ]
     },
     "metadata": {},
     "output_type": "display_data"
    },
    {
     "data": {
      "text/html": [
       "<hr>"
      ],
      "text/plain": [
       "<IPython.core.display.HTML object>"
      ]
     },
     "metadata": {},
     "output_type": "display_data"
    }
   ],
   "source": [
    "display_responses(responses13)"
   ]
  },
  {
   "cell_type": "markdown",
   "id": "e5390058",
   "metadata": {},
   "source": [
    "### V3"
   ]
  },
  {
   "cell_type": "code",
   "execution_count": 20,
   "id": "d7f9a9cc",
   "metadata": {},
   "outputs": [
    {
     "data": {
      "text/html": [
       "\n",
       "# Risk of Bias Assessment Criteria\n",
       "Confounder Justified Omission: Is there any justifiable reason for not controlling for all the potential confounders (so that omission of some of the potential confounders is unlikely to influence the assessment of the effectiveness or impact)?\n",
       "Consider the following:\n",
       "Evaluate whether the study provides a justifiable reason for not controlling for certain potential confounders, such that their omission is unlikely to bias the assessment of the intervention or exposure's effect.\n",
       "Where applicable, infer the underlying causal structure and determine whether any uncontrolled backdoor paths are present. Identify any variables that could plausibly act as confounders but were not controlled for, and assess whether their omission is defensible based on causal reasoning, study design, or domain-specific justification.\n",
       "Consider whether the remaining adjustment set sufficiently blocks all major sources of bias, and conclude whether the residual risk of confounding is low and unlikely to affect the study's internal validity.\n"
      ],
      "text/plain": [
       "<IPython.core.display.HTML object>"
      ]
     },
     "metadata": {},
     "output_type": "display_data"
    },
    {
     "data": {
      "text/html": [
       "<div>\n",
       "<style scoped>\n",
       "    .dataframe tbody tr th:only-of-type {\n",
       "        vertical-align: middle;\n",
       "    }\n",
       "\n",
       "    .dataframe tbody tr th {\n",
       "        vertical-align: top;\n",
       "    }\n",
       "\n",
       "    .dataframe thead th {\n",
       "        text-align: right;\n",
       "    }\n",
       "</style>\n",
       "<table border=\"1\" class=\"dataframe\">\n",
       "  <thead>\n",
       "    <tr style=\"text-align: right;\">\n",
       "      <th></th>\n",
       "      <th>names</th>\n",
       "      <th>criteria_1_3</th>\n",
       "      <th>criteria_1_3_human</th>\n",
       "    </tr>\n",
       "  </thead>\n",
       "  <tbody>\n",
       "    <tr>\n",
       "      <th>0</th>\n",
       "      <td>Allcott, H (2011).md</td>\n",
       "      <td>No</td>\n",
       "      <td>yes</td>\n",
       "    </tr>\n",
       "    <tr>\n",
       "      <th>1</th>\n",
       "      <td>Andor, Gerster, Peters, Schmidt, 2020.md</td>\n",
       "      <td>**No**</td>\n",
       "      <td>no</td>\n",
       "    </tr>\n",
       "    <tr>\n",
       "      <th>2</th>\n",
       "      <td>Asensio, OI; Delmas, MA (2016).md</td>\n",
       "      <td>No</td>\n",
       "      <td>no</td>\n",
       "    </tr>\n",
       "    <tr>\n",
       "      <th>3</th>\n",
       "      <td>Ayres, Raseman, Shih, 2012.md</td>\n",
       "      <td>No</td>\n",
       "      <td>no</td>\n",
       "    </tr>\n",
       "    <tr>\n",
       "      <th>4</th>\n",
       "      <td>Bager, S; Mundaca, L (2017).md</td>\n",
       "      <td>No</td>\n",
       "      <td>no</td>\n",
       "    </tr>\n",
       "    <tr>\n",
       "      <th>5</th>\n",
       "      <td>Becker, LJ; Rabinowitz, VC; Seligman, C.md</td>\n",
       "      <td>No</td>\n",
       "      <td>yes</td>\n",
       "    </tr>\n",
       "    <tr>\n",
       "      <th>6</th>\n",
       "      <td>Carroll, J; Lyons, S; Denny, E (2014).md</td>\n",
       "      <td>No</td>\n",
       "      <td>yes</td>\n",
       "    </tr>\n",
       "    <tr>\n",
       "      <th>7</th>\n",
       "      <td>Houde, S; Todd, A; Sudarshan, A; Flora, JA; Ar...</td>\n",
       "      <td>No</td>\n",
       "      <td>no</td>\n",
       "    </tr>\n",
       "    <tr>\n",
       "      <th>8</th>\n",
       "      <td>Matsukawa, I. (2018).md</td>\n",
       "      <td>**No**</td>\n",
       "      <td>yes</td>\n",
       "    </tr>\n",
       "    <tr>\n",
       "      <th>9</th>\n",
       "      <td>Nguyen, TTK; Shimada, K; Ochi, Y; Matsumoto, T...</td>\n",
       "      <td>No</td>\n",
       "      <td>yes</td>\n",
       "    </tr>\n",
       "    <tr>\n",
       "      <th>10</th>\n",
       "      <td>Schleich, J (2013).md</td>\n",
       "      <td>No</td>\n",
       "      <td>yes</td>\n",
       "    </tr>\n",
       "    <tr>\n",
       "      <th>11</th>\n",
       "      <td>Tiefenbeck, V (2013).md</td>\n",
       "      <td>No</td>\n",
       "      <td>yes</td>\n",
       "    </tr>\n",
       "  </tbody>\n",
       "</table>\n",
       "</div>"
      ],
      "text/plain": [
       "                                                names criteria_1_3 criteria_1_3_human\n",
       "0                                Allcott, H (2011).md           No                yes\n",
       "1            Andor, Gerster, Peters, Schmidt, 2020.md       **No**                 no\n",
       "2                   Asensio, OI; Delmas, MA (2016).md           No                 no\n",
       "3                       Ayres, Raseman, Shih, 2012.md           No                 no\n",
       "4                      Bager, S; Mundaca, L (2017).md           No                 no\n",
       "5          Becker, LJ; Rabinowitz, VC; Seligman, C.md           No                yes\n",
       "6            Carroll, J; Lyons, S; Denny, E (2014).md           No                yes\n",
       "7   Houde, S; Todd, A; Sudarshan, A; Flora, JA; Ar...           No                 no\n",
       "8                             Matsukawa, I. (2018).md       **No**                yes\n",
       "9   Nguyen, TTK; Shimada, K; Ochi, Y; Matsumoto, T...           No                yes\n",
       "10                              Schleich, J (2013).md           No                yes\n",
       "11                            Tiefenbeck, V (2013).md           No                yes"
      ]
     },
     "metadata": {},
     "output_type": "display_data"
    }
   ],
   "source": [
    "display(HTML(criteria_prompt13_v3))\n",
    "test_results = test_results.drop(columns=['criteria_1_3', 'criteria_1_3_human'])\n",
    "responses13 = extract_responses(\n",
    "    intro_prompt = intro_and_output, \n",
    "    criteria_prompt=criteria_prompt13_v3\n",
    "    )\n",
    "test_results = add_results_to_dataframe(responses13, 'criteria_1_3')"
   ]
  },
  {
   "cell_type": "code",
   "execution_count": 21,
   "id": "7a59be84",
   "metadata": {},
   "outputs": [
    {
     "data": {
      "text/html": [
       "<h3>Response 1</h3>"
      ],
      "text/plain": [
       "<IPython.core.display.HTML object>"
      ]
     },
     "metadata": {},
     "output_type": "display_data"
    },
    {
     "data": {
      "text/html": [
       "<strong>File Name:</strong> Allcott, H (2011).md"
      ],
      "text/plain": [
       "<IPython.core.display.HTML object>"
      ]
     },
     "metadata": {},
     "output_type": "display_data"
    },
    {
     "data": {
      "text/html": [
       "<strong>Explanation:</strong> The study uses a randomized field experiment design, which is a robust method for controlling confounders. However, the paper does not explicitly discuss the justification for omitting specific potential confounders. It mentions the use of household fixed effects and weather controls, which are relevant, but it does not provide a detailed causal structure analysis or discuss other potential confounders that might have been omitted. The lack of explicit justification for not controlling certain confounders makes it difficult to assess whether their omission is unlikely to bias the results."
      ],
      "text/plain": [
       "<IPython.core.display.HTML object>"
      ]
     },
     "metadata": {},
     "output_type": "display_data"
    },
    {
     "data": {
      "text/html": [
       "<strong>Result:</strong> No"
      ],
      "text/plain": [
       "<IPython.core.display.HTML object>"
      ]
     },
     "metadata": {},
     "output_type": "display_data"
    },
    {
     "data": {
      "text/html": [
       "<hr>"
      ],
      "text/plain": [
       "<IPython.core.display.HTML object>"
      ]
     },
     "metadata": {},
     "output_type": "display_data"
    },
    {
     "data": {
      "text/html": [
       "<h3>Response 2</h3>"
      ],
      "text/plain": [
       "<IPython.core.display.HTML object>"
      ]
     },
     "metadata": {},
     "output_type": "display_data"
    },
    {
     "data": {
      "text/html": [
       "<strong>File Name:</strong> Andor, Gerster, Peters, Schmidt, 2020.md"
      ],
      "text/plain": [
       "<IPython.core.display.HTML object>"
      ]
     },
     "metadata": {},
     "output_type": "display_data"
    },
    {
     "data": {
      "text/html": [
       "<strong>Explanation:</strong> The study does not provide a justifiable reason for not controlling for potential confounders. It primarily focuses on the effectiveness of HER interventions in different countries without addressing the potential confounders that could influence the results. The paper discusses differences in electricity consumption and carbon intensity but does not explicitly justify the omission of controlling for other potential confounders such as socio-economic factors, cultural differences, or policy environments that could affect the outcomes. The study's design and analysis do not sufficiently block all major sources of bias, leaving a residual risk of confounding that could affect the study's internal validity."
      ],
      "text/plain": [
       "<IPython.core.display.HTML object>"
      ]
     },
     "metadata": {},
     "output_type": "display_data"
    },
    {
     "data": {
      "text/html": [
       "<strong>Result:</strong> **No**"
      ],
      "text/plain": [
       "<IPython.core.display.HTML object>"
      ]
     },
     "metadata": {},
     "output_type": "display_data"
    },
    {
     "data": {
      "text/html": [
       "<hr>"
      ],
      "text/plain": [
       "<IPython.core.display.HTML object>"
      ]
     },
     "metadata": {},
     "output_type": "display_data"
    },
    {
     "data": {
      "text/html": [
       "<h3>Response 3</h3>"
      ],
      "text/plain": [
       "<IPython.core.display.HTML object>"
      ]
     },
     "metadata": {},
     "output_type": "display_data"
    },
    {
     "data": {
      "text/html": [
       "<strong>File Name:</strong> Asensio, OI; Delmas, MA (2016).md"
      ],
      "text/plain": [
       "<IPython.core.display.HTML object>"
      ]
     },
     "metadata": {},
     "output_type": "display_data"
    },
    {
     "data": {
      "text/html": [
       "<strong>Explanation:</strong> The study conducted a randomized controlled trial to assess the impact of message framing on energy conservation behavior. It used advanced metering technologies to provide real-time feedback to households. The study controlled for various factors such as household demographics, weather, and seasonality. However, it did not explicitly mention controlling for all potential confounders that could influence energy consumption, such as socio-economic status, political affiliation, or other behavioral factors. While the study design and randomization help mitigate some biases, the omission of certain confounders without explicit justification could potentially influence the results. Therefore, the omission of some potential confounders is not fully justified based on the information provided."
      ],
      "text/plain": [
       "<IPython.core.display.HTML object>"
      ]
     },
     "metadata": {},
     "output_type": "display_data"
    },
    {
     "data": {
      "text/html": [
       "<strong>Result:</strong> No"
      ],
      "text/plain": [
       "<IPython.core.display.HTML object>"
      ]
     },
     "metadata": {},
     "output_type": "display_data"
    },
    {
     "data": {
      "text/html": [
       "<hr>"
      ],
      "text/plain": [
       "<IPython.core.display.HTML object>"
      ]
     },
     "metadata": {},
     "output_type": "display_data"
    },
    {
     "data": {
      "text/html": [
       "<h3>Response 4</h3>"
      ],
      "text/plain": [
       "<IPython.core.display.HTML object>"
      ]
     },
     "metadata": {},
     "output_type": "display_data"
    },
    {
     "data": {
      "text/html": [
       "<strong>File Name:</strong> Ayres, Raseman, Shih, 2012.md"
      ],
      "text/plain": [
       "<IPython.core.display.HTML object>"
      ]
     },
     "metadata": {},
     "output_type": "display_data"
    },
    {
     "data": {
      "text/html": [
       "<strong>Explanation:</strong> The study involves two large-scale, random-assignment field experiments conducted by utility companies to assess the impact of peer comparison feedback on energy consumption. The randomization process and the use of control groups help mitigate potential confounding variables. However, the paper does not explicitly justify the omission of specific potential confounders. While the study controls for several variables such as house characteristics, household demographics, and weather conditions, it does not provide a detailed causal structure or discuss the potential impact of any omitted confounders. The lack of explicit justification for not controlling certain potential confounders means that their omission could potentially influence the assessment of the intervention's effectiveness."
      ],
      "text/plain": [
       "<IPython.core.display.HTML object>"
      ]
     },
     "metadata": {},
     "output_type": "display_data"
    },
    {
     "data": {
      "text/html": [
       "<strong>Result:</strong> No"
      ],
      "text/plain": [
       "<IPython.core.display.HTML object>"
      ]
     },
     "metadata": {},
     "output_type": "display_data"
    },
    {
     "data": {
      "text/html": [
       "<hr>"
      ],
      "text/plain": [
       "<IPython.core.display.HTML object>"
      ]
     },
     "metadata": {},
     "output_type": "display_data"
    },
    {
     "data": {
      "text/html": [
       "<h3>Response 5</h3>"
      ],
      "text/plain": [
       "<IPython.core.display.HTML object>"
      ]
     },
     "metadata": {},
     "output_type": "display_data"
    },
    {
     "data": {
      "text/html": [
       "<strong>File Name:</strong> Bager, S; Mundaca, L (2017).md"
      ],
      "text/plain": [
       "<IPython.core.display.HTML object>"
      ]
     },
     "metadata": {},
     "output_type": "display_data"
    },
    {
     "data": {
      "text/html": [
       "<strong>Explanation:</strong> The study does not provide a justifiable reason for not controlling for potential confounders. It mentions the homogeneity of the sample in terms of building characteristics and assumes wealth based on the neighborhood, but it does not address other potential confounders such as socio-economic status, household size, or energy usage patterns. The lack of socio-economic data due to privacy concerns is noted, but no alternative measures are discussed to mitigate this limitation. The study's design, while using a randomized strategy, does not sufficiently block all major sources of bias, leaving a residual risk of confounding that could affect the study's internal validity."
      ],
      "text/plain": [
       "<IPython.core.display.HTML object>"
      ]
     },
     "metadata": {},
     "output_type": "display_data"
    },
    {
     "data": {
      "text/html": [
       "<strong>Result:</strong> No"
      ],
      "text/plain": [
       "<IPython.core.display.HTML object>"
      ]
     },
     "metadata": {},
     "output_type": "display_data"
    },
    {
     "data": {
      "text/html": [
       "<hr>"
      ],
      "text/plain": [
       "<IPython.core.display.HTML object>"
      ]
     },
     "metadata": {},
     "output_type": "display_data"
    },
    {
     "data": {
      "text/html": [
       "<h3>Response 6</h3>"
      ],
      "text/plain": [
       "<IPython.core.display.HTML object>"
      ]
     },
     "metadata": {},
     "output_type": "display_data"
    },
    {
     "data": {
      "text/html": [
       "<strong>File Name:</strong> Becker, LJ; Rabinowitz, VC; Seligman, C.md"
      ],
      "text/plain": [
       "<IPython.core.display.HTML object>"
      ]
     },
     "metadata": {},
     "output_type": "display_data"
    },
    {
     "data": {
      "text/html": [
       "<strong>Explanation:</strong> The study uses a nonequivalent control group design to evaluate the impact of average payment plans on energy consumption. The authors acknowledge the lack of randomization and the potential for self-selection bias, which could introduce confounding variables. They attempt to mitigate this by selecting control groups that are neighbors or nearby households, aiming for similarity between treatment and control groups. However, the study does not provide a detailed justification for not controlling specific potential confounders, such as household size, income, or specific energy usage patterns, which could influence energy consumption independently of the billing plan. The study relies on the assumption that proximity equates to similarity, which may not sufficiently block all major sources of bias. Therefore, the omission of certain confounders is not explicitly justified, and the risk of residual confounding remains."
      ],
      "text/plain": [
       "<IPython.core.display.HTML object>"
      ]
     },
     "metadata": {},
     "output_type": "display_data"
    },
    {
     "data": {
      "text/html": [
       "<strong>Result:</strong> No"
      ],
      "text/plain": [
       "<IPython.core.display.HTML object>"
      ]
     },
     "metadata": {},
     "output_type": "display_data"
    },
    {
     "data": {
      "text/html": [
       "<hr>"
      ],
      "text/plain": [
       "<IPython.core.display.HTML object>"
      ]
     },
     "metadata": {},
     "output_type": "display_data"
    },
    {
     "data": {
      "text/html": [
       "<h3>Response 7</h3>"
      ],
      "text/plain": [
       "<IPython.core.display.HTML object>"
      ]
     },
     "metadata": {},
     "output_type": "display_data"
    },
    {
     "data": {
      "text/html": [
       "<strong>File Name:</strong> Carroll, J; Lyons, S; Denny, E (2014).md"
      ],
      "text/plain": [
       "<IPython.core.display.HTML object>"
      ]
     },
     "metadata": {},
     "output_type": "display_data"
    },
    {
     "data": {
      "text/html": [
       "<strong>Explanation:</strong> The study does not provide a justifiable reason for not controlling for potential confounders. It focuses on the effects of smart metering and feedback on electricity demand but does not address other variables that could influence demand, such as socioeconomic factors, weather conditions, or changes in household composition. The study uses self-reported data on information changes, which may not accurately reflect actual knowledge or behavior changes. Additionally, the study does not explore potential backdoor paths or provide a causal structure that justifies the omission of certain confounders. Therefore, the omission of potential confounders is likely to influence the assessment of the intervention's effect."
      ],
      "text/plain": [
       "<IPython.core.display.HTML object>"
      ]
     },
     "metadata": {},
     "output_type": "display_data"
    },
    {
     "data": {
      "text/html": [
       "<strong>Result:</strong> No"
      ],
      "text/plain": [
       "<IPython.core.display.HTML object>"
      ]
     },
     "metadata": {},
     "output_type": "display_data"
    },
    {
     "data": {
      "text/html": [
       "<hr>"
      ],
      "text/plain": [
       "<IPython.core.display.HTML object>"
      ]
     },
     "metadata": {},
     "output_type": "display_data"
    },
    {
     "data": {
      "text/html": [
       "<h3>Response 8</h3>"
      ],
      "text/plain": [
       "<IPython.core.display.HTML object>"
      ]
     },
     "metadata": {},
     "output_type": "display_data"
    },
    {
     "data": {
      "text/html": [
       "<strong>File Name:</strong> Houde, S; Todd, A; Sudarshan, A; Flora, JA; Armel, KC (2013).md"
      ],
      "text/plain": [
       "<IPython.core.display.HTML object>"
      ]
     },
     "metadata": {},
     "output_type": "display_data"
    },
    {
     "data": {
      "text/html": [
       "<strong>Explanation:</strong> The study uses a randomized controlled trial to assess the impact of real-time feedback on electricity consumption. It mentions controlling for weather and household fixed effects, but does not provide a detailed justification for omitting other potential confounders. The study acknowledges that household characteristics might influence heterogeneity in treatment effects but finds no convincing evidence that these characteristics explain variation in response. However, it does not explicitly justify why certain potential confounders were not controlled for, nor does it provide a causal structure to defend their omission. The lack of detailed justification for not controlling for all potential confounders suggests that the omission could influence the assessment of the intervention's effect."
      ],
      "text/plain": [
       "<IPython.core.display.HTML object>"
      ]
     },
     "metadata": {},
     "output_type": "display_data"
    },
    {
     "data": {
      "text/html": [
       "<strong>Result:</strong> No"
      ],
      "text/plain": [
       "<IPython.core.display.HTML object>"
      ]
     },
     "metadata": {},
     "output_type": "display_data"
    },
    {
     "data": {
      "text/html": [
       "<hr>"
      ],
      "text/plain": [
       "<IPython.core.display.HTML object>"
      ]
     },
     "metadata": {},
     "output_type": "display_data"
    },
    {
     "data": {
      "text/html": [
       "<h3>Response 9</h3>"
      ],
      "text/plain": [
       "<IPython.core.display.HTML object>"
      ]
     },
     "metadata": {},
     "output_type": "display_data"
    },
    {
     "data": {
      "text/html": [
       "<strong>File Name:</strong> Matsukawa, I. (2018).md"
      ],
      "text/plain": [
       "<IPython.core.display.HTML object>"
      ]
     },
     "metadata": {},
     "output_type": "display_data"
    },
    {
     "data": {
      "text/html": [
       "<strong>Explanation:</strong> The study does not provide a justifiable reason for not controlling for potential confounders. While the study uses a randomized field experiment, which helps in controlling for confounders through randomization, it does not explicitly discuss or justify the omission of specific potential confounders that could affect the assessment of the intervention's effect. The study assumes comparability between treatment and control groups based on randomization tests, but it does not address whether all relevant confounders were considered or if any were omitted. Additionally, the study does not provide a causal structure analysis to identify and justify the omission of potential confounders. Therefore, the omission of potential confounders is not clearly justified, and their absence could influence the assessment of the intervention's impact."
      ],
      "text/plain": [
       "<IPython.core.display.HTML object>"
      ]
     },
     "metadata": {},
     "output_type": "display_data"
    },
    {
     "data": {
      "text/html": [
       "<strong>Result:</strong> **No**"
      ],
      "text/plain": [
       "<IPython.core.display.HTML object>"
      ]
     },
     "metadata": {},
     "output_type": "display_data"
    },
    {
     "data": {
      "text/html": [
       "<hr>"
      ],
      "text/plain": [
       "<IPython.core.display.HTML object>"
      ]
     },
     "metadata": {},
     "output_type": "display_data"
    },
    {
     "data": {
      "text/html": [
       "<h3>Response 10</h3>"
      ],
      "text/plain": [
       "<IPython.core.display.HTML object>"
      ]
     },
     "metadata": {},
     "output_type": "display_data"
    },
    {
     "data": {
      "text/html": [
       "<strong>File Name:</strong> Nguyen, TTK; Shimada, K; Ochi, Y; Matsumoto, T; Matsugi, H; Awata, T (2016).md"
      ],
      "text/plain": [
       "<IPython.core.display.HTML object>"
      ]
     },
     "metadata": {},
     "output_type": "display_data"
    },
    {
     "data": {
      "text/html": [
       "<strong>Explanation:</strong> The study uses a randomized controlled trial design to assess the impact of dynamic electricity pricing on consumer behavior. It controls for several potential confounders, such as weather conditions, household attributes, and lifestyle factors. The study acknowledges the limitations of sample size and the potential for uncontrolled variables but attempts to justify the omission of certain confounders by focusing on the main variables of interest and using robust statistical methods. The random assignment of households to treatment and control groups helps mitigate bias, and the study provides a rationale for the variables included in the analysis. However, the justification for not controlling all potential confounders is not explicitly detailed, and the study does not thoroughly discuss the causal structure or potential backdoor paths. Therefore, while the study makes efforts to control for major confounders, it does not provide a fully justifiable reason for the omission of all potential confounders, leaving some risk of bias."
      ],
      "text/plain": [
       "<IPython.core.display.HTML object>"
      ]
     },
     "metadata": {},
     "output_type": "display_data"
    },
    {
     "data": {
      "text/html": [
       "<strong>Result:</strong> No"
      ],
      "text/plain": [
       "<IPython.core.display.HTML object>"
      ]
     },
     "metadata": {},
     "output_type": "display_data"
    },
    {
     "data": {
      "text/html": [
       "<hr>"
      ],
      "text/plain": [
       "<IPython.core.display.HTML object>"
      ]
     },
     "metadata": {},
     "output_type": "display_data"
    },
    {
     "data": {
      "text/html": [
       "<h3>Response 11</h3>"
      ],
      "text/plain": [
       "<IPython.core.display.HTML object>"
      ]
     },
     "metadata": {},
     "output_type": "display_data"
    },
    {
     "data": {
      "text/html": [
       "<strong>File Name:</strong> Schleich, J (2013).md"
      ],
      "text/plain": [
       "<IPython.core.display.HTML object>"
      ]
     },
     "metadata": {},
     "output_type": "display_data"
    },
    {
     "data": {
      "text/html": [
       "<strong>Explanation:</strong> The study provides a detailed description of the variables considered in the analysis, including socio-economic factors, household characteristics, and appliance stock. However, it does not explicitly justify the omission of potential confounders or provide a causal structure that explains why certain variables were not controlled for. The study assumes that the random assignment of households to pilot and control groups sufficiently controls for differences, but it does not address whether all potential confounders were considered or why some might have been omitted. Therefore, the omission of potential confounders is not justifiably explained, which could influence the assessment of the intervention's effect."
      ],
      "text/plain": [
       "<IPython.core.display.HTML object>"
      ]
     },
     "metadata": {},
     "output_type": "display_data"
    },
    {
     "data": {
      "text/html": [
       "<strong>Result:</strong> No"
      ],
      "text/plain": [
       "<IPython.core.display.HTML object>"
      ]
     },
     "metadata": {},
     "output_type": "display_data"
    },
    {
     "data": {
      "text/html": [
       "<hr>"
      ],
      "text/plain": [
       "<IPython.core.display.HTML object>"
      ]
     },
     "metadata": {},
     "output_type": "display_data"
    },
    {
     "data": {
      "text/html": [
       "<h3>Response 12</h3>"
      ],
      "text/plain": [
       "<IPython.core.display.HTML object>"
      ]
     },
     "metadata": {},
     "output_type": "display_data"
    },
    {
     "data": {
      "text/html": [
       "<strong>File Name:</strong> Tiefenbeck, V (2013).md"
      ],
      "text/plain": [
       "<IPython.core.display.HTML object>"
      ]
     },
     "metadata": {},
     "output_type": "display_data"
    },
    {
     "data": {
      "text/html": [
       "<strong>Explanation:</strong> The study provides a detailed account of its methodology and controls for several potential confounders, such as differences in heating/cooling systems, water fixtures, and major appliances by selecting a housing complex with similar apartment units. It also rules out income effects as tenants do not pay for water. However, the study does not explicitly justify the omission of other potential confounders that could influence electricity consumption, such as individual behavioral differences or external factors like weather variations beyond temperature. The study acknowledges the complexity of behavioral spillover and moral licensing but does not provide a comprehensive causal structure to justify the omission of all potential confounders. Therefore, the omission of some potential confounders may still influence the assessment of the intervention's impact."
      ],
      "text/plain": [
       "<IPython.core.display.HTML object>"
      ]
     },
     "metadata": {},
     "output_type": "display_data"
    },
    {
     "data": {
      "text/html": [
       "<strong>Result:</strong> No"
      ],
      "text/plain": [
       "<IPython.core.display.HTML object>"
      ]
     },
     "metadata": {},
     "output_type": "display_data"
    },
    {
     "data": {
      "text/html": [
       "<hr>"
      ],
      "text/plain": [
       "<IPython.core.display.HTML object>"
      ]
     },
     "metadata": {},
     "output_type": "display_data"
    }
   ],
   "source": [
    "display_responses(responses13)"
   ]
  }
 ],
 "metadata": {
  "kernelspec": {
   "display_name": "Python 3 (ipykernel)",
   "language": "python",
   "name": "python3"
  },
  "language_info": {
   "name": "python"
  }
 },
 "nbformat": 4,
 "nbformat_minor": 5
}
