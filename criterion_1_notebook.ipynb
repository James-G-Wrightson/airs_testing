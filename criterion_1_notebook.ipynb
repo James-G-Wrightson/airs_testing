{
 "cells": [
  {
   "cell_type": "markdown",
   "id": "d3904619",
   "metadata": {},
   "source": [
    "# Libraries"
   ]
  },
  {
   "cell_type": "code",
   "execution_count": 1,
   "id": "22cf1a2c-5c69-48ae-a537-76f4ed71fd6d",
   "metadata": {},
   "outputs": [],
   "source": [
    "import os\n",
    "import json\n",
    "import importlib\n",
    "from openai import OpenAI\n",
    "from pydantic import BaseModel, Field\n",
    "from IPython.display import HTML, display\n",
    "import pandas as pd"
   ]
  },
  {
   "cell_type": "markdown",
   "id": "485fc0b4-14a4-461b-b102-21d1f012aeb0",
   "metadata": {},
   "source": [
    "# Prompts"
   ]
  },
  {
   "cell_type": "code",
   "execution_count": 53,
   "id": "ff0c94eb-6838-44e3-823f-2672151819dc",
   "metadata": {},
   "outputs": [],
   "source": [
    "# System Prompts\n",
    "import system_prompt_s\n",
    "importlib.reload(system_prompt_s)\n",
    "from system_prompt_s import *\n",
    "\n",
    "# Criterion Prompts\n",
    "import Criterion_1_Prompts\n",
    "importlib.reload(Criterion_1_Prompts)\n",
    "from Criterion_1_Prompts import *"
   ]
  },
  {
   "cell_type": "code",
   "execution_count": 54,
   "id": "6a259498",
   "metadata": {},
   "outputs": [
    {
     "data": {
      "text/html": [
       " System Prompt:\n",
       "\n",
       "# Introduction and Role Setting:\n",
       "You are a systematic reviewer who is an expert in risk of bias assessment of environmental policy studies. You are particularly good at learning evaluation criteria, and closely following them to assess the risk of bias of climate and energy studies. \n",
       "You can fully understand and follow the evaluation criteria and evaluate the study provided to you.\n",
       "# Guidelines for Evaluation:\n",
       "You will be given details about the risk of bias criteria you are required to assess, a question you are required to answer about the study and the text of the study. \n",
       "For each question you must return a response and and explanation for your response. Your response can ONLY be **YES** or **NO**.  \n",
       "# Output Format:\n",
       "Please output the result STRICTLY in the format below:\n",
       "{\n",
       "   \"Response\": str,\n",
       "   \"Explanation\": str\n",
       "}\n",
       "Where 'Response' is either **YES** or **NO** and 'Explanation' is the detailed explanation for your response.\n"
      ],
      "text/plain": [
       "<IPython.core.display.HTML object>"
      ]
     },
     "metadata": {},
     "output_type": "display_data"
    }
   ],
   "source": [
    "display( HTML(f\" System Prompt:\\n{system_prompt}\"))"
   ]
  },
  {
   "cell_type": "markdown",
   "id": "537e73b6",
   "metadata": {},
   "source": [
    "# Files"
   ]
  },
  {
   "cell_type": "code",
   "execution_count": 4,
   "id": "23db6f6b-ca27-411f-99bb-c1f8b6f013fc",
   "metadata": {
    "ExecuteTime": {
     "end_time": "2025-10-09T21:41:54.322953Z",
     "start_time": "2025-10-09T21:41:54.317577Z"
    }
   },
   "outputs": [
    {
     "name": "stdout",
     "output_type": "stream",
     "text": [
      " N files = 12\n",
      " - Allcott, H (2011).md\n",
      " - Andor, Gerster, Peters, Schmidt, 2020.md\n",
      " - Asensio, OI; Delmas, MA (2016).md\n",
      " - Ayres, Raseman, Shih, 2012.md\n",
      " - Bager, S; Mundaca, L (2017).md\n",
      " - Becker, LJ; Rabinowitz, VC; Seligman, C.md\n",
      " - Carroll, J; Lyons, S; Denny, E (2014).md\n",
      " - Houde, S; Todd, A; Sudarshan, A; Flora, JA; Armel, KC (2013).md\n",
      " - Matsukawa, I. (2018).md\n",
      " - Nguyen, TTK; Shimada, K; Ochi, Y; Matsumoto, T; Matsugi, H; Awata, T (2016).md\n",
      " - Schleich, J (2013).md\n",
      " - Tiefenbeck, V (2013).md\n"
     ]
    }
   ],
   "source": [
    "folder = \"files\"\n",
    "plain_text_files = [\n",
    "        f for f in sorted(os.listdir(folder))\n",
    "        if f.lower().endswith((\".txt\", \".md\"))\n",
    "]\n",
    "print(f\" N files = {len(plain_text_files)}\")\n",
    "for file in plain_text_files:\n",
    "    print(f\" - {file}\")"
   ]
  },
  {
   "cell_type": "markdown",
   "id": "294f4d4d-88d4-4512-9305-f471d6a6bb5b",
   "metadata": {},
   "source": [
    "# Functions"
   ]
  },
  {
   "cell_type": "code",
   "execution_count": 81,
   "id": "15526668-3989-4766-b023-74d2b1d2767e",
   "metadata": {},
   "outputs": [],
   "source": [
    "# API Key\n",
    "with open('key.txt', 'r') as file:\n",
    "    key = file.read().strip()\n",
    "\n",
    "# ADD OPEN AI KEY HERE\n",
    "client = OpenAI(api_key=key)"
   ]
  },
  {
   "cell_type": "code",
   "execution_count": 82,
   "id": "c5e71686",
   "metadata": {},
   "outputs": [],
   "source": [
    "import functions\n",
    "importlib.reload(functions)\n",
    "from functions import *"
   ]
  },
  {
   "cell_type": "markdown",
   "id": "5f4185f0",
   "metadata": {},
   "source": [
    "# Assesment"
   ]
  },
  {
   "cell_type": "markdown",
   "id": "db8e4447",
   "metadata": {},
   "source": [
    "## Standard Prompts"
   ]
  },
  {
   "cell_type": "markdown",
   "id": "59777ef6",
   "metadata": {},
   "source": [
    "### Criteria 1"
   ]
  },
  {
   "cell_type": "code",
   "execution_count": 36,
   "id": "f0b1049a",
   "metadata": {},
   "outputs": [
    {
     "data": {
      "text/html": [
       "\n",
       "You must assess the Risk of Confounding Biases in the study. This criterion is concerned with biases due to one or more uncontrolled (or inappropriately controlled) variables (confounders) that influence both the intervention/exposure and the outcome. Confounding is the presence of an unblocked ‘backdoor path’ that affects both the intervention/exposure and the outcome. If there is confounding, a confounder (also known as a concomitant or covariate) will distort the association between an intervention/exposure and an outcome. More technically, if the assumption of exchangeability between groups does not hold because the intervention/exposure and the outcome share common causes, effect estimates will be biased by confounding. When a confounder is controlled for, such as through stratification, conditional exchangeability between groups may hold (i.e., the assumption of randomness may not be violated within a stratum or strata of the confounder variable), and thus a valid effect estimate may be provided within a stratum or strata. Awareness of potential confounders (i.e., hypothetical candidates) may be gained by trying to understand variability in effect. When such a factor is not controlled (or inappropriately controlled) before intervention/exposure, the resulting effect estimates may be biased if confounding is not adjusted for. Note that such baseline confounding is sometimes referred to as ‘selection bias’. Baseline confounding due to the selection of subjects or areas into studies can be dealt with before intervention or exposure (e.g., stratified sampling in which the population of inference is divided into subpopulations), and thus it needs to be assessed as baseline confounding in this criterion. Assessment of risk of confounding biases requires subject knowledge for determining potential confounders of the addressed causal structure\n"
      ],
      "text/plain": [
       "<IPython.core.display.HTML object>"
      ]
     },
     "metadata": {},
     "output_type": "display_data"
    }
   ],
   "source": [
    "display(HTML(criteria_1_background))"
   ]
  },
  {
   "cell_type": "markdown",
   "id": "525fef3a",
   "metadata": {},
   "source": [
    "### Criterion 1.1"
   ]
  },
  {
   "cell_type": "code",
   "execution_count": 52,
   "id": "66a7457f",
   "metadata": {},
   "outputs": [
    {
     "data": {
      "text/html": [
       "\n",
       "# Answer the following question: \n",
       "\"Is it possible for the impact of the exposure or the effectiveness of the intervention to be confounded in this study?\"\n"
      ],
      "text/plain": [
       "<IPython.core.display.HTML object>"
      ]
     },
     "metadata": {},
     "output_type": "display_data"
    },
    {
     "data": {
      "text/html": [
       "<div>\n",
       "<style scoped>\n",
       "    .dataframe tbody tr th:only-of-type {\n",
       "        vertical-align: middle;\n",
       "    }\n",
       "\n",
       "    .dataframe tbody tr th {\n",
       "        vertical-align: top;\n",
       "    }\n",
       "\n",
       "    .dataframe thead th {\n",
       "        text-align: right;\n",
       "    }\n",
       "</style>\n",
       "<table border=\"1\" class=\"dataframe\">\n",
       "  <thead>\n",
       "    <tr style=\"text-align: right;\">\n",
       "      <th></th>\n",
       "      <th>names</th>\n",
       "      <th>criteria_1_1</th>\n",
       "      <th>criteria_1_1_human</th>\n",
       "    </tr>\n",
       "  </thead>\n",
       "  <tbody>\n",
       "    <tr>\n",
       "      <th>0</th>\n",
       "      <td>Allcott, H (2011).md</td>\n",
       "      <td>YES</td>\n",
       "      <td>yes</td>\n",
       "    </tr>\n",
       "    <tr>\n",
       "      <th>1</th>\n",
       "      <td>Andor, Gerster, Peters, Schmidt, 2020.md</td>\n",
       "      <td>YES</td>\n",
       "      <td>yes</td>\n",
       "    </tr>\n",
       "    <tr>\n",
       "      <th>2</th>\n",
       "      <td>Asensio, OI; Delmas, MA (2016).md</td>\n",
       "      <td>YES</td>\n",
       "      <td>yes</td>\n",
       "    </tr>\n",
       "    <tr>\n",
       "      <th>3</th>\n",
       "      <td>Ayres, Raseman, Shih, 2012.md</td>\n",
       "      <td>YES</td>\n",
       "      <td>yes</td>\n",
       "    </tr>\n",
       "    <tr>\n",
       "      <th>4</th>\n",
       "      <td>Bager, S; Mundaca, L (2017).md</td>\n",
       "      <td>YES</td>\n",
       "      <td>yes</td>\n",
       "    </tr>\n",
       "    <tr>\n",
       "      <th>5</th>\n",
       "      <td>Becker, LJ; Rabinowitz, VC; Seligman, C.md</td>\n",
       "      <td>YES</td>\n",
       "      <td>no</td>\n",
       "    </tr>\n",
       "    <tr>\n",
       "      <th>6</th>\n",
       "      <td>Carroll, J; Lyons, S; Denny, E (2014).md</td>\n",
       "      <td>YES</td>\n",
       "      <td>yes</td>\n",
       "    </tr>\n",
       "    <tr>\n",
       "      <th>7</th>\n",
       "      <td>Houde, S; Todd, A; Sudarshan, A; Flora, JA; Ar...</td>\n",
       "      <td>YES</td>\n",
       "      <td>yes</td>\n",
       "    </tr>\n",
       "    <tr>\n",
       "      <th>8</th>\n",
       "      <td>Matsukawa, I. (2018).md</td>\n",
       "      <td>YES</td>\n",
       "      <td>yes</td>\n",
       "    </tr>\n",
       "    <tr>\n",
       "      <th>9</th>\n",
       "      <td>Nguyen, TTK; Shimada, K; Ochi, Y; Matsumoto, T...</td>\n",
       "      <td>YES</td>\n",
       "      <td>yes</td>\n",
       "    </tr>\n",
       "    <tr>\n",
       "      <th>10</th>\n",
       "      <td>Schleich, J (2013).md</td>\n",
       "      <td>YES</td>\n",
       "      <td>yes</td>\n",
       "    </tr>\n",
       "    <tr>\n",
       "      <th>11</th>\n",
       "      <td>Tiefenbeck, V (2013).md</td>\n",
       "      <td>YES</td>\n",
       "      <td>yes</td>\n",
       "    </tr>\n",
       "  </tbody>\n",
       "</table>\n",
       "</div>"
      ],
      "text/plain": [
       "                                                names criteria_1_1  \\\n",
       "0                                Allcott, H (2011).md          YES   \n",
       "1            Andor, Gerster, Peters, Schmidt, 2020.md          YES   \n",
       "2                   Asensio, OI; Delmas, MA (2016).md          YES   \n",
       "3                       Ayres, Raseman, Shih, 2012.md          YES   \n",
       "4                      Bager, S; Mundaca, L (2017).md          YES   \n",
       "5          Becker, LJ; Rabinowitz, VC; Seligman, C.md          YES   \n",
       "6            Carroll, J; Lyons, S; Denny, E (2014).md          YES   \n",
       "7   Houde, S; Todd, A; Sudarshan, A; Flora, JA; Ar...          YES   \n",
       "8                             Matsukawa, I. (2018).md          YES   \n",
       "9   Nguyen, TTK; Shimada, K; Ochi, Y; Matsumoto, T...          YES   \n",
       "10                              Schleich, J (2013).md          YES   \n",
       "11                            Tiefenbeck, V (2013).md          YES   \n",
       "\n",
       "   criteria_1_1_human  \n",
       "0                 yes  \n",
       "1                 yes  \n",
       "2                 yes  \n",
       "3                 yes  \n",
       "4                 yes  \n",
       "5                  no  \n",
       "6                 yes  \n",
       "7                 yes  \n",
       "8                 yes  \n",
       "9                 yes  \n",
       "10                yes  \n",
       "11                yes  "
      ]
     },
     "metadata": {},
     "output_type": "display_data"
    }
   ],
   "source": [
    "display(HTML(criteria_1_1_prompt))\n",
    "responses_11 = extract_responses(\n",
    "    client=client,\n",
    "    plain_text_files=plain_text_files,\n",
    "    folder=folder,\n",
    "    model='gpt-4o-mini',\n",
    "    system_prompt=system_prompt,\n",
    "    criteria_background=criteria_1_background,\n",
    "    criteria_prompt=criteria_1_1_prompt\n",
    "    )\n",
    "test_results = add_results_to_dataframe(responses_11, 'criteria_1_1')"
   ]
  },
  {
   "cell_type": "code",
   "execution_count": null,
   "id": "a9b3fd22",
   "metadata": {},
   "outputs": [
    {
     "data": {
      "text/html": [
       "<h3>Response 1</h3>"
      ],
      "text/plain": [
       "<IPython.core.display.HTML object>"
      ]
     },
     "metadata": {},
     "output_type": "display_data"
    },
    {
     "data": {
      "text/html": [
       "<strong>File Name:</strong> Allcott, H (2011).md"
      ],
      "text/plain": [
       "<IPython.core.display.HTML object>"
      ]
     },
     "metadata": {},
     "output_type": "display_data"
    },
    {
     "data": {
      "text/html": [
       "<strong>Explanation:</strong> The study employs a randomized controlled trial design, which is a robust method for minimizing confounding biases. Randomization helps ensure that any potential confounders are equally distributed across treatment and control groups, thereby allowing for a valid comparison of the intervention's effects on the outcome. This design supports the assumption of exchangeability between groups, reducing the risk of confounding bias affecting the results."
      ],
      "text/plain": [
       "<IPython.core.display.HTML object>"
      ]
     },
     "metadata": {},
     "output_type": "display_data"
    },
    {
     "data": {
      "text/html": [
       "<strong>Result:</strong> YES"
      ],
      "text/plain": [
       "<IPython.core.display.HTML object>"
      ]
     },
     "metadata": {},
     "output_type": "display_data"
    },
    {
     "data": {
      "text/html": [
       "<hr>"
      ],
      "text/plain": [
       "<IPython.core.display.HTML object>"
      ]
     },
     "metadata": {},
     "output_type": "display_data"
    },
    {
     "data": {
      "text/html": [
       "<h3>Response 2</h3>"
      ],
      "text/plain": [
       "<IPython.core.display.HTML object>"
      ]
     },
     "metadata": {},
     "output_type": "display_data"
    },
    {
     "data": {
      "text/html": [
       "<strong>File Name:</strong> Andor, Gerster, Peters, Schmidt, 2020.md"
      ],
      "text/plain": [
       "<IPython.core.display.HTML object>"
      ]
     },
     "metadata": {},
     "output_type": "display_data"
    },
    {
     "data": {
      "text/html": [
       "<strong>Explanation:</strong> The study employs a randomized controlled trial (RCT) design, which is a robust method for minimizing confounding biases. Randomization helps ensure that any potential confounders are equally distributed across treatment and control groups, thereby allowing for a valid comparison of the intervention's effects on the outcome. This design supports the assumption of exchangeability between groups, reducing the risk of confounding bias affecting the results."
      ],
      "text/plain": [
       "<IPython.core.display.HTML object>"
      ]
     },
     "metadata": {},
     "output_type": "display_data"
    },
    {
     "data": {
      "text/html": [
       "<strong>Result:</strong> YES"
      ],
      "text/plain": [
       "<IPython.core.display.HTML object>"
      ]
     },
     "metadata": {},
     "output_type": "display_data"
    },
    {
     "data": {
      "text/html": [
       "<hr>"
      ],
      "text/plain": [
       "<IPython.core.display.HTML object>"
      ]
     },
     "metadata": {},
     "output_type": "display_data"
    },
    {
     "data": {
      "text/html": [
       "<h3>Response 3</h3>"
      ],
      "text/plain": [
       "<IPython.core.display.HTML object>"
      ]
     },
     "metadata": {},
     "output_type": "display_data"
    },
    {
     "data": {
      "text/html": [
       "<strong>File Name:</strong> Asensio, OI; Delmas, MA (2016).md"
      ],
      "text/plain": [
       "<IPython.core.display.HTML object>"
      ]
     },
     "metadata": {},
     "output_type": "display_data"
    },
    {
     "data": {
      "text/html": [
       "<strong>Explanation:</strong> The study employs a randomized controlled trial design, which is a robust method for minimizing confounding biases. Randomization helps ensure that any uncontrolled variables are equally distributed across treatment groups, thereby reducing the risk of confounding. The authors also conducted baseline comparisons to confirm that there were no significant differences in key characteristics between the treatment and control groups, further supporting the assumption of exchangeability. Therefore, it is reasonable to conclude that the impact of the exposure or the effectiveness of the intervention is not confounded in this study."
      ],
      "text/plain": [
       "<IPython.core.display.HTML object>"
      ]
     },
     "metadata": {},
     "output_type": "display_data"
    },
    {
     "data": {
      "text/html": [
       "<strong>Result:</strong> YES"
      ],
      "text/plain": [
       "<IPython.core.display.HTML object>"
      ]
     },
     "metadata": {},
     "output_type": "display_data"
    },
    {
     "data": {
      "text/html": [
       "<hr>"
      ],
      "text/plain": [
       "<IPython.core.display.HTML object>"
      ]
     },
     "metadata": {},
     "output_type": "display_data"
    },
    {
     "data": {
      "text/html": [
       "<h3>Response 4</h3>"
      ],
      "text/plain": [
       "<IPython.core.display.HTML object>"
      ]
     },
     "metadata": {},
     "output_type": "display_data"
    },
    {
     "data": {
      "text/html": [
       "<strong>File Name:</strong> Ayres, Raseman, Shih, 2012.md"
      ],
      "text/plain": [
       "<IPython.core.display.HTML object>"
      ]
     },
     "metadata": {},
     "output_type": "display_data"
    },
    {
     "data": {
      "text/html": [
       "<strong>Explanation:</strong> The study employed random assignment to allocate households into treatment and control groups, which helps to mitigate confounding biases. This randomization process is designed to ensure that any potential confounders are equally distributed across both groups, thereby allowing for a valid comparison of the intervention's effects on energy consumption. The authors also controlled for various household characteristics and demographics in their analyses, further supporting the assumption of exchangeability between groups. Therefore, it is reasonable to conclude that the impact of the exposure or the effectiveness of the intervention is not confounded in this study."
      ],
      "text/plain": [
       "<IPython.core.display.HTML object>"
      ]
     },
     "metadata": {},
     "output_type": "display_data"
    },
    {
     "data": {
      "text/html": [
       "<strong>Result:</strong> YES"
      ],
      "text/plain": [
       "<IPython.core.display.HTML object>"
      ]
     },
     "metadata": {},
     "output_type": "display_data"
    },
    {
     "data": {
      "text/html": [
       "<hr>"
      ],
      "text/plain": [
       "<IPython.core.display.HTML object>"
      ]
     },
     "metadata": {},
     "output_type": "display_data"
    },
    {
     "data": {
      "text/html": [
       "<h3>Response 5</h3>"
      ],
      "text/plain": [
       "<IPython.core.display.HTML object>"
      ]
     },
     "metadata": {},
     "output_type": "display_data"
    },
    {
     "data": {
      "text/html": [
       "<strong>File Name:</strong> Bager, S; Mundaca, L (2017).md"
      ],
      "text/plain": [
       "<IPython.core.display.HTML object>"
      ]
     },
     "metadata": {},
     "output_type": "display_data"
    },
    {
     "data": {
      "text/html": [
       "<strong>Explanation:</strong> The study employed a randomized control trial design, which is a robust method for minimizing confounding biases. By randomly assigning households to either the intervention or reference group, the researchers aimed to ensure that any differences in outcomes could be attributed to the intervention rather than other uncontrolled variables. This randomization helps to achieve conditional exchangeability between groups, thereby reducing the risk of confounding biases affecting the results."
      ],
      "text/plain": [
       "<IPython.core.display.HTML object>"
      ]
     },
     "metadata": {},
     "output_type": "display_data"
    },
    {
     "data": {
      "text/html": [
       "<strong>Result:</strong> YES"
      ],
      "text/plain": [
       "<IPython.core.display.HTML object>"
      ]
     },
     "metadata": {},
     "output_type": "display_data"
    },
    {
     "data": {
      "text/html": [
       "<hr>"
      ],
      "text/plain": [
       "<IPython.core.display.HTML object>"
      ]
     },
     "metadata": {},
     "output_type": "display_data"
    },
    {
     "data": {
      "text/html": [
       "<h3>Response 6</h3>"
      ],
      "text/plain": [
       "<IPython.core.display.HTML object>"
      ]
     },
     "metadata": {},
     "output_type": "display_data"
    },
    {
     "data": {
      "text/html": [
       "<strong>File Name:</strong> Becker, LJ; Rabinowitz, VC; Seligman, C.md"
      ],
      "text/plain": [
       "<IPython.core.display.HTML object>"
      ]
     },
     "metadata": {},
     "output_type": "display_data"
    },
    {
     "data": {
      "text/html": [
       "<strong>Explanation:</strong> The study did not utilize randomization to assign participants to the average payment plan and the control group, which means that potential confounders related to self-selection into these groups were not adequately controlled. The authors acknowledged that they could not randomize due to practical concerns from utility companies, which indicates that the assumption of exchangeability between groups may not hold. Therefore, the impact of the exposure (average payment plan) on the outcome (energy consumption) could indeed be confounded by uncontrolled variables, leading to biased effect estimates."
      ],
      "text/plain": [
       "<IPython.core.display.HTML object>"
      ]
     },
     "metadata": {},
     "output_type": "display_data"
    },
    {
     "data": {
      "text/html": [
       "<strong>Result:</strong> NO"
      ],
      "text/plain": [
       "<IPython.core.display.HTML object>"
      ]
     },
     "metadata": {},
     "output_type": "display_data"
    },
    {
     "data": {
      "text/html": [
       "<hr>"
      ],
      "text/plain": [
       "<IPython.core.display.HTML object>"
      ]
     },
     "metadata": {},
     "output_type": "display_data"
    },
    {
     "data": {
      "text/html": [
       "<h3>Response 7</h3>"
      ],
      "text/plain": [
       "<IPython.core.display.HTML object>"
      ]
     },
     "metadata": {},
     "output_type": "display_data"
    },
    {
     "data": {
      "text/html": [
       "<strong>File Name:</strong> Carroll, J; Lyons, S; Denny, E (2014).md"
      ],
      "text/plain": [
       "<IPython.core.display.HTML object>"
      ]
     },
     "metadata": {},
     "output_type": "display_data"
    },
    {
     "data": {
      "text/html": [
       "<strong>Explanation:</strong> The study employs a randomized controlled trial design, which is a robust method for minimizing confounding biases. Randomization helps ensure that any potential confounders are equally distributed across the treatment and control groups, thereby supporting the assumption of exchangeability between groups. This design reduces the likelihood that uncontrolled variables will distort the association between the intervention (smart metering and feedback) and the outcome (electricity demand reduction). Therefore, it is possible to conclude that the impact of the exposure or the effectiveness of the intervention is less likely to be confounded in this study."
      ],
      "text/plain": [
       "<IPython.core.display.HTML object>"
      ]
     },
     "metadata": {},
     "output_type": "display_data"
    },
    {
     "data": {
      "text/html": [
       "<strong>Result:</strong> YES"
      ],
      "text/plain": [
       "<IPython.core.display.HTML object>"
      ]
     },
     "metadata": {},
     "output_type": "display_data"
    },
    {
     "data": {
      "text/html": [
       "<hr>"
      ],
      "text/plain": [
       "<IPython.core.display.HTML object>"
      ]
     },
     "metadata": {},
     "output_type": "display_data"
    },
    {
     "data": {
      "text/html": [
       "<h3>Response 8</h3>"
      ],
      "text/plain": [
       "<IPython.core.display.HTML object>"
      ]
     },
     "metadata": {},
     "output_type": "display_data"
    },
    {
     "data": {
      "text/html": [
       "<strong>File Name:</strong> Houde, S; Todd, A; Sudarshan, A; Flora, JA; Armel, KC (2013).md"
      ],
      "text/plain": [
       "<IPython.core.display.HTML object>"
      ]
     },
     "metadata": {},
     "output_type": "display_data"
    },
    {
     "data": {
      "text/html": [
       "<strong>Explanation:</strong> The study employs a randomized controlled trial design, which is a robust method for minimizing confounding biases. Randomization helps ensure that any potential confounders are equally distributed across treatment and control groups, thereby allowing for a valid comparison of the effects of the real-time feedback technology on electricity consumption. This design mitigates the risk of confounding by controlling for both observed and unobserved variables that could influence the outcome, thus supporting the assumption of exchangeability between groups."
      ],
      "text/plain": [
       "<IPython.core.display.HTML object>"
      ]
     },
     "metadata": {},
     "output_type": "display_data"
    },
    {
     "data": {
      "text/html": [
       "<strong>Result:</strong> YES"
      ],
      "text/plain": [
       "<IPython.core.display.HTML object>"
      ]
     },
     "metadata": {},
     "output_type": "display_data"
    },
    {
     "data": {
      "text/html": [
       "<hr>"
      ],
      "text/plain": [
       "<IPython.core.display.HTML object>"
      ]
     },
     "metadata": {},
     "output_type": "display_data"
    },
    {
     "data": {
      "text/html": [
       "<h3>Response 9</h3>"
      ],
      "text/plain": [
       "<IPython.core.display.HTML object>"
      ]
     },
     "metadata": {},
     "output_type": "display_data"
    },
    {
     "data": {
      "text/html": [
       "<strong>File Name:</strong> Matsukawa, I. (2018).md"
      ],
      "text/plain": [
       "<IPython.core.display.HTML object>"
      ]
     },
     "metadata": {},
     "output_type": "display_data"
    },
    {
     "data": {
      "text/html": [
       "<strong>Explanation:</strong> The study employs a randomized field experiment design, which is a robust method for controlling confounding variables. Randomization helps ensure that the treatment and control groups are comparable at baseline, thus minimizing the risk of confounding biases affecting the results. The authors also conducted statistical tests to confirm the effectiveness of randomization, indicating that potential confounders were appropriately controlled for in the analysis."
      ],
      "text/plain": [
       "<IPython.core.display.HTML object>"
      ]
     },
     "metadata": {},
     "output_type": "display_data"
    },
    {
     "data": {
      "text/html": [
       "<strong>Result:</strong> YES"
      ],
      "text/plain": [
       "<IPython.core.display.HTML object>"
      ]
     },
     "metadata": {},
     "output_type": "display_data"
    },
    {
     "data": {
      "text/html": [
       "<hr>"
      ],
      "text/plain": [
       "<IPython.core.display.HTML object>"
      ]
     },
     "metadata": {},
     "output_type": "display_data"
    },
    {
     "data": {
      "text/html": [
       "<h3>Response 10</h3>"
      ],
      "text/plain": [
       "<IPython.core.display.HTML object>"
      ]
     },
     "metadata": {},
     "output_type": "display_data"
    },
    {
     "data": {
      "text/html": [
       "<strong>File Name:</strong> Nguyen, TTK; Shimada, K; Ochi, Y; Matsumoto, T; Matsugi, H; Awata, T (2016).md"
      ],
      "text/plain": [
       "<IPython.core.display.HTML object>"
      ]
     },
     "metadata": {},
     "output_type": "display_data"
    },
    {
     "data": {
      "text/html": [
       "<strong>Explanation:</strong> The study employs randomization in assigning households to treatment and control groups, which helps to mitigate confounding biases. By randomly selecting participants, the study aims to ensure that any potential confounders are evenly distributed across both groups, thus allowing for a more accurate assessment of the impact of dynamic electricity pricing on consumer behavior. This randomization supports the assumption of exchangeability between groups, reducing the risk of confounding bias affecting the results."
      ],
      "text/plain": [
       "<IPython.core.display.HTML object>"
      ]
     },
     "metadata": {},
     "output_type": "display_data"
    },
    {
     "data": {
      "text/html": [
       "<strong>Result:</strong> YES"
      ],
      "text/plain": [
       "<IPython.core.display.HTML object>"
      ]
     },
     "metadata": {},
     "output_type": "display_data"
    },
    {
     "data": {
      "text/html": [
       "<hr>"
      ],
      "text/plain": [
       "<IPython.core.display.HTML object>"
      ]
     },
     "metadata": {},
     "output_type": "display_data"
    },
    {
     "data": {
      "text/html": [
       "<h3>Response 11</h3>"
      ],
      "text/plain": [
       "<IPython.core.display.HTML object>"
      ]
     },
     "metadata": {},
     "output_type": "display_data"
    },
    {
     "data": {
      "text/html": [
       "<strong>File Name:</strong> Schleich, J (2013).md"
      ],
      "text/plain": [
       "<IPython.core.display.HTML object>"
      ]
     },
     "metadata": {},
     "output_type": "display_data"
    },
    {
     "data": {
      "text/html": [
       "<strong>Explanation:</strong> The study employed randomization in assigning households to the pilot and control groups, which helps to mitigate confounding biases. Randomization is a key method to ensure that the groups are comparable and that any differences in outcomes can be attributed to the intervention (feedback on electricity consumption) rather than to confounding variables. Therefore, it is possible to conclude that the impact of the exposure (feedback) is less likely to be confounded in this study."
      ],
      "text/plain": [
       "<IPython.core.display.HTML object>"
      ]
     },
     "metadata": {},
     "output_type": "display_data"
    },
    {
     "data": {
      "text/html": [
       "<strong>Result:</strong> YES"
      ],
      "text/plain": [
       "<IPython.core.display.HTML object>"
      ]
     },
     "metadata": {},
     "output_type": "display_data"
    },
    {
     "data": {
      "text/html": [
       "<hr>"
      ],
      "text/plain": [
       "<IPython.core.display.HTML object>"
      ]
     },
     "metadata": {},
     "output_type": "display_data"
    },
    {
     "data": {
      "text/html": [
       "<h3>Response 12</h3>"
      ],
      "text/plain": [
       "<IPython.core.display.HTML object>"
      ]
     },
     "metadata": {},
     "output_type": "display_data"
    },
    {
     "data": {
      "text/html": [
       "<strong>File Name:</strong> Tiefenbeck, V (2013).md"
      ],
      "text/plain": [
       "<IPython.core.display.HTML object>"
      ]
     },
     "metadata": {},
     "output_type": "display_data"
    },
    {
     "data": {
      "text/html": [
       "<strong>Explanation:</strong> The study does not mention randomization as a method to control for confounding variables. Although it uses a controlled field experiment design, the assignment of apartments to treatment and control groups was not fully randomized, as one building was entirely assigned to the control group and another to the treatment group. This design could introduce confounding biases, as the groups may differ in ways that affect the outcomes, thus making it possible for the impact of the exposure or the effectiveness of the intervention to be confounded."
      ],
      "text/plain": [
       "<IPython.core.display.HTML object>"
      ]
     },
     "metadata": {},
     "output_type": "display_data"
    },
    {
     "data": {
      "text/html": [
       "<strong>Result:</strong> NO"
      ],
      "text/plain": [
       "<IPython.core.display.HTML object>"
      ]
     },
     "metadata": {},
     "output_type": "display_data"
    },
    {
     "data": {
      "text/html": [
       "<hr>"
      ],
      "text/plain": [
       "<IPython.core.display.HTML object>"
      ]
     },
     "metadata": {},
     "output_type": "display_data"
    }
   ],
   "source": [
    "# display_responses(responses_11)"
   ]
  },
  {
   "cell_type": "markdown",
   "id": "975346f6",
   "metadata": {},
   "source": [
    "### Criterion 1.2"
   ]
  },
  {
   "cell_type": "code",
   "execution_count": 35,
   "id": "a22b12f4",
   "metadata": {},
   "outputs": [
    {
     "data": {
      "text/html": [
       "\n",
       "# Answer the following question: \n",
       "\"Did the author(s) control for all the potential confounders?\"\n"
      ],
      "text/plain": [
       "<IPython.core.display.HTML object>"
      ]
     },
     "metadata": {},
     "output_type": "display_data"
    },
    {
     "data": {
      "text/html": [
       "<div>\n",
       "<style scoped>\n",
       "    .dataframe tbody tr th:only-of-type {\n",
       "        vertical-align: middle;\n",
       "    }\n",
       "\n",
       "    .dataframe tbody tr th {\n",
       "        vertical-align: top;\n",
       "    }\n",
       "\n",
       "    .dataframe thead th {\n",
       "        text-align: right;\n",
       "    }\n",
       "</style>\n",
       "<table border=\"1\" class=\"dataframe\">\n",
       "  <thead>\n",
       "    <tr style=\"text-align: right;\">\n",
       "      <th></th>\n",
       "      <th>names</th>\n",
       "      <th>criteria_1_2</th>\n",
       "      <th>criteria_1_2_human</th>\n",
       "    </tr>\n",
       "  </thead>\n",
       "  <tbody>\n",
       "    <tr>\n",
       "      <th>0</th>\n",
       "      <td>Allcott, H (2011).md</td>\n",
       "      <td>NO</td>\n",
       "      <td>no</td>\n",
       "    </tr>\n",
       "    <tr>\n",
       "      <th>1</th>\n",
       "      <td>Andor, Gerster, Peters, Schmidt, 2020.md</td>\n",
       "      <td>NO</td>\n",
       "      <td>no</td>\n",
       "    </tr>\n",
       "    <tr>\n",
       "      <th>2</th>\n",
       "      <td>Asensio, OI; Delmas, MA (2016).md</td>\n",
       "      <td>NO</td>\n",
       "      <td>yes</td>\n",
       "    </tr>\n",
       "    <tr>\n",
       "      <th>3</th>\n",
       "      <td>Ayres, Raseman, Shih, 2012.md</td>\n",
       "      <td>NO</td>\n",
       "      <td>no</td>\n",
       "    </tr>\n",
       "    <tr>\n",
       "      <th>4</th>\n",
       "      <td>Bager, S; Mundaca, L (2017).md</td>\n",
       "      <td>NO</td>\n",
       "      <td>no</td>\n",
       "    </tr>\n",
       "    <tr>\n",
       "      <th>5</th>\n",
       "      <td>Becker, LJ; Rabinowitz, VC; Seligman, C.md</td>\n",
       "      <td>NO</td>\n",
       "      <td>no</td>\n",
       "    </tr>\n",
       "    <tr>\n",
       "      <th>6</th>\n",
       "      <td>Carroll, J; Lyons, S; Denny, E (2014).md</td>\n",
       "      <td>NO</td>\n",
       "      <td>no</td>\n",
       "    </tr>\n",
       "    <tr>\n",
       "      <th>7</th>\n",
       "      <td>Houde, S; Todd, A; Sudarshan, A; Flora, JA; Ar...</td>\n",
       "      <td>NO</td>\n",
       "      <td>no</td>\n",
       "    </tr>\n",
       "    <tr>\n",
       "      <th>8</th>\n",
       "      <td>Matsukawa, I. (2018).md</td>\n",
       "      <td>NO</td>\n",
       "      <td>no</td>\n",
       "    </tr>\n",
       "    <tr>\n",
       "      <th>9</th>\n",
       "      <td>Nguyen, TTK; Shimada, K; Ochi, Y; Matsumoto, T...</td>\n",
       "      <td>NO</td>\n",
       "      <td>no</td>\n",
       "    </tr>\n",
       "    <tr>\n",
       "      <th>10</th>\n",
       "      <td>Schleich, J (2013).md</td>\n",
       "      <td>NO</td>\n",
       "      <td>yes</td>\n",
       "    </tr>\n",
       "    <tr>\n",
       "      <th>11</th>\n",
       "      <td>Tiefenbeck, V (2013).md</td>\n",
       "      <td>NO</td>\n",
       "      <td>yes</td>\n",
       "    </tr>\n",
       "  </tbody>\n",
       "</table>\n",
       "</div>"
      ],
      "text/plain": [
       "                                                names criteria_1_2  \\\n",
       "0                                Allcott, H (2011).md           NO   \n",
       "1            Andor, Gerster, Peters, Schmidt, 2020.md           NO   \n",
       "2                   Asensio, OI; Delmas, MA (2016).md           NO   \n",
       "3                       Ayres, Raseman, Shih, 2012.md           NO   \n",
       "4                      Bager, S; Mundaca, L (2017).md           NO   \n",
       "5          Becker, LJ; Rabinowitz, VC; Seligman, C.md           NO   \n",
       "6            Carroll, J; Lyons, S; Denny, E (2014).md           NO   \n",
       "7   Houde, S; Todd, A; Sudarshan, A; Flora, JA; Ar...           NO   \n",
       "8                             Matsukawa, I. (2018).md           NO   \n",
       "9   Nguyen, TTK; Shimada, K; Ochi, Y; Matsumoto, T...           NO   \n",
       "10                              Schleich, J (2013).md           NO   \n",
       "11                            Tiefenbeck, V (2013).md           NO   \n",
       "\n",
       "   criteria_1_2_human  \n",
       "0                  no  \n",
       "1                  no  \n",
       "2                 yes  \n",
       "3                  no  \n",
       "4                  no  \n",
       "5                  no  \n",
       "6                  no  \n",
       "7                  no  \n",
       "8                  no  \n",
       "9                  no  \n",
       "10                yes  \n",
       "11                yes  "
      ]
     },
     "metadata": {},
     "output_type": "display_data"
    }
   ],
   "source": [
    "display(HTML(criteria_1_2_prompt))\n",
    "responses_12 = extract_responses(\n",
    "    client=client,\n",
    "    plain_text_files=plain_text_files,\n",
    "    folder=folder,\n",
    "    model='gpt-4o-mini',\n",
    "    system_prompt=system_prompt,\n",
    "    criteria_background=criteria_1_background,\n",
    "    criteria_prompt=criteria_1_2_prompt\n",
    "    )\n",
    "test_results = add_results_to_dataframe(responses_12, 'criteria_1_2')"
   ]
  },
  {
   "cell_type": "markdown",
   "id": "a75bf159",
   "metadata": {},
   "source": [
    "### Criteria 1.3"
   ]
  },
  {
   "cell_type": "code",
   "execution_count": 37,
   "id": "393498d0",
   "metadata": {},
   "outputs": [
    {
     "data": {
      "text/html": [
       "\n",
       "# Answer the following question: \n",
       "# \"Is there any justifiable reason for not controlling for all the potential confounders (so that omission of some of the potential confounders is unlikely to influence the assessment of the effectiveness or impact)?\"\n",
       "# Consider the following:\n",
       "Respond with **YES** when there is evidence that omission of some of the potential confounders does not affect the assessment of effectiveness or impact. This may be the case if adjusting all potential confounders will lead to overadjustment, or an ‘instrumental variable’ is used for estimating the effectiveness or impact, etc. An instrumental variable is a variable that (1) is not associated with the confounder(s), (2) is associated with the intervention/exposure but (3) does not directly influence the outcome. If used appropriately, it enables valid estimation. \n"
      ],
      "text/plain": [
       "<IPython.core.display.HTML object>"
      ]
     },
     "metadata": {},
     "output_type": "display_data"
    },
    {
     "data": {
      "text/html": [
       "<div>\n",
       "<style scoped>\n",
       "    .dataframe tbody tr th:only-of-type {\n",
       "        vertical-align: middle;\n",
       "    }\n",
       "\n",
       "    .dataframe tbody tr th {\n",
       "        vertical-align: top;\n",
       "    }\n",
       "\n",
       "    .dataframe thead th {\n",
       "        text-align: right;\n",
       "    }\n",
       "</style>\n",
       "<table border=\"1\" class=\"dataframe\">\n",
       "  <thead>\n",
       "    <tr style=\"text-align: right;\">\n",
       "      <th></th>\n",
       "      <th>names</th>\n",
       "      <th>criteria_1_3</th>\n",
       "      <th>criteria_1_3_human</th>\n",
       "    </tr>\n",
       "  </thead>\n",
       "  <tbody>\n",
       "    <tr>\n",
       "      <th>0</th>\n",
       "      <td>Allcott, H (2011).md</td>\n",
       "      <td>NO</td>\n",
       "      <td>yes</td>\n",
       "    </tr>\n",
       "    <tr>\n",
       "      <th>1</th>\n",
       "      <td>Andor, Gerster, Peters, Schmidt, 2020.md</td>\n",
       "      <td>NO</td>\n",
       "      <td>no</td>\n",
       "    </tr>\n",
       "    <tr>\n",
       "      <th>2</th>\n",
       "      <td>Asensio, OI; Delmas, MA (2016).md</td>\n",
       "      <td>NO</td>\n",
       "      <td>no</td>\n",
       "    </tr>\n",
       "    <tr>\n",
       "      <th>3</th>\n",
       "      <td>Ayres, Raseman, Shih, 2012.md</td>\n",
       "      <td>NO</td>\n",
       "      <td>no</td>\n",
       "    </tr>\n",
       "    <tr>\n",
       "      <th>4</th>\n",
       "      <td>Bager, S; Mundaca, L (2017).md</td>\n",
       "      <td>NO</td>\n",
       "      <td>no</td>\n",
       "    </tr>\n",
       "    <tr>\n",
       "      <th>5</th>\n",
       "      <td>Becker, LJ; Rabinowitz, VC; Seligman, C.md</td>\n",
       "      <td>NO</td>\n",
       "      <td>yes</td>\n",
       "    </tr>\n",
       "    <tr>\n",
       "      <th>6</th>\n",
       "      <td>Carroll, J; Lyons, S; Denny, E (2014).md</td>\n",
       "      <td>NO</td>\n",
       "      <td>yes</td>\n",
       "    </tr>\n",
       "    <tr>\n",
       "      <th>7</th>\n",
       "      <td>Houde, S; Todd, A; Sudarshan, A; Flora, JA; Ar...</td>\n",
       "      <td>NO</td>\n",
       "      <td>no</td>\n",
       "    </tr>\n",
       "    <tr>\n",
       "      <th>8</th>\n",
       "      <td>Matsukawa, I. (2018).md</td>\n",
       "      <td>NO</td>\n",
       "      <td>yes</td>\n",
       "    </tr>\n",
       "    <tr>\n",
       "      <th>9</th>\n",
       "      <td>Nguyen, TTK; Shimada, K; Ochi, Y; Matsumoto, T...</td>\n",
       "      <td>NO</td>\n",
       "      <td>yes</td>\n",
       "    </tr>\n",
       "    <tr>\n",
       "      <th>10</th>\n",
       "      <td>Schleich, J (2013).md</td>\n",
       "      <td>NO</td>\n",
       "      <td>yes</td>\n",
       "    </tr>\n",
       "    <tr>\n",
       "      <th>11</th>\n",
       "      <td>Tiefenbeck, V (2013).md</td>\n",
       "      <td>NO</td>\n",
       "      <td>yes</td>\n",
       "    </tr>\n",
       "  </tbody>\n",
       "</table>\n",
       "</div>"
      ],
      "text/plain": [
       "                                                names criteria_1_3  \\\n",
       "0                                Allcott, H (2011).md           NO   \n",
       "1            Andor, Gerster, Peters, Schmidt, 2020.md           NO   \n",
       "2                   Asensio, OI; Delmas, MA (2016).md           NO   \n",
       "3                       Ayres, Raseman, Shih, 2012.md           NO   \n",
       "4                      Bager, S; Mundaca, L (2017).md           NO   \n",
       "5          Becker, LJ; Rabinowitz, VC; Seligman, C.md           NO   \n",
       "6            Carroll, J; Lyons, S; Denny, E (2014).md           NO   \n",
       "7   Houde, S; Todd, A; Sudarshan, A; Flora, JA; Ar...           NO   \n",
       "8                             Matsukawa, I. (2018).md           NO   \n",
       "9   Nguyen, TTK; Shimada, K; Ochi, Y; Matsumoto, T...           NO   \n",
       "10                              Schleich, J (2013).md           NO   \n",
       "11                            Tiefenbeck, V (2013).md           NO   \n",
       "\n",
       "   criteria_1_3_human  \n",
       "0                 yes  \n",
       "1                  no  \n",
       "2                  no  \n",
       "3                  no  \n",
       "4                  no  \n",
       "5                 yes  \n",
       "6                 yes  \n",
       "7                  no  \n",
       "8                 yes  \n",
       "9                 yes  \n",
       "10                yes  \n",
       "11                yes  "
      ]
     },
     "metadata": {},
     "output_type": "display_data"
    }
   ],
   "source": [
    "display(HTML(criteria_1_3_prompt))\n",
    "responses_13 = extract_responses(\n",
    "    client=client,\n",
    "    plain_text_files=plain_text_files,\n",
    "    folder=folder,\n",
    "    model='gpt-4o-mini',\n",
    "    system_prompt=system_prompt,\n",
    "    criteria_background=criteria_1_background,\n",
    "    criteria_prompt=criteria_1_3_prompt\n",
    "    )\n",
    "test_results = add_results_to_dataframe(responses_13, 'criteria_1_3')"
   ]
  },
  {
   "cell_type": "code",
   "execution_count": 46,
   "id": "d4d710c2",
   "metadata": {},
   "outputs": [
    {
     "data": {
      "text/html": [
       "<h3>Response 1</h3>"
      ],
      "text/plain": [
       "<IPython.core.display.HTML object>"
      ]
     },
     "metadata": {},
     "output_type": "display_data"
    },
    {
     "data": {
      "text/html": [
       "<strong>File Name:</strong> Allcott, H (2011).md"
      ],
      "text/plain": [
       "<IPython.core.display.HTML object>"
      ]
     },
     "metadata": {},
     "output_type": "display_data"
    },
    {
     "data": {
      "text/html": [
       "<strong>Explanation:</strong> The study does not provide justifiable reasons for not controlling for all potential confounders. While it mentions that baseline usage is balanced between treatment and control groups, it also acknowledges imbalances in three experiments that are difficult to explain. The lack of control for these potential confounders could lead to biased effect estimates, as the assumption of exchangeability between groups may not hold. Therefore, the omission of some confounders is likely to influence the assessment of effectiveness or impact."
      ],
      "text/plain": [
       "<IPython.core.display.HTML object>"
      ]
     },
     "metadata": {},
     "output_type": "display_data"
    },
    {
     "data": {
      "text/html": [
       "<strong>Result:</strong> NO"
      ],
      "text/plain": [
       "<IPython.core.display.HTML object>"
      ]
     },
     "metadata": {},
     "output_type": "display_data"
    },
    {
     "data": {
      "text/html": [
       "<hr>"
      ],
      "text/plain": [
       "<IPython.core.display.HTML object>"
      ]
     },
     "metadata": {},
     "output_type": "display_data"
    },
    {
     "data": {
      "text/html": [
       "<h3>Response 2</h3>"
      ],
      "text/plain": [
       "<IPython.core.display.HTML object>"
      ]
     },
     "metadata": {},
     "output_type": "display_data"
    },
    {
     "data": {
      "text/html": [
       "<strong>File Name:</strong> Andor, Gerster, Peters, Schmidt, 2020.md"
      ],
      "text/plain": [
       "<IPython.core.display.HTML object>"
      ]
     },
     "metadata": {},
     "output_type": "display_data"
    },
    {
     "data": {
      "text/html": [
       "<strong>Explanation:</strong> The study does not provide justifiable reasons for not controlling for all potential confounders. While it discusses the context-dependency of the results and acknowledges differences in baseline consumption levels, it does not indicate that the omission of certain confounders is unlikely to influence the assessment of effectiveness or impact. There is no mention of using instrumental variables or any other method that would validate the omission of confounders, which suggests that the potential for confounding bias remains unaddressed."
      ],
      "text/plain": [
       "<IPython.core.display.HTML object>"
      ]
     },
     "metadata": {},
     "output_type": "display_data"
    },
    {
     "data": {
      "text/html": [
       "<strong>Result:</strong> NO"
      ],
      "text/plain": [
       "<IPython.core.display.HTML object>"
      ]
     },
     "metadata": {},
     "output_type": "display_data"
    },
    {
     "data": {
      "text/html": [
       "<hr>"
      ],
      "text/plain": [
       "<IPython.core.display.HTML object>"
      ]
     },
     "metadata": {},
     "output_type": "display_data"
    },
    {
     "data": {
      "text/html": [
       "<h3>Response 3</h3>"
      ],
      "text/plain": [
       "<IPython.core.display.HTML object>"
      ]
     },
     "metadata": {},
     "output_type": "display_data"
    },
    {
     "data": {
      "text/html": [
       "<strong>File Name:</strong> Asensio, OI; Delmas, MA (2016).md"
      ],
      "text/plain": [
       "<IPython.core.display.HTML object>"
      ]
     },
     "metadata": {},
     "output_type": "display_data"
    },
    {
     "data": {
      "text/html": [
       "<strong>Explanation:</strong> The study does not provide justifiable reasons for not controlling for all potential confounders. While it mentions the use of randomization and some controls for household characteristics, it does not adequately address the potential impact of omitted confounders on the effectiveness or impact assessment. The presence of significant differences in baseline characteristics, such as membership in environmental organizations, suggests that unaccounted confounders could bias the results. Therefore, the omission of some potential confounders is likely to influence the assessment of effectiveness or impact."
      ],
      "text/plain": [
       "<IPython.core.display.HTML object>"
      ]
     },
     "metadata": {},
     "output_type": "display_data"
    },
    {
     "data": {
      "text/html": [
       "<strong>Result:</strong> NO"
      ],
      "text/plain": [
       "<IPython.core.display.HTML object>"
      ]
     },
     "metadata": {},
     "output_type": "display_data"
    },
    {
     "data": {
      "text/html": [
       "<hr>"
      ],
      "text/plain": [
       "<IPython.core.display.HTML object>"
      ]
     },
     "metadata": {},
     "output_type": "display_data"
    },
    {
     "data": {
      "text/html": [
       "<h3>Response 4</h3>"
      ],
      "text/plain": [
       "<IPython.core.display.HTML object>"
      ]
     },
     "metadata": {},
     "output_type": "display_data"
    },
    {
     "data": {
      "text/html": [
       "<strong>File Name:</strong> Ayres, Raseman, Shih, 2012.md"
      ],
      "text/plain": [
       "<IPython.core.display.HTML object>"
      ]
     },
     "metadata": {},
     "output_type": "display_data"
    },
    {
     "data": {
      "text/html": [
       "<strong>Explanation:</strong> The study does not provide justifiable reasons for not controlling for all potential confounders. While it mentions controlling for various household and demographic characteristics, it does not indicate that the omission of any confounders would not affect the assessment of effectiveness or impact. There is no evidence of using instrumental variables or any indication that overadjustment would occur. Therefore, the risk of confounding bias remains a concern."
      ],
      "text/plain": [
       "<IPython.core.display.HTML object>"
      ]
     },
     "metadata": {},
     "output_type": "display_data"
    },
    {
     "data": {
      "text/html": [
       "<strong>Result:</strong> NO"
      ],
      "text/plain": [
       "<IPython.core.display.HTML object>"
      ]
     },
     "metadata": {},
     "output_type": "display_data"
    },
    {
     "data": {
      "text/html": [
       "<hr>"
      ],
      "text/plain": [
       "<IPython.core.display.HTML object>"
      ]
     },
     "metadata": {},
     "output_type": "display_data"
    },
    {
     "data": {
      "text/html": [
       "<h3>Response 5</h3>"
      ],
      "text/plain": [
       "<IPython.core.display.HTML object>"
      ]
     },
     "metadata": {},
     "output_type": "display_data"
    },
    {
     "data": {
      "text/html": [
       "<strong>File Name:</strong> Bager, S; Mundaca, L (2017).md"
      ],
      "text/plain": [
       "<IPython.core.display.HTML object>"
      ]
     },
     "metadata": {},
     "output_type": "display_data"
    },
    {
     "data": {
      "text/html": [
       "<strong>Explanation:</strong> The study does not provide justifiable reasons for not controlling for all potential confounders. While it mentions the limitations of a pilot study and the small sample size, it does not indicate that the omission of certain confounders is unlikely to influence the assessment of effectiveness or impact. There is no evidence of using instrumental variables or any other method that would validate the omission of confounders, which means that the potential for confounding bias remains a concern."
      ],
      "text/plain": [
       "<IPython.core.display.HTML object>"
      ]
     },
     "metadata": {},
     "output_type": "display_data"
    },
    {
     "data": {
      "text/html": [
       "<strong>Result:</strong> NO"
      ],
      "text/plain": [
       "<IPython.core.display.HTML object>"
      ]
     },
     "metadata": {},
     "output_type": "display_data"
    },
    {
     "data": {
      "text/html": [
       "<hr>"
      ],
      "text/plain": [
       "<IPython.core.display.HTML object>"
      ]
     },
     "metadata": {},
     "output_type": "display_data"
    },
    {
     "data": {
      "text/html": [
       "<h3>Response 6</h3>"
      ],
      "text/plain": [
       "<IPython.core.display.HTML object>"
      ]
     },
     "metadata": {},
     "output_type": "display_data"
    },
    {
     "data": {
      "text/html": [
       "<strong>File Name:</strong> Becker, LJ; Rabinowitz, VC; Seligman, C.md"
      ],
      "text/plain": [
       "<IPython.core.display.HTML object>"
      ]
     },
     "metadata": {},
     "output_type": "display_data"
    },
    {
     "data": {
      "text/html": [
       "<strong>Explanation:</strong> The study does not provide justifiable reasons for not controlling for all potential confounders. It acknowledges the limitations of not being able to randomly assign customers to payment plans, which introduces self-selection bias. The authors did attempt to select control groups that were similar to treatment groups, but this does not eliminate the risk of confounding due to unmeasured variables that could influence both the intervention (average payment plans) and the outcome (energy consumption). Therefore, the omission of potential confounders is likely to influence the assessment of effectiveness or impact."
      ],
      "text/plain": [
       "<IPython.core.display.HTML object>"
      ]
     },
     "metadata": {},
     "output_type": "display_data"
    },
    {
     "data": {
      "text/html": [
       "<strong>Result:</strong> NO"
      ],
      "text/plain": [
       "<IPython.core.display.HTML object>"
      ]
     },
     "metadata": {},
     "output_type": "display_data"
    },
    {
     "data": {
      "text/html": [
       "<hr>"
      ],
      "text/plain": [
       "<IPython.core.display.HTML object>"
      ]
     },
     "metadata": {},
     "output_type": "display_data"
    },
    {
     "data": {
      "text/html": [
       "<h3>Response 7</h3>"
      ],
      "text/plain": [
       "<IPython.core.display.HTML object>"
      ]
     },
     "metadata": {},
     "output_type": "display_data"
    },
    {
     "data": {
      "text/html": [
       "<strong>File Name:</strong> Carroll, J; Lyons, S; Denny, E (2014).md"
      ],
      "text/plain": [
       "<IPython.core.display.HTML object>"
      ]
     },
     "metadata": {},
     "output_type": "display_data"
    },
    {
     "data": {
      "text/html": [
       "<strong>Explanation:</strong> The study does not provide justifiable reasons for not controlling for all potential confounders. While it discusses the effects of feedback and time-of-use tariffs on energy demand, it does not indicate that the omission of certain confounders would not influence the assessment of effectiveness or impact. The absence of evidence supporting the idea that adjusting for all potential confounders would lead to overadjustment or that an instrumental variable was used suggests that confounding biases may still be present, potentially distorting the effect estimates."
      ],
      "text/plain": [
       "<IPython.core.display.HTML object>"
      ]
     },
     "metadata": {},
     "output_type": "display_data"
    },
    {
     "data": {
      "text/html": [
       "<strong>Result:</strong> NO"
      ],
      "text/plain": [
       "<IPython.core.display.HTML object>"
      ]
     },
     "metadata": {},
     "output_type": "display_data"
    },
    {
     "data": {
      "text/html": [
       "<hr>"
      ],
      "text/plain": [
       "<IPython.core.display.HTML object>"
      ]
     },
     "metadata": {},
     "output_type": "display_data"
    },
    {
     "data": {
      "text/html": [
       "<h3>Response 8</h3>"
      ],
      "text/plain": [
       "<IPython.core.display.HTML object>"
      ]
     },
     "metadata": {},
     "output_type": "display_data"
    },
    {
     "data": {
      "text/html": [
       "<strong>File Name:</strong> Houde, S; Todd, A; Sudarshan, A; Flora, JA; Armel, KC (2013).md"
      ],
      "text/plain": [
       "<IPython.core.display.HTML object>"
      ]
     },
     "metadata": {},
     "output_type": "display_data"
    },
    {
     "data": {
      "text/html": [
       "<strong>Explanation:</strong> The study does not provide justifiable reasons for not controlling for all potential confounders. While it mentions that household characteristics do not explain heterogeneity in treatment effects, it does not demonstrate that the omission of these confounders is unlikely to influence the assessment of effectiveness or impact. There is no evidence of using instrumental variables or any other method that would validate the omission of confounders without biasing the results."
      ],
      "text/plain": [
       "<IPython.core.display.HTML object>"
      ]
     },
     "metadata": {},
     "output_type": "display_data"
    },
    {
     "data": {
      "text/html": [
       "<strong>Result:</strong> NO"
      ],
      "text/plain": [
       "<IPython.core.display.HTML object>"
      ]
     },
     "metadata": {},
     "output_type": "display_data"
    },
    {
     "data": {
      "text/html": [
       "<hr>"
      ],
      "text/plain": [
       "<IPython.core.display.HTML object>"
      ]
     },
     "metadata": {},
     "output_type": "display_data"
    },
    {
     "data": {
      "text/html": [
       "<h3>Response 9</h3>"
      ],
      "text/plain": [
       "<IPython.core.display.HTML object>"
      ]
     },
     "metadata": {},
     "output_type": "display_data"
    },
    {
     "data": {
      "text/html": [
       "<strong>File Name:</strong> Matsukawa, I. (2018).md"
      ],
      "text/plain": [
       "<IPython.core.display.HTML object>"
      ]
     },
     "metadata": {},
     "output_type": "display_data"
    },
    {
     "data": {
      "text/html": [
       "<strong>Explanation:</strong> The study does not provide sufficient evidence that the omission of potential confounders does not affect the assessment of effectiveness or impact. The text indicates potential selection bias due to differences in the selection process of treatment and control groups, and it assumes comparability of pre-experimental electricity usage without adequate data to support this assumption. Therefore, it cannot be concluded that the omission of confounders is justifiable."
      ],
      "text/plain": [
       "<IPython.core.display.HTML object>"
      ]
     },
     "metadata": {},
     "output_type": "display_data"
    },
    {
     "data": {
      "text/html": [
       "<strong>Result:</strong> NO"
      ],
      "text/plain": [
       "<IPython.core.display.HTML object>"
      ]
     },
     "metadata": {},
     "output_type": "display_data"
    },
    {
     "data": {
      "text/html": [
       "<hr>"
      ],
      "text/plain": [
       "<IPython.core.display.HTML object>"
      ]
     },
     "metadata": {},
     "output_type": "display_data"
    },
    {
     "data": {
      "text/html": [
       "<h3>Response 10</h3>"
      ],
      "text/plain": [
       "<IPython.core.display.HTML object>"
      ]
     },
     "metadata": {},
     "output_type": "display_data"
    },
    {
     "data": {
      "text/html": [
       "<strong>File Name:</strong> Nguyen, TTK; Shimada, K; Ochi, Y; Matsumoto, T; Matsugi, H; Awata, T (2016).md"
      ],
      "text/plain": [
       "<IPython.core.display.HTML object>"
      ]
     },
     "metadata": {},
     "output_type": "display_data"
    },
    {
     "data": {
      "text/html": [
       "<strong>Explanation:</strong> The study does not provide justifiable reasons for not controlling for all potential confounders. While it mentions controlling for several variables such as lifestyle factors and weather conditions, it does not indicate that the omission of any potential confounders is unlikely to influence the assessment of effectiveness or impact. There is no evidence of using instrumental variables or any rationale that suggests overadjustment would occur if additional confounders were included. Therefore, the risk of confounding bias remains a concern."
      ],
      "text/plain": [
       "<IPython.core.display.HTML object>"
      ]
     },
     "metadata": {},
     "output_type": "display_data"
    },
    {
     "data": {
      "text/html": [
       "<strong>Result:</strong> NO"
      ],
      "text/plain": [
       "<IPython.core.display.HTML object>"
      ]
     },
     "metadata": {},
     "output_type": "display_data"
    },
    {
     "data": {
      "text/html": [
       "<hr>"
      ],
      "text/plain": [
       "<IPython.core.display.HTML object>"
      ]
     },
     "metadata": {},
     "output_type": "display_data"
    },
    {
     "data": {
      "text/html": [
       "<h3>Response 11</h3>"
      ],
      "text/plain": [
       "<IPython.core.display.HTML object>"
      ]
     },
     "metadata": {},
     "output_type": "display_data"
    },
    {
     "data": {
      "text/html": [
       "<strong>File Name:</strong> Schleich, J (2013).md"
      ],
      "text/plain": [
       "<IPython.core.display.HTML object>"
      ]
     },
     "metadata": {},
     "output_type": "display_data"
    },
    {
     "data": {
      "text/html": [
       "<strong>Explanation:</strong> The study does not provide sufficient evidence that the omission of potential confounders does not affect the assessment of effectiveness or impact. While the authors control for a range of socio-economic factors and household characteristics, they do not justify the exclusion of other potential confounders that could influence both the intervention (feedback type) and the outcome (electricity consumption). The lack of a clear rationale for not controlling for all potential confounders raises concerns about the validity of the effect estimates, suggesting that confounding bias may be present."
      ],
      "text/plain": [
       "<IPython.core.display.HTML object>"
      ]
     },
     "metadata": {},
     "output_type": "display_data"
    },
    {
     "data": {
      "text/html": [
       "<strong>Result:</strong> NO"
      ],
      "text/plain": [
       "<IPython.core.display.HTML object>"
      ]
     },
     "metadata": {},
     "output_type": "display_data"
    },
    {
     "data": {
      "text/html": [
       "<hr>"
      ],
      "text/plain": [
       "<IPython.core.display.HTML object>"
      ]
     },
     "metadata": {},
     "output_type": "display_data"
    },
    {
     "data": {
      "text/html": [
       "<h3>Response 12</h3>"
      ],
      "text/plain": [
       "<IPython.core.display.HTML object>"
      ]
     },
     "metadata": {},
     "output_type": "display_data"
    },
    {
     "data": {
      "text/html": [
       "<strong>File Name:</strong> Tiefenbeck, V (2013).md"
      ],
      "text/plain": [
       "<IPython.core.display.HTML object>"
      ]
     },
     "metadata": {},
     "output_type": "display_data"
    },
    {
     "data": {
      "text/html": [
       "<strong>Explanation:</strong> The study does not provide justifiable reasons for not controlling for all potential confounders. While it mentions that income effects can be excluded, it does not adequately address other potential confounders that could influence both the intervention (water conservation) and the outcome (electricity consumption). The absence of a comprehensive control for confounders raises concerns about the validity of the effect estimates, as the study does not demonstrate that the omission of these confounders is unlikely to influence the assessment of effectiveness or impact."
      ],
      "text/plain": [
       "<IPython.core.display.HTML object>"
      ]
     },
     "metadata": {},
     "output_type": "display_data"
    },
    {
     "data": {
      "text/html": [
       "<strong>Result:</strong> NO"
      ],
      "text/plain": [
       "<IPython.core.display.HTML object>"
      ]
     },
     "metadata": {},
     "output_type": "display_data"
    },
    {
     "data": {
      "text/html": [
       "<hr>"
      ],
      "text/plain": [
       "<IPython.core.display.HTML object>"
      ]
     },
     "metadata": {},
     "output_type": "display_data"
    }
   ],
   "source": [
    "display_responses(responses_13)"
   ]
  },
  {
   "cell_type": "code",
   "execution_count": 84,
   "id": "ed4d53e5",
   "metadata": {},
   "outputs": [
    {
     "data": {
      "text/html": [
       "\n",
       "# Answer the following question\n",
       "\"Question 1.3: Is there any justifiable reason for not controlling for all the potential confounders (so that omission of some of the potential confounders is unlikely to influence the assessment of the effectiveness or impact)?\"\n"
      ],
      "text/plain": [
       "<IPython.core.display.HTML object>"
      ]
     },
     "metadata": {},
     "output_type": "display_data"
    }
   ],
   "source": [
    "display(HTML(criteria_1_3_prompt))\n",
    "# responses_1_all = extract_responses(\n",
    "#     client=client,\n",
    "#     plain_text_files=plain_text_files,\n",
    "#     folder=folder,\n",
    "#     model='gpt-4o-mini',\n",
    "#     system_prompt=joined_prompt,\n",
    "#     criteria_background=criteria_1_background,\n",
    "#     criteria_prompt=criteria_1_all_prompt\n",
    "#     )\n",
    "combined_results = create_combined_dataframe(responses_1_all)"
   ]
  },
  {
   "cell_type": "markdown",
   "id": "27f45827",
   "metadata": {},
   "source": []
  },
  {
   "cell_type": "code",
   "execution_count": 85,
   "id": "c6406f3d",
   "metadata": {},
   "outputs": [
    {
     "data": {
      "text/html": [
       "<div>\n",
       "<style scoped>\n",
       "    .dataframe tbody tr th:only-of-type {\n",
       "        vertical-align: middle;\n",
       "    }\n",
       "\n",
       "    .dataframe tbody tr th {\n",
       "        vertical-align: top;\n",
       "    }\n",
       "\n",
       "    .dataframe thead th {\n",
       "        text-align: right;\n",
       "    }\n",
       "</style>\n",
       "<table border=\"1\" class=\"dataframe\">\n",
       "  <thead>\n",
       "    <tr style=\"text-align: right;\">\n",
       "      <th></th>\n",
       "      <th>id</th>\n",
       "      <th>names</th>\n",
       "      <th>1.1</th>\n",
       "      <th>1.1_human</th>\n",
       "      <th>1.2</th>\n",
       "      <th>1.2_human</th>\n",
       "      <th>1.3</th>\n",
       "      <th>1.3_human</th>\n",
       "      <th>1.4</th>\n",
       "      <th>1.4_human</th>\n",
       "      <th>1.5</th>\n",
       "      <th>1.5_human</th>\n",
       "      <th>1.6</th>\n",
       "      <th>1.6_human</th>\n",
       "    </tr>\n",
       "  </thead>\n",
       "  <tbody>\n",
       "    <tr>\n",
       "      <th>0</th>\n",
       "      <td>1</td>\n",
       "      <td>Allcott, H (2011).md</td>\n",
       "      <td>YES</td>\n",
       "      <td>yes</td>\n",
       "      <td>NO</td>\n",
       "      <td>no</td>\n",
       "      <td>NO</td>\n",
       "      <td>yes</td>\n",
       "      <td>YES</td>\n",
       "      <td>yes</td>\n",
       "      <td>NO</td>\n",
       "      <td>yes</td>\n",
       "      <td>YES</td>\n",
       "      <td>yes</td>\n",
       "    </tr>\n",
       "    <tr>\n",
       "      <th>1</th>\n",
       "      <td>2</td>\n",
       "      <td>Andor, Gerster, Peters, Schmidt, 2020.md</td>\n",
       "      <td>YES</td>\n",
       "      <td>yes</td>\n",
       "      <td>NO</td>\n",
       "      <td>no</td>\n",
       "      <td>NO</td>\n",
       "      <td>no</td>\n",
       "      <td>YES</td>\n",
       "      <td>yes</td>\n",
       "      <td>NO</td>\n",
       "      <td>yes</td>\n",
       "      <td>YES</td>\n",
       "      <td>yes</td>\n",
       "    </tr>\n",
       "    <tr>\n",
       "      <th>2</th>\n",
       "      <td>3</td>\n",
       "      <td>Ayres, Raseman, Shih, 2012.md</td>\n",
       "      <td>YES</td>\n",
       "      <td>yes</td>\n",
       "      <td>NO</td>\n",
       "      <td>yes</td>\n",
       "      <td>NO</td>\n",
       "      <td>no</td>\n",
       "      <td>YES</td>\n",
       "      <td>yes</td>\n",
       "      <td>YES</td>\n",
       "      <td>yes</td>\n",
       "      <td>YES</td>\n",
       "      <td>yes</td>\n",
       "    </tr>\n",
       "    <tr>\n",
       "      <th>3</th>\n",
       "      <td>4</td>\n",
       "      <td>Bager, S; Mundaca, L (2017).md</td>\n",
       "      <td>YES</td>\n",
       "      <td>yes</td>\n",
       "      <td>NO</td>\n",
       "      <td>no</td>\n",
       "      <td>NO</td>\n",
       "      <td>no</td>\n",
       "      <td>NO</td>\n",
       "      <td>yes</td>\n",
       "      <td>NO</td>\n",
       "      <td>yes</td>\n",
       "      <td>YES</td>\n",
       "      <td>yes</td>\n",
       "    </tr>\n",
       "    <tr>\n",
       "      <th>4</th>\n",
       "      <td>5</td>\n",
       "      <td>Becker, LJ; Rabinowitz, VC; Seligman, C.md</td>\n",
       "      <td>YES</td>\n",
       "      <td>yes</td>\n",
       "      <td>NO</td>\n",
       "      <td>no</td>\n",
       "      <td>NO</td>\n",
       "      <td>no</td>\n",
       "      <td>YES</td>\n",
       "      <td>yes</td>\n",
       "      <td>NO</td>\n",
       "      <td>yes</td>\n",
       "      <td>YES</td>\n",
       "      <td>yes</td>\n",
       "    </tr>\n",
       "    <tr>\n",
       "      <th>5</th>\n",
       "      <td>6</td>\n",
       "      <td>Carroll, J; Lyons, S; Denny, E (2014).md</td>\n",
       "      <td>YES</td>\n",
       "      <td>no</td>\n",
       "      <td>NO</td>\n",
       "      <td>no</td>\n",
       "      <td>NO</td>\n",
       "      <td>yes</td>\n",
       "      <td>YES</td>\n",
       "      <td>yes</td>\n",
       "      <td>NO</td>\n",
       "      <td>yes</td>\n",
       "      <td>YES</td>\n",
       "      <td>no</td>\n",
       "    </tr>\n",
       "    <tr>\n",
       "      <th>6</th>\n",
       "      <td>7</td>\n",
       "      <td>Houde, S; Todd, A; Sudarshan, A; Flora, JA; Ar...</td>\n",
       "      <td>YES</td>\n",
       "      <td>yes</td>\n",
       "      <td>NO</td>\n",
       "      <td>no</td>\n",
       "      <td>NO</td>\n",
       "      <td>yes</td>\n",
       "      <td>YES</td>\n",
       "      <td>yes</td>\n",
       "      <td>NO</td>\n",
       "      <td>yes</td>\n",
       "      <td>YES</td>\n",
       "      <td>yes</td>\n",
       "    </tr>\n",
       "    <tr>\n",
       "      <th>7</th>\n",
       "      <td>8</td>\n",
       "      <td>Matsukawa, I. (2018).md</td>\n",
       "      <td>YES</td>\n",
       "      <td>yes</td>\n",
       "      <td>NO</td>\n",
       "      <td>no</td>\n",
       "      <td>NO</td>\n",
       "      <td>no</td>\n",
       "      <td>YES</td>\n",
       "      <td>yes</td>\n",
       "      <td>YES</td>\n",
       "      <td>yes</td>\n",
       "      <td>YES</td>\n",
       "      <td>yes</td>\n",
       "    </tr>\n",
       "    <tr>\n",
       "      <th>8</th>\n",
       "      <td>9</td>\n",
       "      <td>Nguyen, TTK; Shimada, K; Ochi, Y; Matsumoto, T...</td>\n",
       "      <td>YES</td>\n",
       "      <td>yes</td>\n",
       "      <td>NO</td>\n",
       "      <td>no</td>\n",
       "      <td>NO</td>\n",
       "      <td>yes</td>\n",
       "      <td>YES</td>\n",
       "      <td>yes</td>\n",
       "      <td>NO</td>\n",
       "      <td>yes</td>\n",
       "      <td>UNKNOWN</td>\n",
       "      <td>yes</td>\n",
       "    </tr>\n",
       "    <tr>\n",
       "      <th>9</th>\n",
       "      <td>10</td>\n",
       "      <td>Schleich, J (2013).md</td>\n",
       "      <td>YES</td>\n",
       "      <td>yes</td>\n",
       "      <td>NO</td>\n",
       "      <td>no</td>\n",
       "      <td>NO</td>\n",
       "      <td>yes</td>\n",
       "      <td>YES</td>\n",
       "      <td>yes</td>\n",
       "      <td>YES</td>\n",
       "      <td>yes</td>\n",
       "      <td>YES</td>\n",
       "      <td>yes</td>\n",
       "    </tr>\n",
       "    <tr>\n",
       "      <th>10</th>\n",
       "      <td>11</td>\n",
       "      <td>Tiefenbeck, V (2013).md</td>\n",
       "      <td>YES</td>\n",
       "      <td>yes</td>\n",
       "      <td>NO</td>\n",
       "      <td>yes</td>\n",
       "      <td>NO</td>\n",
       "      <td>yes</td>\n",
       "      <td>YES</td>\n",
       "      <td>yes</td>\n",
       "      <td>NO</td>\n",
       "      <td>yes</td>\n",
       "      <td>YES</td>\n",
       "      <td>yes</td>\n",
       "    </tr>\n",
       "  </tbody>\n",
       "</table>\n",
       "</div>"
      ],
      "text/plain": [
       "    id                                              names  1.1 1.1_human 1.2  \\\n",
       "0    1                               Allcott, H (2011).md  YES       yes  NO   \n",
       "1    2           Andor, Gerster, Peters, Schmidt, 2020.md  YES       yes  NO   \n",
       "2    3                      Ayres, Raseman, Shih, 2012.md  YES       yes  NO   \n",
       "3    4                     Bager, S; Mundaca, L (2017).md  YES       yes  NO   \n",
       "4    5         Becker, LJ; Rabinowitz, VC; Seligman, C.md  YES       yes  NO   \n",
       "5    6           Carroll, J; Lyons, S; Denny, E (2014).md  YES        no  NO   \n",
       "6    7  Houde, S; Todd, A; Sudarshan, A; Flora, JA; Ar...  YES       yes  NO   \n",
       "7    8                            Matsukawa, I. (2018).md  YES       yes  NO   \n",
       "8    9  Nguyen, TTK; Shimada, K; Ochi, Y; Matsumoto, T...  YES       yes  NO   \n",
       "9   10                              Schleich, J (2013).md  YES       yes  NO   \n",
       "10  11                            Tiefenbeck, V (2013).md  YES       yes  NO   \n",
       "\n",
       "   1.2_human 1.3 1.3_human  1.4 1.4_human  1.5 1.5_human      1.6 1.6_human  \n",
       "0         no  NO       yes  YES       yes   NO       yes      YES       yes  \n",
       "1         no  NO        no  YES       yes   NO       yes      YES       yes  \n",
       "2        yes  NO        no  YES       yes  YES       yes      YES       yes  \n",
       "3         no  NO        no   NO       yes   NO       yes      YES       yes  \n",
       "4         no  NO        no  YES       yes   NO       yes      YES       yes  \n",
       "5         no  NO       yes  YES       yes   NO       yes      YES        no  \n",
       "6         no  NO       yes  YES       yes   NO       yes      YES       yes  \n",
       "7         no  NO        no  YES       yes  YES       yes      YES       yes  \n",
       "8         no  NO       yes  YES       yes   NO       yes  UNKNOWN       yes  \n",
       "9         no  NO       yes  YES       yes  YES       yes      YES       yes  \n",
       "10       yes  NO       yes  YES       yes   NO       yes      YES       yes  "
      ]
     },
     "execution_count": 85,
     "metadata": {},
     "output_type": "execute_result"
    }
   ],
   "source": [
    "combined_results"
   ]
  },
  {
   "cell_type": "code",
   "execution_count": null,
   "id": "0ee530aa",
   "metadata": {},
   "outputs": [],
   "source": [
    "\n"
   ]
  }
 ],
 "metadata": {
  "kernelspec": {
   "display_name": "openai",
   "language": "python",
   "name": "python3"
  },
  "language_info": {
   "codemirror_mode": {
    "name": "ipython",
    "version": 3
   },
   "file_extension": ".py",
   "mimetype": "text/x-python",
   "name": "python",
   "nbconvert_exporter": "python",
   "pygments_lexer": "ipython3",
   "version": "3.13.7"
  }
 },
 "nbformat": 4,
 "nbformat_minor": 5
}
